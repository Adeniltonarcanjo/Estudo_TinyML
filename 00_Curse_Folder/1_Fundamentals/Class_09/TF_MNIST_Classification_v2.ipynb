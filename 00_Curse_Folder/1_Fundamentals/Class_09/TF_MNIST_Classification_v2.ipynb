{
 "cells": [
  {
   "cell_type": "markdown",
   "metadata": {
    "id": "Zo2JiEtkzvQL"
   },
   "source": [
    "# Digit Classification using Dense Neural Network (DNN) - Version 2 \n",
    " - Using validation and test data "
   ]
  },
  {
   "cell_type": "markdown",
   "metadata": {
    "id": "ZLLenukpg6VN"
   },
   "source": [
    "## ==> Verify on Runtime tab if GPU is active on Runtime type"
   ]
  },
  {
   "cell_type": "markdown",
   "metadata": {
    "id": "z56YN3JZ0Duh"
   },
   "source": [
    "## Import Libraries"
   ]
  },
  {
   "cell_type": "code",
   "execution_count": 1,
   "metadata": {
    "id": "YfPnR74Gzc_q"
   },
   "outputs": [],
   "source": [
    "import numpy as np\n",
    "import matplotlib.pyplot as plt\n",
    "import tensorflow as tf"
   ]
  },
  {
   "cell_type": "markdown",
   "metadata": {
    "id": "xrGLDV6q0PCc"
   },
   "source": [
    "## Upload and Explore Dataset\n",
    "[MNIST](http://yann.lecun.com/exdb/mnist/) handwritten digits dataset\n",
    "\n",
    "The MNIST database of handwritten digits, is also available from this [TF page](https://www.tensorflow.org/api_docs/python/tf/keras/datasets/mnist/load_data), has a training set of 60,000 28x28 grayscale images of the 10 digits along a test set of 10,000 images. It is a subset of a larger set available from NIST. The digits have been size-normalized and centered in a fixed-size image.\n"
   ]
  },
  {
   "cell_type": "code",
   "execution_count": 2,
   "metadata": {
    "id": "Ib2Ihepx0N6h"
   },
   "outputs": [],
   "source": [
    "data = tf.keras.datasets.mnist\n",
    "\n",
    "(tt_images, tt_labels), (test_images, test_labels) = data.load_data()"
   ]
  },
  {
   "cell_type": "code",
   "execution_count": 3,
   "metadata": {
    "id": "78pNLabSX-LF"
   },
   "outputs": [
    {
     "name": "stdout",
     "output_type": "stream",
     "text": [
      "(60000, 28, 28)\n",
      "(60000,)\n"
     ]
    }
   ],
   "source": [
    "print(tt_images.shape)\n",
    "print(tt_labels.shape)"
   ]
  },
  {
   "cell_type": "code",
   "execution_count": 4,
   "metadata": {
    "id": "qHaUYnSs4bq4"
   },
   "outputs": [
    {
     "name": "stdout",
     "output_type": "stream",
     "text": [
      "(10000, 28, 28)\n",
      "(10000,)\n"
     ]
    }
   ],
   "source": [
    "print(test_images.shape)\n",
    "print(test_labels.shape)"
   ]
  },
  {
   "cell_type": "code",
   "execution_count": 5,
   "metadata": {
    "id": "fzQgqFXcXSba"
   },
   "outputs": [
    {
     "data": {
      "text/plain": [
       "array([5, 0, 4, 1, 9, 2, 1, 3, 1, 4], dtype=uint8)"
      ]
     },
     "execution_count": 5,
     "metadata": {},
     "output_type": "execute_result"
    }
   ],
   "source": [
    "tt_labels[:10]"
   ]
  },
  {
   "cell_type": "code",
   "execution_count": 6,
   "metadata": {
    "id": "IEmBmJqGYMpv"
   },
   "outputs": [
    {
     "data": {
      "image/png": "[encoded data removed]",
      "text/plain": [
       "<Figure size 432x288 with 1 Axes>"
      ]
     },
     "metadata": {
      "needs_background": "light"
     },
     "output_type": "display_data"
    }
   ],
   "source": [
    "plt.hist(tt_labels);\n",
    "plt.hist(test_labels);"
   ]
  },
  {
   "cell_type": "code",
   "execution_count": 7,
   "metadata": {
    "id": "u_e88OtBak7n"
   },
   "outputs": [],
   "source": [
    "val_images = tt_images[:10000]\n",
    "val_labels = tt_labels[:10000]"
   ]
  },
  {
   "cell_type": "code",
   "execution_count": 8,
   "metadata": {
    "id": "MtTSlX3TaDqj"
   },
   "outputs": [],
   "source": [
    "train_images = tt_images[10000:]\n",
    "train_labels = tt_labels[10000:]"
   ]
  },
  {
   "cell_type": "code",
   "execution_count": 9,
   "metadata": {
    "id": "pq1bMIRd38b8"
   },
   "outputs": [
    {
     "name": "stdout",
     "output_type": "stream",
     "text": [
      "(50000, 28, 28)\n",
      "(50000,)\n"
     ]
    }
   ],
   "source": [
    "print(train_images.shape)\n",
    "print(train_labels.shape)"
   ]
  },
  {
   "cell_type": "code",
   "execution_count": 10,
   "metadata": {
    "id": "Nj2dTT44awxD"
   },
   "outputs": [
    {
     "name": "stdout",
     "output_type": "stream",
     "text": [
      "(10000, 28, 28)\n",
      "(10000,)\n"
     ]
    }
   ],
   "source": [
    "print(val_images.shape)\n",
    "print(val_labels.shape)"
   ]
  },
  {
   "cell_type": "code",
   "execution_count": 11,
   "metadata": {
    "id": "8N4sFgGLaXYQ"
   },
   "outputs": [
    {
     "data": {
      "image/png": "[encoded data removed]",
      "text/plain": [
       "<Figure size 432x288 with 1 Axes>"
      ]
     },
     "metadata": {
      "needs_background": "light"
     },
     "output_type": "display_data"
    }
   ],
   "source": [
    "plt.hist(train_labels, alpha=0.5, label='Train')\n",
    "plt.hist(test_labels, alpha=0.5, label='Val')\n",
    "plt.hist(val_labels, alpha=0.5, label='Test');"
   ]
  },
  {
   "cell_type": "code",
   "execution_count": 12,
   "metadata": {
    "id": "zyaS6AgJd9_q"
   },
   "outputs": [
    {
     "name": "stdout",
     "output_type": "stream",
     "text": [
      "     Label of image 1000 is: 9\n"
     ]
    },
    {
     "data": {
      "image/png": "[encoded data removed]",
      "text/plain": [
       "<Figure size 432x288 with 1 Axes>"
      ]
     },
     "metadata": {
      "needs_background": "light"
     },
     "output_type": "display_data"
    }
   ],
   "source": [
    "img = 1000\n",
    "print(\"     Label of image {} is: {}\".format(img, test_labels[img]))\n",
    "plt.imshow(test_images[img], cmap='gray');"
   ]
  },
  {
   "cell_type": "markdown",
   "metadata": {
    "id": "0-H0LwB_7von"
   },
   "source": [
    "### Preprocessing Data \n",
    "\n",
    "**Normalizing Data**: \n",
    "We notice that all of the values in the number are between 0 and 255. If we are training a neural network, for various reasons it's easier if we treat all values as between 0 and 1, a process called 'normalizing'."
   ]
  },
  {
   "cell_type": "code",
   "execution_count": 13,
   "metadata": {
    "id": "uZrGVMsH0X3F"
   },
   "outputs": [],
   "source": [
    "train_images  = train_images / 255.0\n",
    "val_images = val_images / 255.0\n",
    "test_images = test_images / 255.0"
   ]
  },
  {
   "cell_type": "markdown",
   "metadata": {
    "id": "pYMsyOk8-xnf"
   },
   "source": [
    "## Define and Compile Model"
   ]
  },
  {
   "cell_type": "code",
   "execution_count": 14,
   "metadata": {
    "id": "dEdoqWl28dB3"
   },
   "outputs": [
    {
     "name": "stdout",
     "output_type": "stream",
     "text": [
      "Model: \"sequential\"\n",
      "_________________________________________________________________\n",
      " Layer (type)                Output Shape              Param #   \n",
      "=================================================================\n",
      " flatten (Flatten)           (None, 784)               0         \n",
      "                                                                 \n",
      " dense (Dense)               (None, 20)                15700     \n",
      "                                                                 \n",
      " dense_1 (Dense)             (None, 10)                210       \n",
      "                                                                 \n",
      "=================================================================\n",
      "Total params: 15,910\n",
      "Trainable params: 15,910\n",
      "Non-trainable params: 0\n",
      "_________________________________________________________________\n"
     ]
    }
   ],
   "source": [
    "model = tf.keras.models.Sequential([tf.keras.layers.Flatten(input_shape=(28,28)),\n",
    "                                    tf.keras.layers.Dense(20, activation=tf.nn.relu),\n",
    "                                    tf.keras.layers.Dense(10, activation=tf.nn.softmax)])\n",
    "model.summary()"
   ]
  },
  {
   "cell_type": "code",
   "execution_count": 15,
   "metadata": {
    "id": "Qr_eCKjGbtOt"
   },
   "outputs": [],
   "source": [
    "from tensorflow.keras.models import Sequential\n",
    "from tensorflow.keras.layers import Flatten, Dense"
   ]
  },
  {
   "cell_type": "code",
   "execution_count": 16,
   "metadata": {
    "id": "xJz_2NgwcIiZ"
   },
   "outputs": [
    {
     "name": "stdout",
     "output_type": "stream",
     "text": [
      "Model: \"sequential_1\"\n",
      "_________________________________________________________________\n",
      " Layer (type)                Output Shape              Param #   \n",
      "=================================================================\n",
      " flatten_1 (Flatten)         (None, 784)               0         \n",
      "                                                                 \n",
      " dense_2 (Dense)             (None, 20)                15700     \n",
      "                                                                 \n",
      " dense_3 (Dense)             (None, 10)                210       \n",
      "                                                                 \n",
      "=================================================================\n",
      "Total params: 15,910\n",
      "Trainable params: 15,910\n",
      "Non-trainable params: 0\n",
      "_________________________________________________________________\n"
     ]
    }
   ],
   "source": [
    "model = Sequential([Flatten(input_shape=(28,28)),\n",
    "                    Dense(20, activation='relu'),\n",
    "                    Dense(10, activation='softmax')])\n",
    "model.summary()"
   ]
  },
  {
   "cell_type": "code",
   "execution_count": 17,
   "metadata": {
    "id": "ECBeHUKacZ_4"
   },
   "outputs": [
    {
     "name": "stdout",
     "output_type": "stream",
     "text": [
      "Model: \"sequential_2\"\n",
      "_________________________________________________________________\n",
      " Layer (type)                Output Shape              Param #   \n",
      "=================================================================\n",
      " flatten_2 (Flatten)         (None, 784)               0         \n",
      "                                                                 \n",
      " dense_4 (Dense)             (None, 20)                15700     \n",
      "                                                                 \n",
      " dense_5 (Dense)             (None, 10)                210       \n",
      "                                                                 \n",
      "=================================================================\n",
      "Total params: 15,910\n",
      "Trainable params: 15,910\n",
      "Non-trainable params: 0\n",
      "_________________________________________________________________\n"
     ]
    }
   ],
   "source": [
    "model = Sequential()\n",
    "model.add(Flatten(input_shape=(28,28)))\n",
    "#model.add(Dense(20, activation='relu'))\n",
    "model.add(Dense(20, activation='relu'))\n",
    "model.add(Dense(10, activation='softmax'))\n",
    "model.summary()"
   ]
  },
  {
   "cell_type": "code",
   "execution_count": 18,
   "metadata": {
    "id": "qQjO9CvIbdar"
   },
   "outputs": [],
   "source": [
    "def create_model():\n",
    "  model = Sequential()\n",
    "  model.add(Flatten(input_shape=(28,28)))\n",
    "  model.add(Dense(20, activation='relu'))\n",
    "  model.add(Dense(10, activation='softmax')) \n",
    "  return model "
   ]
  },
  {
   "cell_type": "code",
   "execution_count": 19,
   "metadata": {
    "id": "X920NSLjbsNp"
   },
   "outputs": [],
   "source": [
    "model = create_model()"
   ]
  },
  {
   "cell_type": "code",
   "execution_count": 20,
   "metadata": {
    "id": "NA21O9Y0_BJ7"
   },
   "outputs": [],
   "source": [
    "model.compile(\n",
    "    optimizer='adam', # uses default learning_rate=0.001\n",
    "    loss='sparse_categorical_crossentropy',\n",
    "    metrics=['accuracy']\n",
    "    )"
   ]
  },
  {
   "cell_type": "code",
   "execution_count": 21,
   "metadata": {
    "id": "Z7BSHPohdZ-Y"
   },
   "outputs": [],
   "source": [
    "from tensorflow.keras.optimizers import Adam, SGD"
   ]
  },
  {
   "cell_type": "code",
   "execution_count": 22,
   "metadata": {
    "id": "l_d2yHsqf_JI"
   },
   "outputs": [],
   "source": [
    "opt = Adam(learning_rate=0.01)\n",
    "model.compile(\n",
    "    optimizer=opt,\n",
    "    loss='sparse_categorical_crossentropy',\n",
    "    metrics=['accuracy']\n",
    "    )"
   ]
  },
  {
   "cell_type": "markdown",
   "metadata": {
    "id": "pJZ4fvT3_yd7"
   },
   "source": [
    "## Train the model"
   ]
  },
  {
   "cell_type": "markdown",
   "metadata": {
    "id": "jL6QDHJnGDm6"
   },
   "source": [
    "You could leave the training data with all samples, and alternativelly use: \n",
    "- `validation_split=0.1` instead of `validation_data=(val_images, val_labels)`.\n",
    "\n",
    "In this case, TF will split the validation data by itself. "
   ]
  },
  {
   "cell_type": "code",
   "execution_count": 25,
   "metadata": {
    "id": "RxklrX_R_uvn"
   },
   "outputs": [
    {
     "name": "stdout",
     "output_type": "stream",
     "text": [
      "Epoch 1/30\n",
      "1563/1563 [==============================] - 3s 2ms/step - loss: 0.1598 - accuracy: 0.9531 - val_loss: 0.2651 - val_accuracy: 0.9335\n",
      "Epoch 2/30\n",
      "1563/1563 [==============================] - 3s 2ms/step - loss: 0.1566 - accuracy: 0.9536 - val_loss: 0.2670 - val_accuracy: 0.9359\n",
      "Epoch 3/30\n",
      "1563/1563 [==============================] - 3s 2ms/step - loss: 0.1577 - accuracy: 0.9530 - val_loss: 0.2476 - val_accuracy: 0.9401\n",
      "Epoch 4/30\n",
      "1563/1563 [==============================] - 3s 2ms/step - loss: 0.1565 - accuracy: 0.9534 - val_loss: 0.2559 - val_accuracy: 0.9390\n",
      "Epoch 5/30\n",
      "1563/1563 [==============================] - 3s 2ms/step - loss: 0.1513 - accuracy: 0.9549 - val_loss: 0.2722 - val_accuracy: 0.9350\n",
      "Epoch 6/30\n",
      "1563/1563 [==============================] - 4s 2ms/step - loss: 0.1547 - accuracy: 0.9540 - val_loss: 0.2611 - val_accuracy: 0.9378\n",
      "Epoch 7/30\n",
      "1563/1563 [==============================] - 3s 2ms/step - loss: 0.1521 - accuracy: 0.9551 - val_loss: 0.2504 - val_accuracy: 0.9399\n",
      "Epoch 8/30\n",
      "1563/1563 [==============================] - 3s 2ms/step - loss: 0.1508 - accuracy: 0.9551 - val_loss: 0.2824 - val_accuracy: 0.9364\n",
      "Epoch 9/30\n",
      "1563/1563 [==============================] - 3s 2ms/step - loss: 0.1495 - accuracy: 0.9553 - val_loss: 0.2680 - val_accuracy: 0.9369\n",
      "Epoch 10/30\n",
      "1563/1563 [==============================] - 3s 2ms/step - loss: 0.1491 - accuracy: 0.9551 - val_loss: 0.2833 - val_accuracy: 0.9338\n",
      "Epoch 11/30\n",
      "1563/1563 [==============================] - 3s 2ms/step - loss: 0.1486 - accuracy: 0.9556 - val_loss: 0.2901 - val_accuracy: 0.9360\n",
      "Epoch 12/30\n",
      "1563/1563 [==============================] - 4s 2ms/step - loss: 0.1465 - accuracy: 0.9559 - val_loss: 0.2791 - val_accuracy: 0.9375\n",
      "Epoch 13/30\n",
      "1563/1563 [==============================] - 3s 2ms/step - loss: 0.1483 - accuracy: 0.9564 - val_loss: 0.2753 - val_accuracy: 0.9366\n",
      "Epoch 14/30\n",
      "1563/1563 [==============================] - 4s 2ms/step - loss: 0.1484 - accuracy: 0.9559 - val_loss: 0.2913 - val_accuracy: 0.9356\n",
      "Epoch 15/30\n",
      "1563/1563 [==============================] - 4s 2ms/step - loss: 0.1477 - accuracy: 0.9556 - val_loss: 0.3094 - val_accuracy: 0.9281\n",
      "Epoch 16/30\n",
      "1563/1563 [==============================] - 3s 2ms/step - loss: 0.1467 - accuracy: 0.9560 - val_loss: 0.2795 - val_accuracy: 0.9354\n",
      "Epoch 17/30\n",
      "1563/1563 [==============================] - 3s 2ms/step - loss: 0.1441 - accuracy: 0.9568 - val_loss: 0.3008 - val_accuracy: 0.9342\n",
      "Epoch 18/30\n",
      "1563/1563 [==============================] - 3s 2ms/step - loss: 0.1433 - accuracy: 0.9561 - val_loss: 0.2915 - val_accuracy: 0.9368\n",
      "Epoch 19/30\n",
      "1563/1563 [==============================] - 3s 2ms/step - loss: 0.1446 - accuracy: 0.9570 - val_loss: 0.3407 - val_accuracy: 0.9285\n",
      "Epoch 20/30\n",
      "1563/1563 [==============================] - 4s 3ms/step - loss: 0.1417 - accuracy: 0.9586 - val_loss: 0.3110 - val_accuracy: 0.9364\n",
      "Epoch 21/30\n",
      "1563/1563 [==============================] - 5s 3ms/step - loss: 0.1447 - accuracy: 0.9572 - val_loss: 0.3127 - val_accuracy: 0.9345\n",
      "Epoch 22/30\n",
      "1563/1563 [==============================] - 5s 3ms/step - loss: 0.1406 - accuracy: 0.9580 - val_loss: 0.3116 - val_accuracy: 0.9366\n",
      "Epoch 23/30\n",
      "1563/1563 [==============================] - 6s 4ms/step - loss: 0.1448 - accuracy: 0.9568 - val_loss: 0.2954 - val_accuracy: 0.9338\n",
      "Epoch 24/30\n",
      "1563/1563 [==============================] - 6s 4ms/step - loss: 0.1404 - accuracy: 0.9579 - val_loss: 0.3362 - val_accuracy: 0.9320\n",
      "Epoch 25/30\n",
      "1563/1563 [==============================] - 5s 3ms/step - loss: 0.1397 - accuracy: 0.9588 - val_loss: 0.3171 - val_accuracy: 0.9332\n",
      "Epoch 26/30\n",
      "1563/1563 [==============================] - 5s 3ms/step - loss: 0.1469 - accuracy: 0.9563 - val_loss: 0.3326 - val_accuracy: 0.9322\n",
      "Epoch 27/30\n",
      "1563/1563 [==============================] - 6s 4ms/step - loss: 0.1377 - accuracy: 0.9596 - val_loss: 0.3243 - val_accuracy: 0.9328\n",
      "Epoch 28/30\n",
      "1563/1563 [==============================] - 4s 3ms/step - loss: 0.1386 - accuracy: 0.9589 - val_loss: 0.3156 - val_accuracy: 0.9372\n",
      "Epoch 29/30\n",
      "1563/1563 [==============================] - 4s 2ms/step - loss: 0.1383 - accuracy: 0.9586 - val_loss: 0.3415 - val_accuracy: 0.9321\n",
      "Epoch 30/30\n",
      "1563/1563 [==============================] - 4s 2ms/step - loss: 0.1371 - accuracy: 0.9590 - val_loss: 0.3159 - val_accuracy: 0.9393\n"
     ]
    }
   ],
   "source": [
    "history = model.fit(\n",
    "    train_images, \n",
    "    train_labels, \n",
    "    epochs=30, \n",
    "    validation_data=(val_images, val_labels) \n",
    "    )"
   ]
  },
  {
   "cell_type": "markdown",
   "metadata": {
    "id": "0xAXSo5-HCIo"
   },
   "source": [
    "Inspecting the model"
   ]
  },
  {
   "cell_type": "code",
   "execution_count": 26,
   "metadata": {
    "id": "g6qHpwg8BpZi"
   },
   "outputs": [
    {
     "data": {
      "image/png": "[encoded data removed]",
      "text/plain": [
       "<Figure size 432x288 with 1 Axes>"
      ]
     },
     "metadata": {
      "needs_background": "light"
     },
     "output_type": "display_data"
    }
   ],
   "source": [
    "plt.plot(history.history['accuracy'], label='accuracy')\n",
    "plt.plot(history.history['val_accuracy'], label='val_accuracy')\n",
    "plt.title('Model Accuracy')\n",
    "plt.ylabel('accuracy')\n",
    "plt.xlabel('epoch')\n",
    "plt.legend(loc='upper left')\n",
    "plt.show()"
   ]
  },
  {
   "cell_type": "markdown",
   "metadata": {
    "id": "CF1jssVyel8D"
   },
   "source": [
    "If validation accuracy seems “instable”, could be that Learning Rate is high (try to reduce it). \n",
    "\n",
    "Let's start over with a lower Lr (for exampe: 0.0001)"
   ]
  },
  {
   "cell_type": "code",
   "execution_count": 27,
   "metadata": {
    "id": "21HE2qcnbMCf"
   },
   "outputs": [
    {
     "name": "stdout",
     "output_type": "stream",
     "text": [
      "Epoch 1/20\n",
      "1563/1563 [==============================] - 4s 2ms/step - loss: 0.4249 - accuracy: 0.8833 - val_loss: 0.2463 - val_accuracy: 0.9309\n",
      "Epoch 2/20\n",
      "1563/1563 [==============================] - 3s 2ms/step - loss: 0.2293 - accuracy: 0.9340 - val_loss: 0.1997 - val_accuracy: 0.9421\n",
      "Epoch 3/20\n",
      "1563/1563 [==============================] - 3s 2ms/step - loss: 0.1929 - accuracy: 0.9435 - val_loss: 0.1903 - val_accuracy: 0.9453\n",
      "Epoch 4/20\n",
      "1563/1563 [==============================] - 3s 2ms/step - loss: 0.1708 - accuracy: 0.9503 - val_loss: 0.1724 - val_accuracy: 0.9510\n",
      "Epoch 5/20\n",
      "1563/1563 [==============================] - 3s 2ms/step - loss: 0.1554 - accuracy: 0.9548 - val_loss: 0.1649 - val_accuracy: 0.9524\n",
      "Epoch 6/20\n",
      "1563/1563 [==============================] - 3s 2ms/step - loss: 0.1421 - accuracy: 0.9580 - val_loss: 0.1597 - val_accuracy: 0.9531\n",
      "Epoch 7/20\n",
      "1563/1563 [==============================] - 4s 2ms/step - loss: 0.1335 - accuracy: 0.9612 - val_loss: 0.1518 - val_accuracy: 0.9557\n",
      "Epoch 8/20\n",
      "1563/1563 [==============================] - 4s 2ms/step - loss: 0.1247 - accuracy: 0.9637 - val_loss: 0.1487 - val_accuracy: 0.9546\n",
      "Epoch 9/20\n",
      "1563/1563 [==============================] - 3s 2ms/step - loss: 0.1184 - accuracy: 0.9648 - val_loss: 0.1499 - val_accuracy: 0.9550\n",
      "Epoch 10/20\n",
      "1563/1563 [==============================] - 3s 2ms/step - loss: 0.1121 - accuracy: 0.9661 - val_loss: 0.1523 - val_accuracy: 0.9547\n",
      "Epoch 11/20\n",
      "1563/1563 [==============================] - 3s 2ms/step - loss: 0.1071 - accuracy: 0.9681 - val_loss: 0.1510 - val_accuracy: 0.9570\n",
      "Epoch 12/20\n",
      "1563/1563 [==============================] - 3s 2ms/step - loss: 0.1020 - accuracy: 0.9694 - val_loss: 0.1462 - val_accuracy: 0.9552\n",
      "Epoch 13/20\n",
      "1563/1563 [==============================] - 3s 2ms/step - loss: 0.0977 - accuracy: 0.9711 - val_loss: 0.1442 - val_accuracy: 0.9582\n",
      "Epoch 14/20\n",
      "1563/1563 [==============================] - 3s 2ms/step - loss: 0.0947 - accuracy: 0.9714 - val_loss: 0.1445 - val_accuracy: 0.9582\n",
      "Epoch 15/20\n",
      "1563/1563 [==============================] - 3s 2ms/step - loss: 0.0912 - accuracy: 0.9719 - val_loss: 0.1510 - val_accuracy: 0.9566\n",
      "Epoch 16/20\n",
      "1563/1563 [==============================] - 3s 2ms/step - loss: 0.0890 - accuracy: 0.9723 - val_loss: 0.1445 - val_accuracy: 0.9572\n",
      "Epoch 17/20\n",
      "1563/1563 [==============================] - 3s 2ms/step - loss: 0.0856 - accuracy: 0.9740 - val_loss: 0.1536 - val_accuracy: 0.9555\n",
      "Epoch 18/20\n",
      "1563/1563 [==============================] - 3s 2ms/step - loss: 0.0826 - accuracy: 0.9748 - val_loss: 0.1527 - val_accuracy: 0.9584\n",
      "Epoch 19/20\n",
      "1563/1563 [==============================] - 3s 2ms/step - loss: 0.0799 - accuracy: 0.9759 - val_loss: 0.1486 - val_accuracy: 0.9572\n",
      "Epoch 20/20\n",
      "1563/1563 [==============================] - 3s 2ms/step - loss: 0.0767 - accuracy: 0.9774 - val_loss: 0.1514 - val_accuracy: 0.9576\n"
     ]
    }
   ],
   "source": [
    "opt = Adam(learning_rate=0.001)\n",
    "\n",
    "model = create_model()\n",
    "model.compile(\n",
    "    optimizer=opt,\n",
    "    loss='sparse_categorical_crossentropy',\n",
    "    metrics=['accuracy']\n",
    "    )\n",
    "\n",
    "history = model.fit(\n",
    "    train_images, \n",
    "    train_labels, \n",
    "    epochs=20, \n",
    "    validation_data=(val_images, val_labels) \n",
    "    )"
   ]
  },
  {
   "cell_type": "code",
   "execution_count": 28,
   "metadata": {
    "id": "DYlZ1ZNrcrGC"
   },
   "outputs": [
    {
     "data": {
      "image/png": "[encoded data removed]",
      "text/plain": [
       "<Figure size 432x288 with 1 Axes>"
      ]
     },
     "metadata": {
      "needs_background": "light"
     },
     "output_type": "display_data"
    }
   ],
   "source": [
    "plt.plot(history.history['accuracy'], label='accuracy')\n",
    "plt.plot(history.history['val_accuracy'], label='val_accuracy')\n",
    "plt.title('Model Accuracy')\n",
    "plt.ylabel('accuracy')\n",
    "plt.xlabel('epoch')\n",
    "plt.legend(loc='upper left')\n",
    "plt.show()"
   ]
  },
  {
   "cell_type": "markdown",
   "metadata": {
    "id": "JYHTdEJVH0tZ"
   },
   "source": [
    "## Testing the trained model\n"
   ]
  },
  {
   "cell_type": "code",
   "execution_count": 29,
   "metadata": {
    "id": "QBuJGqbSH6xT"
   },
   "outputs": [
    {
     "name": "stdout",
     "output_type": "stream",
     "text": [
      "313/313 [==============================] - 1s 2ms/step - loss: 0.1540 - accuracy: 0.9579\n"
     ]
    },
    {
     "data": {
      "text/plain": [
       "[0.1540250927209854, 0.9578999876976013]"
      ]
     },
     "execution_count": 29,
     "metadata": {},
     "output_type": "execute_result"
    }
   ],
   "source": [
    "model.evaluate(test_images, test_labels)"
   ]
  },
  {
   "cell_type": "markdown",
   "metadata": {
    "id": "WVZcgwAQHZMl"
   },
   "source": [
    "**Accuracy**\n",
    "- Train: 0.97; \n",
    "- Validation: 0.96 \n",
    "- Test: 0.95"
   ]
  },
  {
   "cell_type": "code",
   "execution_count": 30,
   "metadata": {
    "id": "rvNEv5BPIwPE"
   },
   "outputs": [
    {
     "data": {
      "image/png": "[encoded data removed]",
      "text/plain": [
       "<Figure size 432x288 with 1 Axes>"
      ]
     },
     "metadata": {
      "needs_background": "light"
     },
     "output_type": "display_data"
    }
   ],
   "source": [
    "plt.imshow(test_images[0]);"
   ]
  },
  {
   "cell_type": "code",
   "execution_count": 31,
   "metadata": {
    "id": "ysGu1V_PJ28-"
   },
   "outputs": [
    {
     "name": "stdout",
     "output_type": "stream",
     "text": [
      "7\n"
     ]
    }
   ],
   "source": [
    "print(test_labels[0])"
   ]
  },
  {
   "cell_type": "code",
   "execution_count": 32,
   "metadata": {
    "id": "tkaTLMaTIbIL"
   },
   "outputs": [
    {
     "name": "stdout",
     "output_type": "stream",
     "text": [
      "313/313 [==============================] - 1s 1ms/step\n",
      "[7.9531094e-07 4.8082649e-10 2.4879162e-08 5.1680114e-04 2.1484227e-12\n",
      " 2.0510804e-04 1.0435346e-16 9.9926037e-01 6.1953151e-06 1.0662018e-05]\n"
     ]
    }
   ],
   "source": [
    "predictions = model.predict(test_images)\n",
    "print(predictions[0])"
   ]
  },
  {
   "cell_type": "code",
   "execution_count": 33,
   "metadata": {
    "id": "yjenS2EZJH6h"
   },
   "outputs": [
    {
     "data": {
      "text/plain": [
       "7"
      ]
     },
     "execution_count": 33,
     "metadata": {},
     "output_type": "execute_result"
    }
   ],
   "source": [
    "# Returns the indices of the maximum values along an axis.\n",
    "np.argmax(predictions[0])"
   ]
  },
  {
   "cell_type": "code",
   "execution_count": 34,
   "metadata": {
    "id": "JeEgVvBTIx8z"
   },
   "outputs": [
    {
     "data": {
      "text/plain": [
       "(10000,)"
      ]
     },
     "execution_count": 34,
     "metadata": {},
     "output_type": "execute_result"
    }
   ],
   "source": [
    "predictions = np.argmax(predictions, axis=-1)\n",
    "predictions.shape"
   ]
  },
  {
   "cell_type": "code",
   "execution_count": 35,
   "metadata": {
    "id": "8N2zUFaZJIUF"
   },
   "outputs": [
    {
     "data": {
      "text/plain": [
       "array([7, 2, 1, 0, 4, 1, 4, 9, 5, 9], dtype=int64)"
      ]
     },
     "execution_count": 35,
     "metadata": {},
     "output_type": "execute_result"
    }
   ],
   "source": [
    "predictions[:10]"
   ]
  },
  {
   "cell_type": "code",
   "execution_count": 36,
   "metadata": {
    "id": "VP0iVCbHHzDI"
   },
   "outputs": [
    {
     "name": "stdout",
     "output_type": "stream",
     "text": [
      "              precision    recall  f1-score   support\n",
      "\n",
      "           0       0.97      0.98      0.97       980\n",
      "           1       0.98      0.98      0.98      1135\n",
      "           2       0.96      0.96      0.96      1032\n",
      "           3       0.96      0.93      0.95      1010\n",
      "           4       0.96      0.96      0.96       982\n",
      "           5       0.92      0.96      0.94       892\n",
      "           6       0.95      0.97      0.96       958\n",
      "           7       0.98      0.95      0.96      1028\n",
      "           8       0.93      0.95      0.94       974\n",
      "           9       0.96      0.93      0.95      1009\n",
      "\n",
      "    accuracy                           0.96     10000\n",
      "   macro avg       0.96      0.96      0.96     10000\n",
      "weighted avg       0.96      0.96      0.96     10000\n",
      "\n"
     ]
    }
   ],
   "source": [
    "from sklearn.metrics import classification_report,confusion_matrix\n",
    "\n",
    "print(classification_report(test_labels, predictions))"
   ]
  },
  {
   "cell_type": "code",
   "execution_count": 37,
   "metadata": {
    "id": "RqQ4K-KqJYWe"
   },
   "outputs": [
    {
     "data": {
      "text/plain": [
       "array([[ 959,    0,    3,    1,    1,    4,    8,    2,    2,    0],\n",
       "       [   0, 1112,    4,    0,    0,    2,    5,    0,   12,    0],\n",
       "       [   8,    2,  987,    4,    3,    1,    6,    3,   17,    1],\n",
       "       [   2,    0,   15,  944,    0,   31,    1,    6,    7,    4],\n",
       "       [   3,    0,    3,    1,  943,    2,    8,    3,    5,   14],\n",
       "       [   2,    1,    1,    9,    0,  860,   10,    0,    7,    2],\n",
       "       [   8,    3,    1,    1,    3,   12,  927,    0,    3,    0],\n",
       "       [   2,    8,   10,    9,    3,    0,    0,  977,    3,   16],\n",
       "       [   5,    1,    3,    6,    6,   10,    8,    2,  930,    3],\n",
       "       [   2,    6,    1,    5,   24,   15,    1,    5,   10,  940]],\n",
       "      dtype=int64)"
      ]
     },
     "execution_count": 37,
     "metadata": {},
     "output_type": "execute_result"
    }
   ],
   "source": [
    "confusion_matrix(test_labels,predictions)"
   ]
  },
  {
   "cell_type": "code",
   "execution_count": 38,
   "metadata": {
    "id": "WaXyFJffLLLY"
   },
   "outputs": [
    {
     "data": {
      "image/png": "[encoded data removed]",
      "text/plain": [
       "<Figure size 1080x576 with 2 Axes>"
      ]
     },
     "metadata": {
      "needs_background": "light"
     },
     "output_type": "display_data"
    }
   ],
   "source": [
    "import seaborn as sns\n",
    "plt.figure(figsize=(15,8))\n",
    "sns.heatmap(confusion_matrix(test_labels,predictions), cmap=\"Blues\", annot=True, fmt='g');\n",
    "plt.title('Confusion Matrix')\n",
    "plt.xlabel(\"Predictions\")\n",
    "plt.ylabel(\"Real values\")\n",
    "plt.show()"
   ]
  },
  {
   "cell_type": "code",
   "execution_count": 39,
   "metadata": {
    "id": "g1PyVPkhRx01"
   },
   "outputs": [],
   "source": [
    "model.save('MNIST_v2_model.h5')"
   ]
  },
  {
   "cell_type": "markdown",
   "metadata": {
    "id": "754rc-kPR7zH"
   },
   "source": [
    "Use [Netron](https://netron.app) to visualize the model, hyperparameters, tensor shapes, etc. Netron is a viewer for neural network, deep learning and machine learning models (See [GitHub](https://github.com/lutzroeder/netron) for instructions about instalation in your desktop). "
   ]
  },
  {
   "cell_type": "code",
   "execution_count": null,
   "metadata": {
    "id": "qFYKoEpsSCF8"
   },
   "outputs": [],
   "source": []
  }
 ],
 "metadata": {
  "accelerator": "GPU",
  "colab": {
   "collapsed_sections": [],
   "name": "TF_MNIST_Classification_v2.ipynb",
   "provenance": []
  },
  "kernelspec": {
   "display_name": "Python 3 (ipykernel)",
   "language": "python",
   "name": "python3"
  },
  "language_info": {
   "codemirror_mode": {
    "name": "ipython",
    "version": 3
   },
   "file_extension": ".py",
   "mimetype": "text/x-python",
   "name": "python",
   "nbconvert_exporter": "python",
   "pygments_lexer": "ipython3",
   "version": "3.9.12"
  }
 },
 "nbformat": 4,
 "nbformat_minor": 1
}
