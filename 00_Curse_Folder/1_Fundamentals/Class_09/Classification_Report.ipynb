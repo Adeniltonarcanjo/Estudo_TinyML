{
 "cells": [
  {
   "cell_type": "code",
   "execution_count": 1,
   "metadata": {
    "id": "IjL6WJDZtlBZ"
   },
   "outputs": [],
   "source": [
    "from sklearn.metrics import classification_report"
   ]
  },
  {
   "cell_type": "code",
   "execution_count": 2,
   "metadata": {
    "id": "bQ99YgDZt7W9"
   },
   "outputs": [],
   "source": [
    "actual = [1, 1, 1, 1, 1, 1, 1, 1, 0, 0, 0, 0]\n",
    "prediction = [0, 0, 1, 1, 1, 1, 1, 1, 0, 0, 0, 1]"
   ]
  },
  {
   "cell_type": "code",
   "execution_count": 3,
   "metadata": {
    "id": "-4ct_XqjuZ36"
   },
   "outputs": [],
   "source": [
    "target_names = ['Dogs', 'Cats']"
   ]
  },
  {
   "cell_type": "code",
   "execution_count": 4,
   "metadata": {
    "id": "vhvS6tvmuh6h"
   },
   "outputs": [
    {
     "name": "stdout",
     "output_type": "stream",
     "text": [
      "              precision    recall  f1-score   support\n",
      "\n",
      "        Dogs       0.60      0.75      0.67         4\n",
      "        Cats       0.86      0.75      0.80         8\n",
      "\n",
      "    accuracy                           0.75        12\n",
      "   macro avg       0.73      0.75      0.73        12\n",
      "weighted avg       0.77      0.75      0.76        12\n",
      "\n"
     ]
    }
   ],
   "source": [
    "print(classification_report(actual, prediction, target_names=target_names))"
   ]
  },
  {
   "cell_type": "code",
   "execution_count": null,
   "metadata": {
    "id": "sUJwh0bcvEMw"
   },
   "outputs": [],
   "source": []
  }
 ],
 "metadata": {
  "colab": {
   "name": "Classification_Report.ipynb",
   "provenance": []
  },
  "kernelspec": {
   "display_name": "Python 3 (ipykernel)",
   "language": "python",
   "name": "python3"
  },
  "language_info": {
   "codemirror_mode": {
    "name": "ipython",
    "version": 3
   },
   "file_extension": ".py",
   "mimetype": "text/x-python",
   "name": "python",
   "nbconvert_exporter": "python",
   "pygments_lexer": "ipython3",
   "version": "3.9.12"
  }
 },
 "nbformat": 4,
 "nbformat_minor": 1
}
