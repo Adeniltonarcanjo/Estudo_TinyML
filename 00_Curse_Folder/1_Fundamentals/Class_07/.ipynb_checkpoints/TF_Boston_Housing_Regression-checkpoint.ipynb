{
 "cells": [
  {
   "cell_type": "markdown",
   "metadata": {
    "id": "Zo2JiEtkzvQL"
   },
   "source": [
    "# House Pricing Regression using Dense Neural Network (DNN) "
   ]
  },
  {
   "cell_type": "markdown",
   "metadata": {
    "id": "z56YN3JZ0Duh"
   },
   "source": [
    "## Import Libraries"
   ]
  },
  {
   "cell_type": "code",
   "execution_count": 1,
   "metadata": {
    "id": "YfPnR74Gzc_q"
   },
   "outputs": [],
   "source": [
    "import numpy as np\n",
    "import matplotlib.pyplot as plt\n",
    "import tensorflow as tf"
   ]
  },
  {
   "cell_type": "markdown",
   "metadata": {
    "id": "xrGLDV6q0PCc"
   },
   "source": [
    "## Upload and Explore Dataset\n",
    "[The Boston house-price data](http://lib.stat.cmu.edu/datasets/boston) \n",
    "* This is a dataset taken from the StatLib library which is maintained at Carnegie Mellon University.\n",
    "* There are 506 samples, each one with 13 attributes (Features `Xi` from 0 to 12) of houses at different locations around the Boston suburbs in the late 1970s. The attributes themselves are defined in the StatLib website (as per capta crime rate in the area, number of rooms, distance  from employemment center, etc).\n",
    "- Target (`Y`) is the median values of the houses at a location (in USD 1,000).\n",
    "\n",
    "**Goal**\n",
    "*  Our goal is to build a regression model that takes these **13 features as input** and **output a single value prediction** of the \"median value of owner-occupied homes (in USD 1000).\"\n",
    "* Dataset can be download direct from: [tf.keras.datasets.boston_housing](https://www.tensorflow.org/api_docs/python/tf/keras/datasets/boston_housing/load_data)\n"
   ]
  },
  {
   "cell_type": "code",
   "execution_count": 2,
   "metadata": {
    "id": "Ib2Ihepx0N6h"
   },
   "outputs": [],
   "source": [
    "data = tf.keras.datasets.boston_housing\n",
    "\n",
    "(x_train, y_train), (x_test, y_test) = data.load_data()"
   ]
  },
  {
   "cell_type": "code",
   "execution_count": 3,
   "metadata": {
    "id": "pq1bMIRd38b8"
   },
   "outputs": [
    {
     "name": "stdout",
     "output_type": "stream",
     "text": [
      "(404, 13)\n",
      "(404,)\n"
     ]
    }
   ],
   "source": [
    "print(x_train.shape)\n",
    "print(y_train.shape)"
   ]
  },
  {
   "cell_type": "code",
   "execution_count": 4,
   "metadata": {
    "id": "qHaUYnSs4bq4"
   },
   "outputs": [
    {
     "name": "stdout",
     "output_type": "stream",
     "text": [
      "(102,)\n",
      "(102,)\n"
     ]
    }
   ],
   "source": [
    "print(y_test.shape)\n",
    "print(y_test.shape)"
   ]
  },
  {
   "cell_type": "markdown",
   "metadata": {
    "id": "44ENgGg2Qudp"
   },
   "source": [
    "### Exploring Target (Y)"
   ]
  },
  {
   "cell_type": "code",
   "execution_count": 5,
   "metadata": {
    "id": "imESCCOODh8K"
   },
   "outputs": [
    {
     "data": {
      "text/plain": [
       "array([15.2, 42.3, 50. , 21.1, 17.7, 18.5, 11.3, 15.6, 15.6, 14.4, 12.1,\n",
       "       17.9, 23.1, 19.9, 15.7,  8.8, 50. , 22.5, 24.1, 27.5, 10.9, 30.8,\n",
       "       32.9, 24. , 18.5, 13.3, 22.9, 34.7, 16.6, 17.5, 22.3, 16.1, 14.9,\n",
       "       23.1, 34.9, 25. , 13.9, 13.1, 20.4, 20. , 15.2, 24.7, 22.2, 16.7,\n",
       "       12.7, 15.6, 18.4, 21. , 30.1, 15.1, 18.7,  9.6, 31.5, 24.8, 19.1,\n",
       "       22. , 14.5, 11. , 32. , 29.4, 20.3, 24.4, 14.6, 19.5, 14.1, 14.3,\n",
       "       15.6, 10.5,  6.3, 19.3, 19.3, 13.4, 36.4, 17.8, 13.5, 16.5,  8.3,\n",
       "       14.3, 16. , 13.4, 28.6, 43.5, 20.2, 22. , 23. , 20.7, 12.5, 48.5,\n",
       "       14.6, 13.4, 23.7, 50. , 21.7, 39.8, 38.7, 22.2, 34.9, 22.5, 31.1,\n",
       "       28.7, 46. , 41.7, 21. , 26.6, 15. , 24.4, 13.3, 21.2, 11.7, 21.7,\n",
       "       19.4, 50. , 22.8, 19.7, 24.7, 36.2, 14.2, 18.9, 18.3, 20.6, 24.6,\n",
       "       18.2,  8.7, 44. , 10.4, 13.2, 21.2, 37. , 30.7, 22.9, 20. , 19.3,\n",
       "       31.7, 32. , 23.1, 18.8, 10.9, 50. , 19.6,  5. , 14.4, 19.8, 13.8,\n",
       "       19.6, 23.9, 24.5, 25. , 19.9, 17.2, 24.6, 13.5, 26.6, 21.4, 11.9,\n",
       "       22.6, 19.6,  8.5, 23.7, 23.1, 22.4, 20.5, 23.6, 18.4, 35.2, 23.1,\n",
       "       27.9, 20.6, 23.7, 28. , 13.6, 27.1, 23.6, 20.6, 18.2, 21.7, 17.1,\n",
       "        8.4, 25.3, 13.8, 22.2, 18.4, 20.7, 31.6, 30.5, 20.3,  8.8, 19.2,\n",
       "       19.4, 23.1, 23. , 14.8, 48.8, 22.6, 33.4, 21.1, 13.6, 32.2, 13.1,\n",
       "       23.4, 18.9, 23.9, 11.8, 23.3, 22.8, 19.6, 16.7, 13.4, 22.2, 20.4,\n",
       "       21.8, 26.4, 14.9, 24.1, 23.8, 12.3, 29.1, 21. , 19.5, 23.3, 23.8,\n",
       "       17.8, 11.5, 21.7, 19.9, 25. , 33.4, 28.5, 21.4, 24.3, 27.5, 33.1,\n",
       "       16.2, 23.3, 48.3, 22.9, 22.8, 13.1, 12.7, 22.6, 15. , 15.3, 10.5,\n",
       "       24. , 18.5, 21.7, 19.5, 33.2, 23.2,  5. , 19.1, 12.7, 22.3, 10.2,\n",
       "       13.9, 16.3, 17. , 20.1, 29.9, 17.2, 37.3, 45.4, 17.8, 23.2, 29. ,\n",
       "       22. , 18. , 17.4, 34.6, 20.1, 25. , 15.6, 24.8, 28.2, 21.2, 21.4,\n",
       "       23.8, 31. , 26.2, 17.4, 37.9, 17.5, 20. ,  8.3, 23.9,  8.4, 13.8,\n",
       "        7.2, 11.7, 17.1, 21.6, 50. , 16.1, 20.4, 20.6, 21.4, 20.6, 36.5,\n",
       "        8.5, 24.8, 10.8, 21.9, 17.3, 18.9, 36.2, 14.9, 18.2, 33.3, 21.8,\n",
       "       19.7, 31.6, 24.8, 19.4, 22.8,  7.5, 44.8, 16.8, 18.7, 50. , 50. ,\n",
       "       19.5, 20.1, 50. , 17.2, 20.8, 19.3, 41.3, 20.4, 20.5, 13.8, 16.5,\n",
       "       23.9, 20.6, 31.5, 23.3, 16.8, 14. , 33.8, 36.1, 12.8, 18.3, 18.7,\n",
       "       19.1, 29. , 30.1, 50. , 50. , 22. , 11.9, 37.6, 50. , 22.7, 20.8,\n",
       "       23.5, 27.9, 50. , 19.3, 23.9, 22.6, 15.2, 21.7, 19.2, 43.8, 20.3,\n",
       "       33.2, 19.9, 22.5, 32.7, 22. , 17.1, 19. , 15. , 16.1, 25.1, 23.7,\n",
       "       28.7, 37.2, 22.6, 16.4, 25. , 29.8, 22.1, 17.4, 18.1, 30.3, 17.5,\n",
       "       24.7, 12.6, 26.5, 28.7, 13.3, 10.4, 24.4, 23. , 20. , 17.8,  7. ,\n",
       "       11.8, 24.4, 13.8, 19.4, 25.2, 19.4, 19.4, 29.1])"
      ]
     },
     "execution_count": 5,
     "metadata": {},
     "output_type": "execute_result"
    }
   ],
   "source": [
    "y_train"
   ]
  },
  {
   "cell_type": "code",
   "execution_count": 6,
   "metadata": {
    "id": "82O77YHNybhA"
   },
   "outputs": [
    {
     "name": "stdout",
     "output_type": "stream",
     "text": [
      "Min price in $K:   5.0\n",
      "Max price in $K:   22.4\n",
      "Mean price in $K:  50.0\n"
     ]
    }
   ],
   "source": [
    "print('Min price in $K:  ',y_train.min())\n",
    "print('Max price in $K:  ',round(y_train.mean(),2))\n",
    "print('Mean price in $K: ',y_train.max())\n"
   ]
  },
  {
   "cell_type": "code",
   "execution_count": 13,
   "metadata": {
    "id": "1SCj8H9rysOM"
   },
   "outputs": [
    {
     "data": {
      "image/png": "[encoded data removed]",
      "text/plain": [
       "<Figure size 432x288 with 1 Axes>"
      ]
     },
     "metadata": {
      "needs_background": "light"
     },
     "output_type": "display_data"
    }
   ],
   "source": [
    "#histograma\n",
    "plt.hist(y_train, label='train')\n",
    "plt.hist(y_test, label = 'test')\n",
    "plt.xlabel('Price in K$')\n",
    "plt.legend();"
   ]
  },
  {
   "cell_type": "code",
   "execution_count": 14,
   "metadata": {
    "id": "qyfWBrrW9gAd"
   },
   "outputs": [
    {
     "data": {
      "text/plain": [
       "15.2"
      ]
     },
     "execution_count": 14,
     "metadata": {},
     "output_type": "execute_result"
    }
   ],
   "source": [
    "y_train[0]"
   ]
  },
  {
   "cell_type": "code",
   "execution_count": 15,
   "metadata": {
    "id": "TMu0y_Az4hRr"
   },
   "outputs": [
    {
     "data": {
      "text/plain": [
       "array([  1.23247,   0.     ,   8.14   ,   0.     ,   0.538  ,   6.142  ,\n",
       "        91.7    ,   3.9769 ,   4.     , 307.     ,  21.     , 396.9    ,\n",
       "        18.72   ])"
      ]
     },
     "execution_count": 15,
     "metadata": {},
     "output_type": "execute_result"
    }
   ],
   "source": [
    "x_train[0]"
   ]
  },
  {
   "cell_type": "markdown",
   "metadata": {
    "id": "_M47lzg7z3vI"
   },
   "source": [
    "### Exploring Input Features (X)"
   ]
  },
  {
   "cell_type": "code",
   "execution_count": 16,
   "metadata": {
    "id": "sgy3E-Y7D__F"
   },
   "outputs": [
    {
     "name": "stdout",
     "output_type": "stream",
     "text": [
      "Feature 0 ==> range from 0.00632 to 88.9762\n",
      "Feature 1 ==> range from 0.0 to 100.0\n",
      "Feature 2 ==> range from 0.46 to 27.74\n",
      "Feature 3 ==> range from 0.0 to 1.0\n",
      "Feature 4 ==> range from 0.385 to 0.871\n",
      "Feature 5 ==> range from 3.561 to 8.725\n",
      "Feature 6 ==> range from 2.9 to 100.0\n",
      "Feature 7 ==> range from 1.1296 to 10.7103\n",
      "Feature 8 ==> range from 1.0 to 24.0\n",
      "Feature 9 ==> range from 188.0 to 711.0\n",
      "Feature 10 ==> range from 12.6 to 22.0\n",
      "Feature 11 ==> range from 0.32 to 396.9\n",
      "Feature 12 ==> range from 1.73 to 37.97\n"
     ]
    }
   ],
   "source": [
    "for i in range(len(x_train[0])):\n",
    "  print(\"Feature {} ==> range from {} to {}\".format(\n",
    "      i, x_train[:,i].min(), x_train[:,i].max()\n",
    "      )\n",
    "  )"
   ]
  },
  {
   "cell_type": "code",
   "execution_count": 17,
   "metadata": {
    "id": "hXAskOWeGHSx"
   },
   "outputs": [
    {
     "data": {
      "image/png": "[encoded data removed]",
      "text/plain": [
       "<Figure size 432x288 with 1 Axes>"
      ]
     },
     "metadata": {
      "needs_background": "light"
     },
     "output_type": "display_data"
    }
   ],
   "source": [
    "feature = 1\n",
    "plt.hist(x_train[:,feature], label='train')\n",
    "plt.hist(x_test[:,feature], label = 'test')\n",
    "plt.legend();"
   ]
  },
  {
   "cell_type": "code",
   "execution_count": 18,
   "metadata": {
    "id": "btqWSp9dSrCB"
   },
   "outputs": [
    {
     "name": "stdout",
     "output_type": "stream",
     "text": [
      "711.0\n",
      "0.0\n"
     ]
    }
   ],
   "source": [
    "print (x_train.max())\n",
    "print (x_train.min())"
   ]
  },
  {
   "cell_type": "markdown",
   "metadata": {
    "id": "0-H0LwB_7von"
   },
   "source": [
    "### Preprocessing Data \n",
    "\n",
    "**Normalizing Data**: \n",
    "We notice that values range varies depending on the type of the feature. If we are training a neural network, for various reasons it's easier if we treat all values as between 0 and 1 (or at least with similar ranges), a process called 'normalizing'. In this case, all features will be `rescaled`.\n",
    "\n",
    "The standard score of a sample `x` is calculated as:\n",
    "\n",
    "        z = (x - u) / s\n",
    "\n",
    "where `u` is the mean of the training samples or zero if `with_mean=False` and `s` is the standard deviation of the training samples or one if `with_std=False`."
   ]
  },
  {
   "cell_type": "code",
   "execution_count": 19,
   "metadata": {
    "id": "uZrGVMsH0X3F"
   },
   "outputs": [],
   "source": [
    "from sklearn.preprocessing import StandardScaler\n",
    "scaler = StandardScaler()\n",
    "\n",
    "# first we fit the scaler on the training dataset\n",
    "scaler.fit(x_train)\n",
    "\n",
    "# then we call the transform method to scale both the training and testing data\n",
    "x_train_norm = scaler.transform(x_train)\n",
    "x_test_norm = scaler.transform(x_test)"
   ]
  },
  {
   "cell_type": "markdown",
   "metadata": {
    "id": "MG_fd0Ig5BuM"
   },
   "source": [
    "Another way do normalize data directly with numpy is:\n",
    "- Get per-feature statistics (mean, standard deviation) from the training set to normalize by:\n",
    "  - x_train_mean = np.mean(x_train, axis=0)\n",
    "  - x_train_std = np.std(x_train, axis=0)\n",
    "  - x_train_norm = (x_train - x_train_mean) / x_train_std\n",
    "\n",
    "  - x_test_norm = (x_test - x_train_mean) / x_train_std\n",
    "\n",
    "**Note** that the quantities used for normalizing the test data are computed using the training data. You should never use in your workflow any quantity computed on the test data, even for something as simple as data normalization."
   ]
  },
  {
   "cell_type": "code",
   "execution_count": 20,
   "metadata": {
    "id": "mMP87jskSZuv"
   },
   "outputs": [
    {
     "name": "stdout",
     "output_type": "stream",
     "text": [
      "9.234847178400438\n",
      "-3.8172503201932715\n"
     ]
    }
   ],
   "source": [
    "print (x_train_norm.max())\n",
    "print (x_train_norm.min())"
   ]
  },
  {
   "cell_type": "markdown",
   "metadata": {
    "id": "amLdhSLI6gzT"
   },
   "source": [
    "A sample output"
   ]
  },
  {
   "cell_type": "code",
   "execution_count": 21,
   "metadata": {
    "id": "bDL5Es5W6caw"
   },
   "outputs": [
    {
     "name": "stdout",
     "output_type": "stream",
     "text": [
      "[-0.27224633 -0.48361547 -0.43576161 -0.25683275 -0.1652266  -0.1764426\n",
      "  0.81306188  0.1166983  -0.62624905 -0.59517003  1.14850044  0.44807713\n",
      "  0.8252202 ]\n"
     ]
    }
   ],
   "source": [
    "print(x_train_norm[0])"
   ]
  },
  {
   "cell_type": "markdown",
   "metadata": {
    "id": "pYMsyOk8-xnf"
   },
   "source": [
    "## Define Model"
   ]
  },
  {
   "cell_type": "code",
   "execution_count": 22,
   "metadata": {
    "id": "JBUukyQ0INrf"
   },
   "outputs": [
    {
     "data": {
      "text/plain": [
       "(404, 13)"
      ]
     },
     "execution_count": 22,
     "metadata": {},
     "output_type": "execute_result"
    }
   ],
   "source": [
    "x_train.shape"
   ]
  },
  {
   "cell_type": "code",
   "execution_count": 23,
   "metadata": {
    "id": "ezpCJySN5h2Y"
   },
   "outputs": [
    {
     "data": {
      "text/plain": [
       "13"
      ]
     },
     "execution_count": 23,
     "metadata": {},
     "output_type": "execute_result"
    }
   ],
   "source": [
    "x_train.shape[1]"
   ]
  },
  {
   "cell_type": "code",
   "execution_count": 24,
   "metadata": {
    "id": "sDlDs9YO5qk_"
   },
   "outputs": [
    {
     "data": {
      "text/plain": [
       "13"
      ]
     },
     "execution_count": 24,
     "metadata": {},
     "output_type": "execute_result"
    }
   ],
   "source": [
    "input_shape = x_train.shape[1]\n",
    "input_shape"
   ]
  },
  {
   "cell_type": "markdown",
   "metadata": {
    "id": "UZimwlA92lLr"
   },
   "source": [
    "The model can be created thi, for example with this layers:\n",
    "- [input] ==> [hidden] ==> [output]:\n",
    "  - 13 ==> [20] ==>  1\n",
    "\n",
    "The **Input Layer** should be 13 (number of features) and the **Output Layer** shoub be 1 to match the target (y). The number of neurons at **Hidden layers** are arbitrary."
   ]
  },
  {
   "cell_type": "code",
   "execution_count": 25,
   "metadata": {
    "id": "dEdoqWl28dB3"
   },
   "outputs": [
    {
     "name": "stdout",
     "output_type": "stream",
     "text": [
      "Model: \"sequential\"\n",
      "_________________________________________________________________\n",
      " Layer (type)                Output Shape              Param #   \n",
      "=================================================================\n",
      " dense (Dense)               (None, 20)                280       \n",
      "                                                                 \n",
      " dense_1 (Dense)             (None, 1)                 21        \n",
      "                                                                 \n",
      "=================================================================\n",
      "Total params: 301\n",
      "Trainable params: 301\n",
      "Non-trainable params: 0\n",
      "_________________________________________________________________\n"
     ]
    }
   ],
   "source": [
    "model = tf.keras.models.Sequential([\n",
    "    tf.keras.layers.Input(input_shape),\n",
    "    tf.keras.layers.Dense(20, activation='relu'),\n",
    "    tf.keras.layers.Dense(1)\n",
    "    ])\n",
    "\n",
    "model.summary()"
   ]
  },
  {
   "cell_type": "markdown",
   "metadata": {
    "id": "FNTU33Hn1TRj"
   },
   "source": [
    "Input layer has 13 conections, one for each feature [X]. Each feature goes to each one of the neurons of 1st Dense Layer, that has 20 Neurons. So, total parameters 1st Dense Layer will be ws=(13 x 20) + bs=20 ==> 280. The output layer will be only one Neuron that has one input from the output of previous layer (20 ) + 1 b ==> 21.\n",
    "\n",
    "For simplicity, the input layer can be \"merge with 1st layer\""
   ]
  },
  {
   "cell_type": "code",
   "execution_count": 26,
   "metadata": {
    "id": "yXHoc5X42iR2"
   },
   "outputs": [
    {
     "name": "stdout",
     "output_type": "stream",
     "text": [
      "Model: \"sequential_1\"\n",
      "_________________________________________________________________\n",
      " Layer (type)                Output Shape              Param #   \n",
      "=================================================================\n",
      " dense_2 (Dense)             (None, 20)                280       \n",
      "                                                                 \n",
      " dense_3 (Dense)             (None, 1)                 21        \n",
      "                                                                 \n",
      "=================================================================\n",
      "Total params: 301\n",
      "Trainable params: 301\n",
      "Non-trainable params: 0\n",
      "_________________________________________________________________\n"
     ]
    }
   ],
   "source": [
    "model = tf.keras.models.Sequential([\n",
    "    tf.keras.layers.Dense(20, \n",
    "                          activation='relu', \n",
    "                          input_shape = [13]),\n",
    "    tf.keras.layers.Dense(1)\n",
    "    ])\n",
    "\n",
    "model.summary()"
   ]
  },
  {
   "cell_type": "markdown",
   "metadata": {
    "id": "IfGTI8SY_3AL"
   },
   "source": [
    "##Compile Model"
   ]
  },
  {
   "cell_type": "markdown",
   "metadata": {
    "id": "QzTQem0EHY-O"
   },
   "source": [
    "### Type of errors\n",
    "In statistics, `Mean Absolute Error (MAE)` is a measure of errors between paired observations expressing the same phenomenon. Examples of Y versus X include comparisons of predicted versus observed, subsequent time versus initial time, and one technique of measurement versus an alternative technique of measurement. MAE is calculated as:\n",
    "\n",
    "\n",
    "$$MAE=\\frac{1}{n}\\sum_{i=1}^{n}(\\left|y_{i}-\\hat{y}_{i}\\right|)$$\n",
    "\n",
    "\n",
    "Another alternative to evaluate regression is the `Root Mean Square Error (RMSE)`.\n",
    "This is the root of the  mean of the squared errors. It is a most popular measure of regression model's performance because also keep the same unit as y and larger errors are noted more than with MAE.\n",
    "\n",
    "$$RSME=\\sqrt{\\frac{1}{n}\\sum_{i=1}^{n}{(y_{i}-\\hat{y}_{i})}^2}$$\n",
    "\n",
    "You can use MSE to calculate loss, but also tracking the MAE or RSME, once those values will have the \"same order\" of the Target (in the case, multiples of USD1,000)."
   ]
  },
  {
   "cell_type": "markdown",
   "metadata": {
    "id": "K7yHe1BU_Cr2"
   },
   "source": [
    "The optimizer used is [ADAM](https://www.tensorflow.org/api_docs/python/tf/keras/optimizers/Adam), a stochastic gradient descent method that is based on adaptive estimation of first-order and second-order moments. The hyperparameter \"Learning-Rate\" used is the default ==> 0.001"
   ]
  },
  {
   "cell_type": "code",
   "execution_count": 27,
   "metadata": {
    "id": "NA21O9Y0_BJ7"
   },
   "outputs": [],
   "source": [
    "model.compile(\n",
    "    optimizer='adam',\n",
    "    loss='mse',\n",
    "    metrics=['mae'] # used to monitor the training and testing steps.\n",
    "    )"
   ]
  },
  {
   "cell_type": "markdown",
   "metadata": {
    "id": "pJZ4fvT3_yd7"
   },
   "source": [
    "## Train the model"
   ]
  },
  {
   "cell_type": "code",
   "execution_count": 28,
   "metadata": {
    "id": "RxklrX_R_uvn"
   },
   "outputs": [],
   "source": [
    "history = model.fit(\n",
    "    x_train_norm, \n",
    "    y_train,\n",
    "    epochs=1000, \n",
    "    verbose=0\n",
    "    )"
   ]
  },
  {
   "cell_type": "markdown",
   "metadata": {
    "id": "0xAXSo5-HCIo"
   },
   "source": [
    "Inspecting the model"
   ]
  },
  {
   "cell_type": "code",
   "execution_count": 29,
   "metadata": {
    "id": "PXzMCGzVUuTx"
   },
   "outputs": [
    {
     "name": "stdout",
     "output_type": "stream",
     "text": [
      "13/13 [==============================] - 0s 2ms/step - loss: 5.5858 - mae: 1.6754\n",
      "Training data MSE: 1.7\n"
     ]
    }
   ],
   "source": [
    "train_eval = model.evaluate(x_train_norm, y_train)\n",
    "print (\"Training data MSE: {:.2}\".format(train_eval[1]))"
   ]
  },
  {
   "cell_type": "code",
   "execution_count": 30,
   "metadata": {
    "id": "ShUfx2ZSCylX"
   },
   "outputs": [
    {
     "data": {
      "text/plain": [
       "dict_keys(['loss', 'mae'])"
      ]
     },
     "execution_count": 30,
     "metadata": {},
     "output_type": "execute_result"
    }
   ],
   "source": [
    "history.history.keys()"
   ]
  },
  {
   "cell_type": "code",
   "execution_count": 31,
   "metadata": {
    "id": "npIubpXaKl6u"
   },
   "outputs": [
    {
     "data": {
      "image/png": "[encoded data removed]",
      "text/plain": [
       "<Figure size 432x288 with 1 Axes>"
      ]
     },
     "metadata": {
      "needs_background": "light"
     },
     "output_type": "display_data"
    }
   ],
   "source": [
    "plt.plot(history.history['loss'], label='MSE')\n",
    "plt.title('model loss')\n",
    "plt.ylabel('loss')\n",
    "plt.xlabel('epoch')\n",
    "plt.legend(loc='upper right')\n",
    "#plt.ylim([0,50])\n",
    "plt.show()"
   ]
  },
  {
   "cell_type": "code",
   "execution_count": 32,
   "metadata": {
    "id": "g6qHpwg8BpZi"
   },
   "outputs": [
    {
     "data": {
      "image/png": "[encoded data removed]",
      "text/plain": [
       "<Figure size 432x288 with 1 Axes>"
      ]
     },
     "metadata": {
      "needs_background": "light"
     },
     "output_type": "display_data"
    }
   ],
   "source": [
    "plt.plot(history.history['mae'], label='MAE')\n",
    "plt.title('model loss')\n",
    "plt.ylabel('loss in $K')\n",
    "plt.xlabel('epoch')\n",
    "plt.legend(loc='upper right')\n",
    "#plt.ylim([0,50])\n",
    "plt.show()"
   ]
  },
  {
   "cell_type": "markdown",
   "metadata": {
    "id": "JYHTdEJVH0tZ"
   },
   "source": [
    "## Testing the trained model\n",
    "\n"
   ]
  },
  {
   "cell_type": "code",
   "execution_count": 33,
   "metadata": {
    "id": "QBuJGqbSH6xT"
   },
   "outputs": [
    {
     "name": "stdout",
     "output_type": "stream",
     "text": [
      "4/4 [==============================] - 0s 2ms/step - loss: 15.7593 - mae: 2.5785\n",
      "Test data MAE: 2.6\n"
     ]
    }
   ],
   "source": [
    "test_eval = model.evaluate(x_test_norm, y_test)\n",
    "print (\"Test data MAE: {:.2}\".format(test_eval[1]))"
   ]
  },
  {
   "cell_type": "code",
   "execution_count": 34,
   "metadata": {
    "id": "J4H-5TF42ZjL"
   },
   "outputs": [
    {
     "data": {
      "text/plain": [
       "3.97"
      ]
     },
     "execution_count": 34,
     "metadata": {},
     "output_type": "execute_result"
    }
   ],
   "source": [
    "rsme = round(np.sqrt(test_eval[0]), 3)\n",
    "rsme"
   ]
  },
  {
   "cell_type": "markdown",
   "metadata": {
    "id": "we1LXnkDzbaS"
   },
   "source": [
    "The model has an RSME error of around USD4,000 and an MAE of around USD 2,600, what is very good for house's price estimation.  "
   ]
  },
  {
   "cell_type": "markdown",
   "metadata": {
    "id": "G_-PyEde1sAq"
   },
   "source": [
    "Note: With features **not normalized**, we got loss (MSE): 22.0815; RSME: USD4,700 and  MAE: USD3,500"
   ]
  },
  {
   "cell_type": "code",
   "execution_count": 35,
   "metadata": {
    "id": "tkaTLMaTIbIL"
   },
   "outputs": [
    {
     "name": "stdout",
     "output_type": "stream",
     "text": [
      "4/4 [==============================] - 0s 4ms/step\n",
      "[[ 8.392538]\n",
      " [18.77521 ]\n",
      " [21.924768]\n",
      " [32.581852]\n",
      " [24.503143]]\n"
     ]
    }
   ],
   "source": [
    "y_hat = model.predict(x_test_norm)\n",
    "print(y_hat[:5]) # get the output predict values for the 5 first samples"
   ]
  },
  {
   "cell_type": "code",
   "execution_count": 36,
   "metadata": {
    "id": "9p9buLk54A1W"
   },
   "outputs": [
    {
     "data": {
      "text/plain": [
       "array([ 7.2, 18.8, 19. , 27. , 22.2])"
      ]
     },
     "execution_count": 36,
     "metadata": {},
     "output_type": "execute_result"
    }
   ],
   "source": [
    "y_test[:5] # get the output real known values for the 5 first samples"
   ]
  },
  {
   "cell_type": "code",
   "execution_count": 37,
   "metadata": {
    "id": "ERuEyCmx4QHY"
   },
   "outputs": [
    {
     "data": {
      "image/png": "[encoded data removed]",
      "text/plain": [
       "<Figure size 432x288 with 1 Axes>"
      ]
     },
     "metadata": {
      "needs_background": "light"
     },
     "output_type": "display_data"
    }
   ],
   "source": [
    "plt.hist(y_hat, label='predictions', color = 'b')\n",
    "plt.hist(y_test, label = 'real values', color = 'r', alpha=0.5)\n",
    "plt.xlabel('Price in K$')\n",
    "plt.legend();"
   ]
  },
  {
   "cell_type": "markdown",
   "metadata": {
    "id": "RQgmjypmxaFP"
   },
   "source": [
    "## Doing Inference"
   ]
  },
  {
   "cell_type": "code",
   "execution_count": 38,
   "metadata": {
    "id": "EIior9FBvdcs"
   },
   "outputs": [
    {
     "data": {
      "text/plain": [
       "(13,)"
      ]
     },
     "execution_count": 38,
     "metadata": {},
     "output_type": "execute_result"
    }
   ],
   "source": [
    "xt = np.array([1.1, 0., 9., 0., 0.6, 7., 92., 3.8 , 4., 300., 21., 200, 19.5])\n",
    "xt.shape"
   ]
  },
  {
   "cell_type": "code",
   "execution_count": 39,
   "metadata": {
    "id": "Vp2mV37ZyOXE"
   },
   "outputs": [
    {
     "data": {
      "text/plain": [
       "(404, 13)"
      ]
     },
     "execution_count": 39,
     "metadata": {},
     "output_type": "execute_result"
    }
   ],
   "source": [
    "x_train.shape"
   ]
  },
  {
   "cell_type": "code",
   "execution_count": 40,
   "metadata": {
    "id": "2qp7KDtgyz8g"
   },
   "outputs": [
    {
     "data": {
      "text/plain": [
       "(1, 13)"
      ]
     },
     "execution_count": 40,
     "metadata": {},
     "output_type": "execute_result"
    }
   ],
   "source": [
    "xt = np.reshape(xt, (1, 13))\n",
    "xt.shape"
   ]
  },
  {
   "cell_type": "code",
   "execution_count": 41,
   "metadata": {
    "id": "1pLLiifrzO-3"
   },
   "outputs": [
    {
     "data": {
      "text/plain": [
       "array([[  1.1,   0. ,   9. ,   0. ,   0.6,   7. ,  92. ,   3.8,   4. ,\n",
       "        300. ,  21. , 200. ,  19.5]])"
      ]
     },
     "execution_count": 41,
     "metadata": {},
     "output_type": "execute_result"
    }
   ],
   "source": [
    "xt"
   ]
  },
  {
   "cell_type": "code",
   "execution_count": 42,
   "metadata": {
    "id": "XDlArmS2xfuR"
   },
   "outputs": [
    {
     "data": {
      "text/plain": [
       "array([[-0.28659955, -0.48361547, -0.30934443, -0.25683275,  0.36401915,\n",
       "         1.03386853,  0.82381223,  0.02945662, -0.62624905, -0.63729594,\n",
       "         1.14850044, -1.64672402,  0.93287232]])"
      ]
     },
     "execution_count": 42,
     "metadata": {},
     "output_type": "execute_result"
    }
   ],
   "source": [
    "xt_norm = scaler.transform(xt)\n",
    "xt_norm"
   ]
  },
  {
   "cell_type": "code",
   "execution_count": 43,
   "metadata": {
    "id": "fHbXuOGkzJ-n"
   },
   "outputs": [
    {
     "name": "stdout",
     "output_type": "stream",
     "text": [
      "1/1 [==============================] - 0s 22ms/step\n"
     ]
    },
    {
     "data": {
      "text/plain": [
       "array([[15.490016]], dtype=float32)"
      ]
     },
     "execution_count": 43,
     "metadata": {},
     "output_type": "execute_result"
    }
   ],
   "source": [
    "yt = model.predict(xt_norm)\n",
    "yt"
   ]
  },
  {
   "cell_type": "code",
   "execution_count": 44,
   "metadata": {
    "id": "lfb5RGKT0rs3"
   },
   "outputs": [
    {
     "name": "stdout",
     "output_type": "stream",
     "text": [
      "1/1 [==============================] - 0s 24ms/step\n"
     ]
    }
   ],
   "source": [
    "xt = np.array([1.1, 0., 9., 0., 0.6, 7., 92., 3.8 , 4., 300., 21., 200, 19.5])\n",
    "xt = np.reshape(xt, (1, 13))\n",
    "xt_norm = scaler.transform(xt)\n",
    "yt = model.predict(xt_norm)"
   ]
  },
  {
   "cell_type": "markdown",
   "metadata": {
    "id": "RUNbBC_FgcWZ"
   },
   "source": [
    "## Finding the correct Hyperparameters\n",
    "- [KerasTuner](https://keras.io/keras_tuner/)\n",
    "\n",
    "KerasTuner is an easy-to-use, scalable hyperparameter optimization framework that solves the pain points of hyperparameter search.\n"
   ]
  },
  {
   "cell_type": "code",
   "execution_count": 45,
   "metadata": {
    "id": "dql5K0r9gU1F"
   },
   "outputs": [
    {
     "name": "stdout",
     "output_type": "stream",
     "text": [
      "Collecting keras-tuner\n",
      "  Downloading keras_tuner-1.1.3-py3-none-any.whl (135 kB)\n",
      "Collecting kt-legacy\n",
      "  Downloading kt_legacy-1.0.4-py3-none-any.whl (9.6 kB)\n",
      "Requirement already satisfied: ipython in c:\\users\\adeniton\\anaconda3\\lib\\site-packages (from keras-tuner) (8.2.0)\n",
      "Requirement already satisfied: packaging in c:\\users\\adeniton\\anaconda3\\lib\\site-packages (from keras-tuner) (21.3)\n",
      "Requirement already satisfied: numpy in c:\\users\\adeniton\\anaconda3\\lib\\site-packages (from keras-tuner) (1.23.3)\n",
      "Requirement already satisfied: tensorboard in c:\\users\\adeniton\\anaconda3\\lib\\site-packages (from keras-tuner) (2.9.1)\n",
      "Requirement already satisfied: requests in c:\\users\\adeniton\\anaconda3\\lib\\site-packages (from keras-tuner) (2.27.1)\n",
      "Requirement already satisfied: pickleshare in c:\\users\\adeniton\\anaconda3\\lib\\site-packages (from ipython->keras-tuner) (0.7.5)\n",
      "Requirement already satisfied: backcall in c:\\users\\adeniton\\anaconda3\\lib\\site-packages (from ipython->keras-tuner) (0.2.0)\n",
      "Requirement already satisfied: decorator in c:\\users\\adeniton\\anaconda3\\lib\\site-packages (from ipython->keras-tuner) (5.1.1)\n",
      "Requirement already satisfied: stack-data in c:\\users\\adeniton\\anaconda3\\lib\\site-packages (from ipython->keras-tuner) (0.2.0)\n",
      "Requirement already satisfied: traitlets>=5 in c:\\users\\adeniton\\anaconda3\\lib\\site-packages (from ipython->keras-tuner) (5.1.1)\n",
      "Requirement already satisfied: matplotlib-inline in c:\\users\\adeniton\\anaconda3\\lib\\site-packages (from ipython->keras-tuner) (0.1.2)\n",
      "Requirement already satisfied: prompt-toolkit!=3.0.0,!=3.0.1,<3.1.0,>=2.0.0 in c:\\users\\adeniton\\anaconda3\\lib\\site-packages (from ipython->keras-tuner) (3.0.20)\n",
      "Requirement already satisfied: pygments>=2.4.0 in c:\\users\\adeniton\\anaconda3\\lib\\site-packages (from ipython->keras-tuner) (2.11.2)\n",
      "Requirement already satisfied: setuptools>=18.5 in c:\\users\\adeniton\\anaconda3\\lib\\site-packages (from ipython->keras-tuner) (61.2.0)\n",
      "Requirement already satisfied: jedi>=0.16 in c:\\users\\adeniton\\anaconda3\\lib\\site-packages (from ipython->keras-tuner) (0.18.1)\n",
      "Requirement already satisfied: colorama in c:\\users\\adeniton\\anaconda3\\lib\\site-packages (from ipython->keras-tuner) (0.4.4)\n",
      "Requirement already satisfied: parso<0.9.0,>=0.8.0 in c:\\users\\adeniton\\anaconda3\\lib\\site-packages (from jedi>=0.16->ipython->keras-tuner) (0.8.3)\n",
      "Requirement already satisfied: wcwidth in c:\\users\\adeniton\\anaconda3\\lib\\site-packages (from prompt-toolkit!=3.0.0,!=3.0.1,<3.1.0,>=2.0.0->ipython->keras-tuner) (0.2.5)\n",
      "Requirement already satisfied: pyparsing!=3.0.5,>=2.0.2 in c:\\users\\adeniton\\anaconda3\\lib\\site-packages (from packaging->keras-tuner) (3.0.4)\n",
      "Requirement already satisfied: idna<4,>=2.5 in c:\\users\\adeniton\\anaconda3\\lib\\site-packages (from requests->keras-tuner) (3.3)\n",
      "Requirement already satisfied: certifi>=2017.4.17 in c:\\users\\adeniton\\anaconda3\\lib\\site-packages (from requests->keras-tuner) (2022.9.24)\n",
      "Requirement already satisfied: charset-normalizer~=2.0.0 in c:\\users\\adeniton\\anaconda3\\lib\\site-packages (from requests->keras-tuner) (2.0.4)\n",
      "Requirement already satisfied: urllib3<1.27,>=1.21.1 in c:\\users\\adeniton\\anaconda3\\lib\\site-packages (from requests->keras-tuner) (1.26.9)\n",
      "Requirement already satisfied: asttokens in c:\\users\\adeniton\\anaconda3\\lib\\site-packages (from stack-data->ipython->keras-tuner) (2.0.5)\n",
      "Requirement already satisfied: executing in c:\\users\\adeniton\\anaconda3\\lib\\site-packages (from stack-data->ipython->keras-tuner) (0.8.3)\n",
      "Requirement already satisfied: pure-eval in c:\\users\\adeniton\\anaconda3\\lib\\site-packages (from stack-data->ipython->keras-tuner) (0.2.2)\n",
      "Requirement already satisfied: six in c:\\users\\adeniton\\anaconda3\\lib\\site-packages (from asttokens->stack-data->ipython->keras-tuner) (1.16.0)\n",
      "Requirement already satisfied: werkzeug>=1.0.1 in c:\\users\\adeniton\\anaconda3\\lib\\site-packages (from tensorboard->keras-tuner) (2.0.3)\n",
      "Requirement already satisfied: google-auth-oauthlib<0.5,>=0.4.1 in c:\\users\\adeniton\\anaconda3\\lib\\site-packages (from tensorboard->keras-tuner) (0.4.6)\n",
      "Requirement already satisfied: markdown>=2.6.8 in c:\\users\\adeniton\\anaconda3\\lib\\site-packages (from tensorboard->keras-tuner) (3.3.4)\n",
      "Requirement already satisfied: tensorboard-plugin-wit>=1.6.0 in c:\\users\\adeniton\\anaconda3\\lib\\site-packages (from tensorboard->keras-tuner) (1.8.1)\n",
      "Requirement already satisfied: tensorboard-data-server<0.7.0,>=0.6.0 in c:\\users\\adeniton\\anaconda3\\lib\\site-packages (from tensorboard->keras-tuner) (0.6.1)\n",
      "Requirement already satisfied: protobuf<3.20,>=3.9.2 in c:\\users\\adeniton\\anaconda3\\lib\\site-packages (from tensorboard->keras-tuner) (3.19.1)\n",
      "Requirement already satisfied: wheel>=0.26 in c:\\users\\adeniton\\anaconda3\\lib\\site-packages (from tensorboard->keras-tuner) (0.37.1)\n",
      "Requirement already satisfied: grpcio>=1.24.3 in c:\\users\\adeniton\\anaconda3\\lib\\site-packages (from tensorboard->keras-tuner) (1.42.0)\n",
      "Requirement already satisfied: google-auth<3,>=1.6.3 in c:\\users\\adeniton\\anaconda3\\lib\\site-packages (from tensorboard->keras-tuner) (1.33.0)\n",
      "Requirement already satisfied: absl-py>=0.4 in c:\\users\\adeniton\\anaconda3\\lib\\site-packages (from tensorboard->keras-tuner) (1.1.0)\n",
      "Requirement already satisfied: rsa<5,>=3.1.4 in c:\\users\\adeniton\\anaconda3\\lib\\site-packages (from google-auth<3,>=1.6.3->tensorboard->keras-tuner) (4.7.2)\n",
      "Requirement already satisfied: cachetools<5.0,>=2.0.0 in c:\\users\\adeniton\\anaconda3\\lib\\site-packages (from google-auth<3,>=1.6.3->tensorboard->keras-tuner) (4.2.2)\n",
      "Requirement already satisfied: pyasn1-modules>=0.2.1 in c:\\users\\adeniton\\anaconda3\\lib\\site-packages (from google-auth<3,>=1.6.3->tensorboard->keras-tuner) (0.2.8)\n",
      "Requirement already satisfied: requests-oauthlib>=0.7.0 in c:\\users\\adeniton\\anaconda3\\lib\\site-packages (from google-auth-oauthlib<0.5,>=0.4.1->tensorboard->keras-tuner) (1.3.1)\n",
      "Requirement already satisfied: pyasn1<0.5.0,>=0.4.6 in c:\\users\\adeniton\\anaconda3\\lib\\site-packages (from pyasn1-modules>=0.2.1->google-auth<3,>=1.6.3->tensorboard->keras-tuner) (0.4.8)\n",
      "Requirement already satisfied: oauthlib>=3.0.0 in c:\\users\\adeniton\\anaconda3\\lib\\site-packages (from requests-oauthlib>=0.7.0->google-auth-oauthlib<0.5,>=0.4.1->tensorboard->keras-tuner) (3.2.0)\n",
      "Installing collected packages: kt-legacy, keras-tuner\n",
      "Successfully installed keras-tuner-1.1.3 kt-legacy-1.0.4\n"
     ]
    }
   ],
   "source": [
    "!pip install keras-tuner --upgrade"
   ]
  },
  {
   "cell_type": "code",
   "execution_count": 46,
   "metadata": {
    "id": "AP1tw9u9g5Uf"
   },
   "outputs": [],
   "source": [
    "import tensorflow as tf\n",
    "import keras_tuner as kt"
   ]
  },
  {
   "cell_type": "code",
   "execution_count": 47,
   "metadata": {
    "id": "VLYVscNQkaWS"
   },
   "outputs": [],
   "source": [
    "data = tf.keras.datasets.boston_housing\n",
    "(x_train, y_train), (x_test, y_test) = data.load_data()"
   ]
  },
  {
   "cell_type": "code",
   "execution_count": 48,
   "metadata": {
    "id": "pE7gSlcTkl20"
   },
   "outputs": [],
   "source": [
    "from sklearn.preprocessing import StandardScaler\n",
    "scaler = StandardScaler()\n",
    "\n",
    "# first we fit the scaler on the training dataset\n",
    "scaler.fit(x_train)\n",
    "\n",
    "# then we call the transform method to scale both the training and testing data\n",
    "x_train_norm = scaler.transform(x_train)\n",
    "x_test_norm = scaler.transform(x_test)"
   ]
  },
  {
   "cell_type": "markdown",
   "metadata": {
    "id": "5UHfySq-hJHo"
   },
   "source": [
    "Write a function that creates and returns a Keras model. Use the `hp` argument to define the hyperparameters during model creation."
   ]
  },
  {
   "cell_type": "code",
   "execution_count": 49,
   "metadata": {
    "id": "qbvjlmNdhBn6"
   },
   "outputs": [],
   "source": [
    "def build_model(hp):\n",
    "  model = tf.keras.Sequential()\n",
    "  model.add(tf.keras.layers.Dense(\n",
    "      hp.Choice('units', [10, 20, 30]),\n",
    "      activation='relu'))\n",
    "  \n",
    "  model.add(tf.keras.layers.Dense(1))\n",
    "  model.compile(optimizer='adam', loss='mse')\n",
    "  return model"
   ]
  },
  {
   "cell_type": "markdown",
   "metadata": {
    "id": "lsNpzZpeh2Hi"
   },
   "source": [
    "Initialize a tuner (here, RandomSearch). We use objective to specify the objective to select the best models, and we use max_trials to specify the number of different models to try."
   ]
  },
  {
   "cell_type": "code",
   "execution_count": 50,
   "metadata": {
    "id": "zufG9sUjh1xV"
   },
   "outputs": [],
   "source": [
    "tuner = kt.RandomSearch(\n",
    "    build_model,\n",
    "    objective='val_loss',\n",
    "    max_trials=5)"
   ]
  },
  {
   "cell_type": "markdown",
   "metadata": {
    "id": "wN6Ci84OiFaZ"
   },
   "source": [
    "Start the search and get the best model:"
   ]
  },
  {
   "cell_type": "code",
   "execution_count": 51,
   "metadata": {
    "id": "WnkdoSzLiJUY"
   },
   "outputs": [
    {
     "name": "stdout",
     "output_type": "stream",
     "text": [
      "Trial 2 Complete [00h 01m 37s]\n",
      "val_loss: 17.443344116210938\n",
      "\n",
      "Best val_loss So Far: 15.598858833312988\n",
      "Total elapsed time: 00h 03m 05s\n",
      "\n",
      "Search: Running Trial #3\n",
      "\n",
      "Value             |Best Value So Far |Hyperparameter\n",
      "20                |30                |units\n",
      "\n",
      "Epoch 1/500\n",
      "13/13 [==============================] - 1s 37ms/step - loss: 575.9824 - val_loss: 595.6401\n",
      "Epoch 2/500\n",
      "13/13 [==============================] - 0s 18ms/step - loss: 564.0964 - val_loss: 583.3145\n",
      "Epoch 3/500\n",
      "13/13 [==============================] - 0s 27ms/step - loss: 551.8695 - val_loss: 570.8252\n",
      "Epoch 4/500\n",
      "13/13 [==============================] - 0s 31ms/step - loss: 539.2969 - val_loss: 557.6577\n",
      "Epoch 5/500\n",
      "13/13 [==============================] - 0s 23ms/step - loss: 526.0415 - val_loss: 543.9119\n",
      "Epoch 6/500\n",
      "13/13 [==============================] - 0s 25ms/step - loss: 512.1573 - val_loss: 529.1893\n",
      "Epoch 7/500\n",
      "13/13 [==============================] - 0s 23ms/step - loss: 497.5724 - val_loss: 513.6486\n",
      "Epoch 8/500\n",
      "13/13 [==============================] - 0s 20ms/step - loss: 481.7740 - val_loss: 497.4769\n",
      "Epoch 9/500\n",
      "13/13 [==============================] - 0s 23ms/step - loss: 465.3874 - val_loss: 480.5831\n",
      "Epoch 10/500\n",
      "13/13 [==============================] - 0s 22ms/step - loss: 448.8433 - val_loss: 462.5096\n",
      "Epoch 11/500\n",
      "13/13 [==============================] - 0s 21ms/step - loss: 430.6781 - val_loss: 444.7567\n",
      "Epoch 12/500\n",
      "13/13 [==============================] - 0s 20ms/step - loss: 413.0287 - val_loss: 426.0660\n",
      "Epoch 13/500\n",
      "13/13 [==============================] - 0s 24ms/step - loss: 394.7038 - val_loss: 407.2217\n",
      "Epoch 14/500\n",
      "13/13 [==============================] - 0s 20ms/step - loss: 376.4040 - val_loss: 388.1831\n",
      "Epoch 15/500\n",
      "13/13 [==============================] - 0s 18ms/step - loss: 357.8591 - val_loss: 369.0997\n",
      "Epoch 16/500\n",
      "13/13 [==============================] - 0s 24ms/step - loss: 339.6694 - val_loss: 349.9046\n",
      "Epoch 17/500\n",
      "13/13 [==============================] - 0s 26ms/step - loss: 321.2990 - val_loss: 331.2419\n",
      "Epoch 18/500\n",
      "13/13 [==============================] - 0s 20ms/step - loss: 303.6698 - val_loss: 312.8360\n",
      "Epoch 19/500\n",
      "13/13 [==============================] - 0s 22ms/step - loss: 286.0227 - val_loss: 295.2285\n",
      "Epoch 20/500\n",
      "13/13 [==============================] - 0s 23ms/step - loss: 269.1414 - val_loss: 278.0179\n",
      "Epoch 21/500\n",
      "13/13 [==============================] - 0s 26ms/step - loss: 252.9176 - val_loss: 261.0335\n",
      "Epoch 22/500\n",
      "13/13 [==============================] - 0s 19ms/step - loss: 236.8645 - val_loss: 245.1699\n",
      "Epoch 23/500\n",
      "13/13 [==============================] - 0s 18ms/step - loss: 221.6810 - val_loss: 230.1870\n",
      "Epoch 24/500\n",
      "13/13 [==============================] - 0s 21ms/step - loss: 207.4497 - val_loss: 215.4824\n",
      "Epoch 25/500\n",
      "13/13 [==============================] - 0s 21ms/step - loss: 193.8852 - val_loss: 201.7233\n",
      "Epoch 26/500\n",
      "13/13 [==============================] - 0s 23ms/step - loss: 181.3800 - val_loss: 188.6369\n",
      "Epoch 27/500\n",
      "13/13 [==============================] - 0s 23ms/step - loss: 169.0841 - val_loss: 177.0269\n",
      "Epoch 28/500\n",
      "13/13 [==============================] - 0s 20ms/step - loss: 158.2010 - val_loss: 165.9600\n",
      "Epoch 29/500\n",
      "13/13 [==============================] - 0s 23ms/step - loss: 147.8456 - val_loss: 155.7475\n",
      "Epoch 30/500\n",
      "13/13 [==============================] - 0s 17ms/step - loss: 138.4052 - val_loss: 146.1683\n",
      "Epoch 31/500\n",
      "13/13 [==============================] - 0s 22ms/step - loss: 129.6519 - val_loss: 137.3055\n",
      "Epoch 32/500\n",
      "13/13 [==============================] - 0s 20ms/step - loss: 121.2631 - val_loss: 129.3351\n",
      "Epoch 33/500\n",
      "13/13 [==============================] - 0s 21ms/step - loss: 113.7216 - val_loss: 121.7830\n",
      "Epoch 34/500\n",
      "13/13 [==============================] - 0s 20ms/step - loss: 106.7179 - val_loss: 114.8810\n",
      "Epoch 35/500\n",
      "13/13 [==============================] - 0s 19ms/step - loss: 100.3416 - val_loss: 108.3873\n",
      "Epoch 36/500\n",
      "13/13 [==============================] - 0s 22ms/step - loss: 94.3191 - val_loss: 102.4323\n",
      "Epoch 37/500\n",
      "13/13 [==============================] - 0s 23ms/step - loss: 88.7287 - val_loss: 96.9365\n",
      "Epoch 38/500\n",
      "13/13 [==============================] - 0s 24ms/step - loss: 83.5494 - val_loss: 91.8431\n",
      "Epoch 39/500\n",
      "13/13 [==============================] - 0s 23ms/step - loss: 78.6752 - val_loss: 86.9152\n",
      "Epoch 40/500\n",
      "13/13 [==============================] - 0s 22ms/step - loss: 74.1722 - val_loss: 82.3159\n",
      "Epoch 41/500\n",
      "13/13 [==============================] - 0s 21ms/step - loss: 69.9159 - val_loss: 78.1663\n",
      "Epoch 42/500\n",
      "13/13 [==============================] - 0s 28ms/step - loss: 66.0096 - val_loss: 74.1739\n",
      "Epoch 43/500\n",
      "13/13 [==============================] - 0s 22ms/step - loss: 62.4400 - val_loss: 70.4715\n",
      "Epoch 44/500\n",
      "13/13 [==============================] - 0s 23ms/step - loss: 59.0163 - val_loss: 67.2433\n",
      "Epoch 45/500\n",
      "13/13 [==============================] - 0s 20ms/step - loss: 56.0349 - val_loss: 63.9851\n",
      "Epoch 46/500\n",
      "13/13 [==============================] - 0s 23ms/step - loss: 53.1868 - val_loss: 61.0538\n",
      "Epoch 47/500\n",
      "13/13 [==============================] - 0s 20ms/step - loss: 50.4687 - val_loss: 58.5830\n",
      "Epoch 48/500\n",
      "13/13 [==============================] - 0s 23ms/step - loss: 48.1436 - val_loss: 56.0742\n",
      "Epoch 49/500\n",
      "13/13 [==============================] - 0s 20ms/step - loss: 45.9004 - val_loss: 53.8724\n",
      "Epoch 50/500\n",
      "13/13 [==============================] - 0s 21ms/step - loss: 43.9851 - val_loss: 51.7296\n",
      "Epoch 51/500\n",
      "13/13 [==============================] - 0s 25ms/step - loss: 42.0787 - val_loss: 49.7812\n",
      "Epoch 52/500\n",
      "13/13 [==============================] - 0s 30ms/step - loss: 40.4002 - val_loss: 48.0191\n",
      "Epoch 53/500\n",
      "13/13 [==============================] - 0s 21ms/step - loss: 38.9383 - val_loss: 46.3462\n",
      "Epoch 54/500\n",
      "13/13 [==============================] - 0s 24ms/step - loss: 37.5579 - val_loss: 44.8935\n",
      "Epoch 55/500\n",
      "13/13 [==============================] - 0s 20ms/step - loss: 36.2520 - val_loss: 43.6049\n",
      "Epoch 56/500\n",
      "13/13 [==============================] - 0s 23ms/step - loss: 35.1725 - val_loss: 42.4009\n",
      "Epoch 57/500\n",
      "13/13 [==============================] - 0s 20ms/step - loss: 34.1280 - val_loss: 41.2869\n",
      "Epoch 58/500\n",
      "13/13 [==============================] - 0s 20ms/step - loss: 33.1886 - val_loss: 40.2927\n",
      "Epoch 59/500\n",
      "13/13 [==============================] - 0s 22ms/step - loss: 32.3282 - val_loss: 39.4117\n",
      "Epoch 60/500\n",
      "13/13 [==============================] - 0s 22ms/step - loss: 31.5836 - val_loss: 38.5937\n",
      "Epoch 61/500\n",
      "13/13 [==============================] - 0s 22ms/step - loss: 30.8967 - val_loss: 37.9390\n",
      "Epoch 62/500\n",
      "13/13 [==============================] - 0s 17ms/step - loss: 30.2302 - val_loss: 37.2487\n",
      "Epoch 63/500\n",
      "13/13 [==============================] - 0s 22ms/step - loss: 29.6710 - val_loss: 36.5349\n",
      "Epoch 64/500\n",
      "13/13 [==============================] - 0s 24ms/step - loss: 29.1551 - val_loss: 35.9826\n",
      "Epoch 65/500\n",
      "13/13 [==============================] - 0s 23ms/step - loss: 28.6604 - val_loss: 35.4441\n",
      "Epoch 66/500\n",
      "13/13 [==============================] - 0s 18ms/step - loss: 28.2126 - val_loss: 34.9527\n",
      "Epoch 67/500\n",
      "13/13 [==============================] - 0s 20ms/step - loss: 27.8323 - val_loss: 34.4905\n",
      "Epoch 68/500\n",
      "13/13 [==============================] - 0s 23ms/step - loss: 27.4534 - val_loss: 34.0250\n",
      "Epoch 69/500\n",
      "13/13 [==============================] - 0s 23ms/step - loss: 27.1269 - val_loss: 33.6094\n",
      "Epoch 70/500\n",
      "13/13 [==============================] - 0s 21ms/step - loss: 26.8230 - val_loss: 33.2810\n",
      "Epoch 71/500\n",
      "13/13 [==============================] - 0s 21ms/step - loss: 26.5112 - val_loss: 32.9245\n",
      "Epoch 72/500\n",
      "13/13 [==============================] - 0s 19ms/step - loss: 26.2485 - val_loss: 32.6402\n",
      "Epoch 73/500\n",
      "13/13 [==============================] - 0s 22ms/step - loss: 26.0034 - val_loss: 32.3437\n",
      "Epoch 74/500\n",
      "13/13 [==============================] - 0s 26ms/step - loss: 25.7660 - val_loss: 32.0522\n",
      "Epoch 75/500\n",
      "13/13 [==============================] - 0s 24ms/step - loss: 25.5101 - val_loss: 31.7304\n",
      "Epoch 76/500\n",
      "13/13 [==============================] - 0s 21ms/step - loss: 25.3021 - val_loss: 31.4234\n",
      "Epoch 77/500\n"
     ]
    },
    {
     "name": "stdout",
     "output_type": "stream",
     "text": [
      "13/13 [==============================] - 0s 27ms/step - loss: 25.0902 - val_loss: 31.1986\n",
      "Epoch 78/500\n",
      "13/13 [==============================] - 0s 22ms/step - loss: 24.8715 - val_loss: 30.9957\n",
      "Epoch 79/500\n",
      "13/13 [==============================] - 0s 20ms/step - loss: 24.6897 - val_loss: 30.7671\n",
      "Epoch 80/500\n",
      "13/13 [==============================] - 0s 30ms/step - loss: 24.4982 - val_loss: 30.5383\n",
      "Epoch 81/500\n",
      "13/13 [==============================] - 0s 25ms/step - loss: 24.3066 - val_loss: 30.2921\n",
      "Epoch 82/500\n",
      "13/13 [==============================] - 0s 23ms/step - loss: 24.1285 - val_loss: 30.1644\n",
      "Epoch 83/500\n",
      "13/13 [==============================] - 0s 22ms/step - loss: 23.9538 - val_loss: 29.9743\n",
      "Epoch 84/500\n",
      "13/13 [==============================] - 0s 21ms/step - loss: 23.7818 - val_loss: 29.8174\n",
      "Epoch 85/500\n",
      "13/13 [==============================] - 0s 20ms/step - loss: 23.6039 - val_loss: 29.6870\n",
      "Epoch 86/500\n",
      "13/13 [==============================] - 0s 25ms/step - loss: 23.4584 - val_loss: 29.5193\n",
      "Epoch 87/500\n",
      "13/13 [==============================] - 0s 19ms/step - loss: 23.3104 - val_loss: 29.2497\n",
      "Epoch 88/500\n",
      "13/13 [==============================] - 0s 24ms/step - loss: 23.1387 - val_loss: 29.0450\n",
      "Epoch 89/500\n",
      "13/13 [==============================] - 0s 30ms/step - loss: 22.9849 - val_loss: 28.9161\n",
      "Epoch 90/500\n",
      "13/13 [==============================] - 0s 24ms/step - loss: 22.8338 - val_loss: 28.7703\n",
      "Epoch 91/500\n",
      "13/13 [==============================] - 0s 25ms/step - loss: 22.6803 - val_loss: 28.6383\n",
      "Epoch 92/500\n",
      "13/13 [==============================] - 0s 26ms/step - loss: 22.5480 - val_loss: 28.4743\n",
      "Epoch 93/500\n",
      "13/13 [==============================] - 0s 20ms/step - loss: 22.3927 - val_loss: 28.3647\n",
      "Epoch 94/500\n",
      "13/13 [==============================] - 0s 22ms/step - loss: 22.2498 - val_loss: 28.2360\n",
      "Epoch 95/500\n",
      "13/13 [==============================] - 0s 22ms/step - loss: 22.1052 - val_loss: 28.0784\n",
      "Epoch 96/500\n",
      "13/13 [==============================] - 0s 25ms/step - loss: 21.9700 - val_loss: 28.0187\n",
      "Epoch 97/500\n",
      "13/13 [==============================] - 0s 23ms/step - loss: 21.8339 - val_loss: 27.9806\n",
      "Epoch 98/500\n",
      "13/13 [==============================] - 0s 23ms/step - loss: 21.7113 - val_loss: 27.7962\n",
      "Epoch 99/500\n",
      "13/13 [==============================] - 0s 21ms/step - loss: 21.5722 - val_loss: 27.6019\n",
      "Epoch 100/500\n",
      "13/13 [==============================] - 0s 19ms/step - loss: 21.4424 - val_loss: 27.5776\n",
      "Epoch 101/500\n",
      "13/13 [==============================] - 0s 23ms/step - loss: 21.3124 - val_loss: 27.4630\n",
      "Epoch 102/500\n",
      "13/13 [==============================] - 0s 22ms/step - loss: 21.1897 - val_loss: 27.2962\n",
      "Epoch 103/500\n",
      "13/13 [==============================] - 0s 22ms/step - loss: 21.0599 - val_loss: 27.1780\n",
      "Epoch 104/500\n",
      "13/13 [==============================] - 0s 30ms/step - loss: 20.9435 - val_loss: 27.0238\n",
      "Epoch 105/500\n",
      "13/13 [==============================] - 0s 21ms/step - loss: 20.8232 - val_loss: 26.9411\n",
      "Epoch 106/500\n",
      "13/13 [==============================] - 0s 20ms/step - loss: 20.7117 - val_loss: 26.8344\n",
      "Epoch 107/500\n",
      "13/13 [==============================] - 0s 21ms/step - loss: 20.5850 - val_loss: 26.6855\n",
      "Epoch 108/500\n",
      "13/13 [==============================] - 0s 26ms/step - loss: 20.4787 - val_loss: 26.6191\n",
      "Epoch 109/500\n",
      "13/13 [==============================] - 0s 19ms/step - loss: 20.3682 - val_loss: 26.5215\n",
      "Epoch 110/500\n",
      "13/13 [==============================] - 0s 24ms/step - loss: 20.2383 - val_loss: 26.4063\n",
      "Epoch 111/500\n",
      "13/13 [==============================] - 0s 21ms/step - loss: 20.1234 - val_loss: 26.3003\n",
      "Epoch 112/500\n",
      "13/13 [==============================] - 0s 22ms/step - loss: 20.0288 - val_loss: 26.2858\n",
      "Epoch 113/500\n",
      "13/13 [==============================] - 0s 23ms/step - loss: 19.9023 - val_loss: 26.1294\n",
      "Epoch 114/500\n",
      "13/13 [==============================] - 0s 27ms/step - loss: 19.7876 - val_loss: 26.0923\n",
      "Epoch 115/500\n",
      "13/13 [==============================] - 0s 19ms/step - loss: 19.6671 - val_loss: 25.9304\n",
      "Epoch 116/500\n",
      "13/13 [==============================] - 0s 22ms/step - loss: 19.5595 - val_loss: 25.8216\n",
      "Epoch 117/500\n",
      "13/13 [==============================] - 0s 20ms/step - loss: 19.4546 - val_loss: 25.7413\n",
      "Epoch 118/500\n",
      "13/13 [==============================] - 0s 20ms/step - loss: 19.3343 - val_loss: 25.7172\n",
      "Epoch 119/500\n",
      "13/13 [==============================] - 0s 21ms/step - loss: 19.2283 - val_loss: 25.6424\n",
      "Epoch 120/500\n",
      "13/13 [==============================] - 0s 22ms/step - loss: 19.1251 - val_loss: 25.4548\n",
      "Epoch 121/500\n",
      "13/13 [==============================] - 0s 6ms/step - loss: 19.0294 - val_loss: 25.4771\n",
      "Epoch 122/500\n",
      "13/13 [==============================] - 0s 19ms/step - loss: 18.9370 - val_loss: 25.2537\n",
      "Epoch 123/500\n",
      "13/13 [==============================] - 0s 6ms/step - loss: 18.8317 - val_loss: 25.2545\n",
      "Epoch 124/500\n",
      "13/13 [==============================] - 0s 21ms/step - loss: 18.7170 - val_loss: 25.2071\n",
      "Epoch 125/500\n",
      "13/13 [==============================] - 0s 25ms/step - loss: 18.6036 - val_loss: 25.0849\n",
      "Epoch 126/500\n",
      "13/13 [==============================] - 0s 23ms/step - loss: 18.5151 - val_loss: 24.9619\n",
      "Epoch 127/500\n",
      "13/13 [==============================] - 0s 22ms/step - loss: 18.4097 - val_loss: 24.8278\n",
      "Epoch 128/500\n",
      "13/13 [==============================] - 0s 27ms/step - loss: 18.3205 - val_loss: 24.7877\n",
      "Epoch 129/500\n",
      "13/13 [==============================] - 0s 22ms/step - loss: 18.2150 - val_loss: 24.6479\n",
      "Epoch 130/500\n",
      "13/13 [==============================] - 0s 20ms/step - loss: 18.1238 - val_loss: 24.5814\n",
      "Epoch 131/500\n",
      "13/13 [==============================] - 0s 29ms/step - loss: 18.0406 - val_loss: 24.4953\n",
      "Epoch 132/500\n",
      "13/13 [==============================] - 0s 22ms/step - loss: 17.9252 - val_loss: 24.4473\n",
      "Epoch 133/500\n",
      "13/13 [==============================] - 0s 23ms/step - loss: 17.8488 - val_loss: 24.2781\n",
      "Epoch 134/500\n",
      "13/13 [==============================] - 0s 6ms/step - loss: 17.7669 - val_loss: 24.3628\n",
      "Epoch 135/500\n",
      "13/13 [==============================] - 0s 22ms/step - loss: 17.6687 - val_loss: 24.2299\n",
      "Epoch 136/500\n",
      "13/13 [==============================] - 0s 6ms/step - loss: 17.5906 - val_loss: 24.2407\n",
      "Epoch 137/500\n",
      "13/13 [==============================] - 0s 22ms/step - loss: 17.4846 - val_loss: 24.1137\n",
      "Epoch 138/500\n",
      "13/13 [==============================] - 0s 23ms/step - loss: 17.3954 - val_loss: 24.0158\n",
      "Epoch 139/500\n",
      "13/13 [==============================] - 0s 20ms/step - loss: 17.3061 - val_loss: 23.9598\n",
      "Epoch 140/500\n",
      "13/13 [==============================] - 0s 22ms/step - loss: 17.2204 - val_loss: 23.8662\n",
      "Epoch 141/500\n",
      "13/13 [==============================] - 0s 6ms/step - loss: 17.1497 - val_loss: 23.9171\n",
      "Epoch 142/500\n",
      "13/13 [==============================] - 0s 20ms/step - loss: 17.0460 - val_loss: 23.7544\n",
      "Epoch 143/500\n",
      "13/13 [==============================] - 0s 26ms/step - loss: 16.9657 - val_loss: 23.7515\n",
      "Epoch 144/500\n",
      "13/13 [==============================] - 0s 21ms/step - loss: 16.8685 - val_loss: 23.6611\n",
      "Epoch 145/500\n",
      "13/13 [==============================] - 0s 29ms/step - loss: 16.7819 - val_loss: 23.5564\n",
      "Epoch 146/500\n",
      "13/13 [==============================] - 0s 5ms/step - loss: 16.7285 - val_loss: 23.5933\n",
      "Epoch 147/500\n",
      "13/13 [==============================] - 0s 21ms/step - loss: 16.6363 - val_loss: 23.3416\n",
      "Epoch 148/500\n",
      "13/13 [==============================] - 0s 5ms/step - loss: 16.5331 - val_loss: 23.3798\n",
      "Epoch 149/500\n",
      "13/13 [==============================] - 0s 19ms/step - loss: 16.4530 - val_loss: 23.2238\n",
      "Epoch 150/500\n",
      "13/13 [==============================] - 0s 23ms/step - loss: 16.3683 - val_loss: 23.1613\n",
      "Epoch 151/500\n",
      "13/13 [==============================] - 0s 20ms/step - loss: 16.2761 - val_loss: 23.1223\n",
      "Epoch 152/500\n",
      "13/13 [==============================] - 0s 21ms/step - loss: 16.2060 - val_loss: 23.1121\n",
      "Epoch 153/500\n",
      "13/13 [==============================] - 0s 23ms/step - loss: 16.1087 - val_loss: 23.0264\n",
      "Epoch 154/500\n",
      "13/13 [==============================] - 0s 26ms/step - loss: 16.0302 - val_loss: 22.9878\n",
      "Epoch 155/500\n",
      "13/13 [==============================] - 0s 6ms/step - loss: 15.9614 - val_loss: 23.0271\n",
      "Epoch 156/500\n"
     ]
    },
    {
     "name": "stdout",
     "output_type": "stream",
     "text": [
      "13/13 [==============================] - 0s 24ms/step - loss: 15.8824 - val_loss: 22.8767\n",
      "Epoch 157/500\n",
      "13/13 [==============================] - 0s 34ms/step - loss: 15.7924 - val_loss: 22.8130\n",
      "Epoch 158/500\n",
      "13/13 [==============================] - 0s 5ms/step - loss: 15.7101 - val_loss: 22.8338\n",
      "Epoch 159/500\n",
      "13/13 [==============================] - 0s 17ms/step - loss: 15.6335 - val_loss: 22.7205\n",
      "Epoch 160/500\n",
      "13/13 [==============================] - 0s 31ms/step - loss: 15.5621 - val_loss: 22.5985\n",
      "Epoch 161/500\n",
      "13/13 [==============================] - 0s 6ms/step - loss: 15.4747 - val_loss: 22.6539\n",
      "Epoch 162/500\n",
      "13/13 [==============================] - 0s 19ms/step - loss: 15.4154 - val_loss: 22.5808\n",
      "Epoch 163/500\n",
      "13/13 [==============================] - 0s 21ms/step - loss: 15.3104 - val_loss: 22.4115\n",
      "Epoch 164/500\n",
      "13/13 [==============================] - 0s 23ms/step - loss: 15.2677 - val_loss: 22.3324\n",
      "Epoch 165/500\n",
      "13/13 [==============================] - 0s 6ms/step - loss: 15.1787 - val_loss: 22.3789\n",
      "Epoch 166/500\n",
      "13/13 [==============================] - 0s 22ms/step - loss: 15.0977 - val_loss: 22.3086\n",
      "Epoch 167/500\n",
      "13/13 [==============================] - 0s 19ms/step - loss: 15.0248 - val_loss: 22.2115\n",
      "Epoch 168/500\n",
      "13/13 [==============================] - 0s 5ms/step - loss: 14.9455 - val_loss: 22.2215\n",
      "Epoch 169/500\n",
      "13/13 [==============================] - 0s 18ms/step - loss: 14.8684 - val_loss: 22.1733\n",
      "Epoch 170/500\n",
      "13/13 [==============================] - 0s 6ms/step - loss: 14.8033 - val_loss: 22.1778\n",
      "Epoch 171/500\n",
      "13/13 [==============================] - 0s 22ms/step - loss: 14.7293 - val_loss: 22.0659\n",
      "Epoch 172/500\n",
      "13/13 [==============================] - 0s 21ms/step - loss: 14.6550 - val_loss: 21.9303\n",
      "Epoch 173/500\n",
      "13/13 [==============================] - 0s 31ms/step - loss: 14.5898 - val_loss: 21.8935\n",
      "Epoch 174/500\n",
      "13/13 [==============================] - 0s 21ms/step - loss: 14.5157 - val_loss: 21.8335\n",
      "Epoch 175/500\n",
      "13/13 [==============================] - 0s 7ms/step - loss: 14.4393 - val_loss: 21.9336\n",
      "Epoch 176/500\n",
      "13/13 [==============================] - 0s 31ms/step - loss: 14.3741 - val_loss: 21.8284\n",
      "Epoch 177/500\n",
      "13/13 [==============================] - 0s 5ms/step - loss: 14.3136 - val_loss: 21.9399\n",
      "Epoch 178/500\n",
      "13/13 [==============================] - 0s 22ms/step - loss: 14.2240 - val_loss: 21.8018\n",
      "Epoch 179/500\n",
      "13/13 [==============================] - 0s 23ms/step - loss: 14.1410 - val_loss: 21.7865\n",
      "Epoch 180/500\n",
      "13/13 [==============================] - 0s 23ms/step - loss: 14.0790 - val_loss: 21.7455\n",
      "Epoch 181/500\n",
      "13/13 [==============================] - 0s 22ms/step - loss: 14.0012 - val_loss: 21.6188\n",
      "Epoch 182/500\n",
      "13/13 [==============================] - 0s 21ms/step - loss: 13.9401 - val_loss: 21.5941\n",
      "Epoch 183/500\n",
      "13/13 [==============================] - 0s 22ms/step - loss: 13.8760 - val_loss: 21.5188\n",
      "Epoch 184/500\n",
      "13/13 [==============================] - 0s 5ms/step - loss: 13.7993 - val_loss: 21.5459\n",
      "Epoch 185/500\n",
      "13/13 [==============================] - 0s 5ms/step - loss: 13.7366 - val_loss: 21.5884\n",
      "Epoch 186/500\n",
      "13/13 [==============================] - 0s 5ms/step - loss: 13.6549 - val_loss: 21.5191\n",
      "Epoch 187/500\n",
      "13/13 [==============================] - 0s 26ms/step - loss: 13.5944 - val_loss: 21.4590\n",
      "Epoch 188/500\n",
      "13/13 [==============================] - 0s 20ms/step - loss: 13.5157 - val_loss: 21.3844\n",
      "Epoch 189/500\n",
      "13/13 [==============================] - 0s 27ms/step - loss: 13.4625 - val_loss: 21.2603\n",
      "Epoch 190/500\n",
      "13/13 [==============================] - 0s 5ms/step - loss: 13.4054 - val_loss: 21.3977\n",
      "Epoch 191/500\n",
      "13/13 [==============================] - 0s 7ms/step - loss: 13.3467 - val_loss: 21.4442\n",
      "Epoch 192/500\n",
      "13/13 [==============================] - 0s 6ms/step - loss: 13.2487 - val_loss: 21.2729\n",
      "Epoch 193/500\n",
      "13/13 [==============================] - 0s 25ms/step - loss: 13.1946 - val_loss: 21.1656\n",
      "Epoch 194/500\n",
      "13/13 [==============================] - 0s 19ms/step - loss: 13.1404 - val_loss: 21.1312\n",
      "Epoch 195/500\n",
      "13/13 [==============================] - 0s 20ms/step - loss: 13.0767 - val_loss: 21.0361\n",
      "Epoch 196/500\n",
      "13/13 [==============================] - 0s 5ms/step - loss: 13.0148 - val_loss: 21.1118\n",
      "Epoch 197/500\n",
      "13/13 [==============================] - 0s 18ms/step - loss: 12.9342 - val_loss: 21.0137\n",
      "Epoch 198/500\n",
      "13/13 [==============================] - 0s 6ms/step - loss: 12.8763 - val_loss: 21.0426\n",
      "Epoch 199/500\n",
      "13/13 [==============================] - 0s 5ms/step - loss: 12.8108 - val_loss: 21.0279\n",
      "Epoch 200/500\n",
      "13/13 [==============================] - 0s 20ms/step - loss: 12.7585 - val_loss: 21.0071\n",
      "Epoch 201/500\n",
      "13/13 [==============================] - 0s 5ms/step - loss: 12.6955 - val_loss: 21.0789\n",
      "Epoch 202/500\n",
      "13/13 [==============================] - 0s 22ms/step - loss: 12.6158 - val_loss: 20.9857\n",
      "Epoch 203/500\n",
      "13/13 [==============================] - 0s 23ms/step - loss: 12.5679 - val_loss: 20.9817\n",
      "Epoch 204/500\n",
      "13/13 [==============================] - 0s 22ms/step - loss: 12.5008 - val_loss: 20.8244\n",
      "Epoch 205/500\n",
      "13/13 [==============================] - 0s 6ms/step - loss: 12.4507 - val_loss: 20.9126\n",
      "Epoch 206/500\n",
      "13/13 [==============================] - 0s 5ms/step - loss: 12.3862 - val_loss: 20.8695\n",
      "Epoch 207/500\n",
      "13/13 [==============================] - 0s 5ms/step - loss: 12.3235 - val_loss: 20.8433\n",
      "Epoch 208/500\n",
      "13/13 [==============================] - 0s 27ms/step - loss: 12.2706 - val_loss: 20.7720\n",
      "Epoch 209/500\n",
      "13/13 [==============================] - 0s 7ms/step - loss: 12.2043 - val_loss: 20.8889\n",
      "Epoch 210/500\n",
      "13/13 [==============================] - 0s 5ms/step - loss: 12.1509 - val_loss: 20.8633\n",
      "Epoch 211/500\n",
      "13/13 [==============================] - 0s 5ms/step - loss: 12.1002 - val_loss: 20.8614\n",
      "Epoch 212/500\n",
      "13/13 [==============================] - 0s 5ms/step - loss: 12.0465 - val_loss: 20.9879\n",
      "Epoch 213/500\n",
      "13/13 [==============================] - 0s 5ms/step - loss: 12.0048 - val_loss: 20.8205\n",
      "Epoch 214/500\n",
      "13/13 [==============================] - 0s 6ms/step - loss: 11.9624 - val_loss: 20.8625\n",
      "Epoch 215/500\n",
      "13/13 [==============================] - 0s 12ms/step - loss: 11.8841 - val_loss: 20.8845\n",
      "Epoch 216/500\n",
      "13/13 [==============================] - 0s 8ms/step - loss: 11.8275 - val_loss: 20.8891\n",
      "Epoch 217/500\n",
      "13/13 [==============================] - 0s 5ms/step - loss: 11.7822 - val_loss: 20.7869\n",
      "Epoch 218/500\n",
      "13/13 [==============================] - 0s 5ms/step - loss: 11.7252 - val_loss: 20.8567\n",
      "Epoch 219/500\n",
      "13/13 [==============================] - 0s 23ms/step - loss: 11.6760 - val_loss: 20.7516\n",
      "Epoch 220/500\n",
      "13/13 [==============================] - 0s 22ms/step - loss: 11.6353 - val_loss: 20.6736\n",
      "Epoch 221/500\n",
      "13/13 [==============================] - 0s 20ms/step - loss: 11.5965 - val_loss: 20.5766\n",
      "Epoch 222/500\n",
      "13/13 [==============================] - 0s 6ms/step - loss: 11.5563 - val_loss: 20.6103\n",
      "Epoch 223/500\n",
      "13/13 [==============================] - 0s 5ms/step - loss: 11.4997 - val_loss: 20.6830\n",
      "Epoch 224/500\n",
      "13/13 [==============================] - 0s 6ms/step - loss: 11.4594 - val_loss: 20.6407\n",
      "Epoch 225/500\n",
      "13/13 [==============================] - 0s 6ms/step - loss: 11.4057 - val_loss: 20.6860\n",
      "Epoch 226/500\n",
      "13/13 [==============================] - 0s 26ms/step - loss: 11.3930 - val_loss: 20.4745\n",
      "Epoch 227/500\n",
      "13/13 [==============================] - 0s 6ms/step - loss: 11.3275 - val_loss: 20.5754\n",
      "Epoch 228/500\n",
      "13/13 [==============================] - 0s 7ms/step - loss: 11.2778 - val_loss: 20.6105\n",
      "Epoch 229/500\n",
      "13/13 [==============================] - 0s 5ms/step - loss: 11.2216 - val_loss: 20.5555\n",
      "Epoch 230/500\n",
      "13/13 [==============================] - 0s 28ms/step - loss: 11.1933 - val_loss: 20.4650\n",
      "Epoch 231/500\n",
      "13/13 [==============================] - 0s 5ms/step - loss: 11.1328 - val_loss: 20.5138\n",
      "Epoch 232/500\n",
      "13/13 [==============================] - 0s 5ms/step - loss: 11.1094 - val_loss: 20.6541\n",
      "Epoch 233/500\n",
      "13/13 [==============================] - 0s 5ms/step - loss: 11.0573 - val_loss: 20.5513\n",
      "Epoch 234/500\n",
      "13/13 [==============================] - 0s 5ms/step - loss: 11.0219 - val_loss: 20.6083\n",
      "Epoch 235/500\n"
     ]
    },
    {
     "name": "stdout",
     "output_type": "stream",
     "text": [
      "13/13 [==============================] - 0s 5ms/step - loss: 11.0070 - val_loss: 20.5007\n",
      "Epoch 236/500\n",
      "13/13 [==============================] - 0s 5ms/step - loss: 10.9464 - val_loss: 20.4841\n",
      "Epoch 237/500\n",
      "13/13 [==============================] - 0s 27ms/step - loss: 10.9125 - val_loss: 20.3783\n",
      "Epoch 238/500\n",
      "13/13 [==============================] - 0s 6ms/step - loss: 10.8692 - val_loss: 20.4442\n",
      "Epoch 239/500\n",
      "13/13 [==============================] - 0s 5ms/step - loss: 10.8342 - val_loss: 20.5536\n",
      "Epoch 240/500\n",
      "13/13 [==============================] - 0s 5ms/step - loss: 10.7935 - val_loss: 20.5225\n",
      "Epoch 241/500\n",
      "13/13 [==============================] - 0s 5ms/step - loss: 10.7807 - val_loss: 20.4134\n",
      "Epoch 242/500\n",
      "13/13 [==============================] - 0s 6ms/step - loss: 10.7225 - val_loss: 20.5664\n",
      "Epoch 243/500\n",
      "13/13 [==============================] - 0s 7ms/step - loss: 10.6792 - val_loss: 20.5600\n",
      "Epoch 244/500\n",
      "13/13 [==============================] - 0s 8ms/step - loss: 10.6586 - val_loss: 20.5454\n",
      "Epoch 245/500\n",
      "13/13 [==============================] - 0s 12ms/step - loss: 10.6637 - val_loss: 20.4244\n",
      "Epoch 246/500\n",
      "13/13 [==============================] - 0s 5ms/step - loss: 10.5910 - val_loss: 20.5055\n",
      "Epoch 247/500\n",
      "13/13 [==============================] - 0s 5ms/step - loss: 10.5630 - val_loss: 20.6500\n",
      "Epoch 248/500\n",
      "13/13 [==============================] - 0s 5ms/step - loss: 10.5115 - val_loss: 20.5945\n",
      "Epoch 249/500\n",
      "13/13 [==============================] - 0s 4ms/step - loss: 10.4867 - val_loss: 20.4662\n",
      "Epoch 250/500\n",
      "13/13 [==============================] - 0s 5ms/step - loss: 10.4529 - val_loss: 20.4286\n",
      "Epoch 251/500\n",
      "13/13 [==============================] - 0s 5ms/step - loss: 10.4205 - val_loss: 20.4268\n",
      "Epoch 252/500\n",
      "13/13 [==============================] - 0s 5ms/step - loss: 10.3820 - val_loss: 20.3921\n",
      "Epoch 253/500\n",
      "13/13 [==============================] - 0s 5ms/step - loss: 10.3860 - val_loss: 20.5341\n",
      "Epoch 254/500\n",
      "13/13 [==============================] - 0s 5ms/step - loss: 10.3171 - val_loss: 20.5016\n",
      "Epoch 255/500\n",
      "13/13 [==============================] - 0s 5ms/step - loss: 10.2843 - val_loss: 20.5030\n",
      "Epoch 256/500\n",
      "13/13 [==============================] - 0s 5ms/step - loss: 10.2724 - val_loss: 20.4129\n",
      "Epoch 257/500\n",
      "13/13 [==============================] - 0s 5ms/step - loss: 10.2408 - val_loss: 20.5521\n",
      "Epoch 258/500\n",
      "13/13 [==============================] - 0s 5ms/step - loss: 10.2016 - val_loss: 20.4944\n",
      "Epoch 259/500\n",
      "13/13 [==============================] - 0s 5ms/step - loss: 10.1708 - val_loss: 20.4363\n",
      "Epoch 260/500\n",
      "13/13 [==============================] - 0s 4ms/step - loss: 10.1418 - val_loss: 20.4966\n",
      "Epoch 261/500\n",
      "13/13 [==============================] - 0s 5ms/step - loss: 10.1182 - val_loss: 20.4243\n",
      "Epoch 262/500\n",
      "13/13 [==============================] - 0s 5ms/step - loss: 10.1016 - val_loss: 20.4142\n",
      "Epoch 263/500\n",
      "13/13 [==============================] - 0s 5ms/step - loss: 10.0786 - val_loss: 20.4094\n",
      "Epoch 264/500\n",
      "13/13 [==============================] - 0s 5ms/step - loss: 10.0709 - val_loss: 20.5986\n",
      "Epoch 265/500\n",
      "13/13 [==============================] - 0s 5ms/step - loss: 10.0176 - val_loss: 20.6126\n",
      "Epoch 266/500\n",
      "13/13 [==============================] - 0s 5ms/step - loss: 9.9778 - val_loss: 20.4537\n",
      "Epoch 267/500\n",
      "13/13 [==============================] - 0s 21ms/step - loss: 9.9660 - val_loss: 20.3707\n",
      "Epoch 268/500\n",
      "13/13 [==============================] - 0s 22ms/step - loss: 9.9486 - val_loss: 20.3116\n",
      "Epoch 269/500\n",
      "13/13 [==============================] - 0s 6ms/step - loss: 9.9116 - val_loss: 20.3388\n",
      "Epoch 270/500\n",
      "13/13 [==============================] - 0s 5ms/step - loss: 9.8823 - val_loss: 20.4774\n",
      "Epoch 271/500\n",
      "13/13 [==============================] - 0s 5ms/step - loss: 9.8866 - val_loss: 20.6843\n",
      "Epoch 272/500\n",
      "13/13 [==============================] - 0s 5ms/step - loss: 9.8473 - val_loss: 20.4677\n",
      "Epoch 273/500\n",
      "13/13 [==============================] - 0s 6ms/step - loss: 9.8214 - val_loss: 20.5186\n",
      "Epoch 274/500\n",
      "13/13 [==============================] - 0s 23ms/step - loss: 9.8341 - val_loss: 20.2866\n",
      "Epoch 275/500\n",
      "13/13 [==============================] - 0s 13ms/step - loss: 9.7557 - val_loss: 20.6076\n",
      "Epoch 276/500\n",
      "13/13 [==============================] - 0s 6ms/step - loss: 9.7455 - val_loss: 20.7046\n",
      "Epoch 277/500\n",
      "13/13 [==============================] - 0s 6ms/step - loss: 9.7307 - val_loss: 20.6230\n",
      "Epoch 278/500\n",
      "13/13 [==============================] - 0s 5ms/step - loss: 9.6908 - val_loss: 20.7504\n",
      "Epoch 279/500\n",
      "13/13 [==============================] - 0s 5ms/step - loss: 9.6637 - val_loss: 20.6352\n",
      "Epoch 280/500\n",
      "13/13 [==============================] - 0s 5ms/step - loss: 9.6465 - val_loss: 20.4408\n",
      "Epoch 281/500\n",
      "13/13 [==============================] - 0s 5ms/step - loss: 9.6354 - val_loss: 20.4924\n",
      "Epoch 282/500\n",
      "13/13 [==============================] - 0s 5ms/step - loss: 9.6068 - val_loss: 20.6519\n",
      "Epoch 283/500\n",
      "13/13 [==============================] - 0s 5ms/step - loss: 9.5892 - val_loss: 20.4128\n",
      "Epoch 284/500\n",
      "13/13 [==============================] - 0s 5ms/step - loss: 9.5809 - val_loss: 20.5558\n",
      "Epoch 285/500\n",
      "13/13 [==============================] - 0s 5ms/step - loss: 9.5495 - val_loss: 20.3426\n",
      "Epoch 286/500\n",
      "13/13 [==============================] - 0s 5ms/step - loss: 9.5276 - val_loss: 20.4230\n",
      "Epoch 287/500\n",
      "13/13 [==============================] - 0s 5ms/step - loss: 9.5239 - val_loss: 20.5874\n",
      "Epoch 288/500\n",
      "13/13 [==============================] - 0s 5ms/step - loss: 9.4897 - val_loss: 20.5374\n",
      "Epoch 289/500\n",
      "13/13 [==============================] - 0s 5ms/step - loss: 9.4886 - val_loss: 20.3668\n",
      "Epoch 290/500\n",
      "13/13 [==============================] - 0s 5ms/step - loss: 9.4467 - val_loss: 20.6185\n",
      "Epoch 291/500\n",
      "13/13 [==============================] - 0s 5ms/step - loss: 9.4273 - val_loss: 20.6190\n",
      "Epoch 292/500\n",
      "13/13 [==============================] - 0s 5ms/step - loss: 9.4167 - val_loss: 20.6116\n",
      "Epoch 293/500\n",
      "13/13 [==============================] - 0s 5ms/step - loss: 9.3952 - val_loss: 20.6290\n",
      "Epoch 294/500\n",
      "13/13 [==============================] - 0s 5ms/step - loss: 9.3754 - val_loss: 20.3529\n",
      "Epoch 295/500\n",
      "13/13 [==============================] - 0s 5ms/step - loss: 9.3595 - val_loss: 20.4876\n",
      "Epoch 296/500\n",
      "13/13 [==============================] - 0s 5ms/step - loss: 9.3384 - val_loss: 20.6730\n",
      "Epoch 297/500\n",
      "13/13 [==============================] - 0s 5ms/step - loss: 9.3312 - val_loss: 20.3844\n",
      "Epoch 298/500\n",
      "13/13 [==============================] - 0s 5ms/step - loss: 9.2889 - val_loss: 20.6626\n",
      "Epoch 299/500\n",
      "13/13 [==============================] - 0s 5ms/step - loss: 9.2765 - val_loss: 20.6983\n",
      "Epoch 300/500\n",
      "13/13 [==============================] - 0s 4ms/step - loss: 9.2596 - val_loss: 20.5697\n",
      "Epoch 301/500\n",
      "13/13 [==============================] - 0s 5ms/step - loss: 9.2462 - val_loss: 20.4716\n",
      "Epoch 302/500\n",
      "13/13 [==============================] - 0s 5ms/step - loss: 9.2280 - val_loss: 20.6953\n",
      "Epoch 303/500\n",
      "13/13 [==============================] - 0s 5ms/step - loss: 9.2003 - val_loss: 20.5709\n",
      "Epoch 304/500\n",
      "13/13 [==============================] - 0s 5ms/step - loss: 9.1810 - val_loss: 20.5043\n",
      "Epoch 305/500\n",
      "13/13 [==============================] - 0s 5ms/step - loss: 9.1565 - val_loss: 20.5230\n",
      "Epoch 306/500\n",
      "13/13 [==============================] - 0s 6ms/step - loss: 9.1382 - val_loss: 20.5494\n",
      "Epoch 307/500\n",
      "13/13 [==============================] - 0s 6ms/step - loss: 9.1288 - val_loss: 20.6322\n",
      "Epoch 308/500\n",
      "13/13 [==============================] - 0s 5ms/step - loss: 9.1021 - val_loss: 20.6134\n",
      "Epoch 309/500\n",
      "13/13 [==============================] - 0s 6ms/step - loss: 9.0819 - val_loss: 20.5796\n",
      "Epoch 310/500\n",
      "13/13 [==============================] - 0s 7ms/step - loss: 9.0792 - val_loss: 20.6412\n",
      "Epoch 311/500\n",
      "13/13 [==============================] - 0s 6ms/step - loss: 9.0639 - val_loss: 20.3984\n",
      "Epoch 312/500\n",
      "13/13 [==============================] - 0s 5ms/step - loss: 9.0302 - val_loss: 20.6372\n",
      "Epoch 313/500\n",
      "13/13 [==============================] - 0s 5ms/step - loss: 9.0124 - val_loss: 20.7938\n",
      "Epoch 314/500\n",
      "13/13 [==============================] - 0s 5ms/step - loss: 9.0006 - val_loss: 20.7546\n",
      "Epoch 315/500\n"
     ]
    },
    {
     "name": "stdout",
     "output_type": "stream",
     "text": [
      "13/13 [==============================] - 0s 5ms/step - loss: 8.9700 - val_loss: 20.5586\n",
      "Epoch 316/500\n",
      " 1/13 [=>............................] - ETA: 0s - loss: 6.9376"
     ]
    },
    {
     "ename": "KeyboardInterrupt",
     "evalue": "",
     "output_type": "error",
     "traceback": [
      "\u001b[1;31m---------------------------------------------------------------------------\u001b[0m",
      "\u001b[1;31mKeyboardInterrupt\u001b[0m                         Traceback (most recent call last)",
      "Input \u001b[1;32mIn [51]\u001b[0m, in \u001b[0;36m<cell line: 1>\u001b[1;34m()\u001b[0m\n\u001b[1;32m----> 1\u001b[0m \u001b[43mtuner\u001b[49m\u001b[38;5;241;43m.\u001b[39;49m\u001b[43msearch\u001b[49m\u001b[43m(\u001b[49m\n\u001b[0;32m      2\u001b[0m \u001b[43m    \u001b[49m\u001b[43mx_train_norm\u001b[49m\u001b[43m,\u001b[49m\u001b[43m \u001b[49m\u001b[43my_train\u001b[49m\u001b[43m,\u001b[49m\u001b[43m \u001b[49m\n\u001b[0;32m      3\u001b[0m \u001b[43m    \u001b[49m\u001b[43mepochs\u001b[49m\u001b[38;5;241;43m=\u001b[39;49m\u001b[38;5;241;43m500\u001b[39;49m\u001b[43m,\u001b[49m\u001b[43m \u001b[49m\n\u001b[0;32m      4\u001b[0m \u001b[43m    \u001b[49m\u001b[43mvalidation_data\u001b[49m\u001b[38;5;241;43m=\u001b[39;49m\u001b[43m(\u001b[49m\u001b[43mx_test_norm\u001b[49m\u001b[43m,\u001b[49m\u001b[43m \u001b[49m\u001b[43my_test\u001b[49m\u001b[43m)\u001b[49m\u001b[43m)\u001b[49m\n\u001b[0;32m      6\u001b[0m best_model \u001b[38;5;241m=\u001b[39m tuner\u001b[38;5;241m.\u001b[39mget_best_models()[\u001b[38;5;241m0\u001b[39m]\n",
      "File \u001b[1;32m~\\anaconda3\\lib\\site-packages\\keras_tuner\\engine\\base_tuner.py:183\u001b[0m, in \u001b[0;36mBaseTuner.search\u001b[1;34m(self, *fit_args, **fit_kwargs)\u001b[0m\n\u001b[0;32m    180\u001b[0m     \u001b[38;5;28;01mcontinue\u001b[39;00m\n\u001b[0;32m    182\u001b[0m \u001b[38;5;28mself\u001b[39m\u001b[38;5;241m.\u001b[39mon_trial_begin(trial)\n\u001b[1;32m--> 183\u001b[0m results \u001b[38;5;241m=\u001b[39m \u001b[38;5;28mself\u001b[39m\u001b[38;5;241m.\u001b[39mrun_trial(trial, \u001b[38;5;241m*\u001b[39mfit_args, \u001b[38;5;241m*\u001b[39m\u001b[38;5;241m*\u001b[39mfit_kwargs)\n\u001b[0;32m    184\u001b[0m \u001b[38;5;66;03m# `results` is None indicates user updated oracle in `run_trial()`.\u001b[39;00m\n\u001b[0;32m    185\u001b[0m \u001b[38;5;28;01mif\u001b[39;00m results \u001b[38;5;129;01mis\u001b[39;00m \u001b[38;5;28;01mNone\u001b[39;00m:\n",
      "File \u001b[1;32m~\\anaconda3\\lib\\site-packages\\keras_tuner\\engine\\tuner.py:295\u001b[0m, in \u001b[0;36mTuner.run_trial\u001b[1;34m(self, trial, *args, **kwargs)\u001b[0m\n\u001b[0;32m    293\u001b[0m     callbacks\u001b[38;5;241m.\u001b[39mappend(model_checkpoint)\n\u001b[0;32m    294\u001b[0m     copied_kwargs[\u001b[38;5;124m\"\u001b[39m\u001b[38;5;124mcallbacks\u001b[39m\u001b[38;5;124m\"\u001b[39m] \u001b[38;5;241m=\u001b[39m callbacks\n\u001b[1;32m--> 295\u001b[0m     obj_value \u001b[38;5;241m=\u001b[39m \u001b[38;5;28mself\u001b[39m\u001b[38;5;241m.\u001b[39m_build_and_fit_model(trial, \u001b[38;5;241m*\u001b[39margs, \u001b[38;5;241m*\u001b[39m\u001b[38;5;241m*\u001b[39mcopied_kwargs)\n\u001b[0;32m    297\u001b[0m     histories\u001b[38;5;241m.\u001b[39mappend(obj_value)\n\u001b[0;32m    298\u001b[0m \u001b[38;5;28;01mreturn\u001b[39;00m histories\n",
      "File \u001b[1;32m~\\anaconda3\\lib\\site-packages\\keras_tuner\\engine\\tuner.py:222\u001b[0m, in \u001b[0;36mTuner._build_and_fit_model\u001b[1;34m(self, trial, *args, **kwargs)\u001b[0m\n\u001b[0;32m    220\u001b[0m hp \u001b[38;5;241m=\u001b[39m trial\u001b[38;5;241m.\u001b[39mhyperparameters\n\u001b[0;32m    221\u001b[0m model \u001b[38;5;241m=\u001b[39m \u001b[38;5;28mself\u001b[39m\u001b[38;5;241m.\u001b[39m_try_build(hp)\n\u001b[1;32m--> 222\u001b[0m results \u001b[38;5;241m=\u001b[39m \u001b[38;5;28mself\u001b[39m\u001b[38;5;241m.\u001b[39mhypermodel\u001b[38;5;241m.\u001b[39mfit(hp, model, \u001b[38;5;241m*\u001b[39margs, \u001b[38;5;241m*\u001b[39m\u001b[38;5;241m*\u001b[39mkwargs)\n\u001b[0;32m    223\u001b[0m tuner_utils\u001b[38;5;241m.\u001b[39mvalidate_trial_results(\n\u001b[0;32m    224\u001b[0m     results, \u001b[38;5;28mself\u001b[39m\u001b[38;5;241m.\u001b[39moracle\u001b[38;5;241m.\u001b[39mobjective, \u001b[38;5;124m\"\u001b[39m\u001b[38;5;124mHyperModel.fit()\u001b[39m\u001b[38;5;124m\"\u001b[39m\n\u001b[0;32m    225\u001b[0m )\n\u001b[0;32m    226\u001b[0m \u001b[38;5;28;01mreturn\u001b[39;00m results\n",
      "File \u001b[1;32m~\\anaconda3\\lib\\site-packages\\keras_tuner\\engine\\hypermodel.py:140\u001b[0m, in \u001b[0;36mHyperModel.fit\u001b[1;34m(self, hp, model, *args, **kwargs)\u001b[0m\n\u001b[0;32m    116\u001b[0m \u001b[38;5;28;01mdef\u001b[39;00m \u001b[38;5;21mfit\u001b[39m(\u001b[38;5;28mself\u001b[39m, hp, model, \u001b[38;5;241m*\u001b[39margs, \u001b[38;5;241m*\u001b[39m\u001b[38;5;241m*\u001b[39mkwargs):\n\u001b[0;32m    117\u001b[0m     \u001b[38;5;124;03m\"\"\"Train the model.\u001b[39;00m\n\u001b[0;32m    118\u001b[0m \n\u001b[0;32m    119\u001b[0m \u001b[38;5;124;03m    Args:\u001b[39;00m\n\u001b[1;32m   (...)\u001b[0m\n\u001b[0;32m    138\u001b[0m \u001b[38;5;124;03m        If return a float, it should be the `objective` value.\u001b[39;00m\n\u001b[0;32m    139\u001b[0m \u001b[38;5;124;03m    \"\"\"\u001b[39;00m\n\u001b[1;32m--> 140\u001b[0m     \u001b[38;5;28;01mreturn\u001b[39;00m model\u001b[38;5;241m.\u001b[39mfit(\u001b[38;5;241m*\u001b[39margs, \u001b[38;5;241m*\u001b[39m\u001b[38;5;241m*\u001b[39mkwargs)\n",
      "File \u001b[1;32m~\\anaconda3\\lib\\site-packages\\keras\\utils\\traceback_utils.py:64\u001b[0m, in \u001b[0;36mfilter_traceback.<locals>.error_handler\u001b[1;34m(*args, **kwargs)\u001b[0m\n\u001b[0;32m     62\u001b[0m filtered_tb \u001b[38;5;241m=\u001b[39m \u001b[38;5;28;01mNone\u001b[39;00m\n\u001b[0;32m     63\u001b[0m \u001b[38;5;28;01mtry\u001b[39;00m:\n\u001b[1;32m---> 64\u001b[0m   \u001b[38;5;28;01mreturn\u001b[39;00m fn(\u001b[38;5;241m*\u001b[39margs, \u001b[38;5;241m*\u001b[39m\u001b[38;5;241m*\u001b[39mkwargs)\n\u001b[0;32m     65\u001b[0m \u001b[38;5;28;01mexcept\u001b[39;00m \u001b[38;5;167;01mException\u001b[39;00m \u001b[38;5;28;01mas\u001b[39;00m e:  \u001b[38;5;66;03m# pylint: disable=broad-except\u001b[39;00m\n\u001b[0;32m     66\u001b[0m   filtered_tb \u001b[38;5;241m=\u001b[39m _process_traceback_frames(e\u001b[38;5;241m.\u001b[39m__traceback__)\n",
      "File \u001b[1;32m~\\anaconda3\\lib\\site-packages\\keras\\engine\\training.py:1401\u001b[0m, in \u001b[0;36mModel.fit\u001b[1;34m(self, x, y, batch_size, epochs, verbose, callbacks, validation_split, validation_data, shuffle, class_weight, sample_weight, initial_epoch, steps_per_epoch, validation_steps, validation_batch_size, validation_freq, max_queue_size, workers, use_multiprocessing)\u001b[0m\n\u001b[0;32m   1399\u001b[0m \u001b[38;5;28;01mwith\u001b[39;00m data_handler\u001b[38;5;241m.\u001b[39mcatch_stop_iteration():\n\u001b[0;32m   1400\u001b[0m   data_handler\u001b[38;5;241m.\u001b[39m_initial_step \u001b[38;5;241m=\u001b[39m \u001b[38;5;28mself\u001b[39m\u001b[38;5;241m.\u001b[39m_maybe_load_initial_step_from_ckpt()  \u001b[38;5;66;03m# pylint: disable=protected-access\u001b[39;00m\n\u001b[1;32m-> 1401\u001b[0m   \u001b[38;5;28;01mfor\u001b[39;00m step \u001b[38;5;129;01min\u001b[39;00m data_handler\u001b[38;5;241m.\u001b[39msteps():\n\u001b[0;32m   1402\u001b[0m     \u001b[38;5;28;01mwith\u001b[39;00m tf\u001b[38;5;241m.\u001b[39mprofiler\u001b[38;5;241m.\u001b[39mexperimental\u001b[38;5;241m.\u001b[39mTrace(\n\u001b[0;32m   1403\u001b[0m         \u001b[38;5;124m'\u001b[39m\u001b[38;5;124mtrain\u001b[39m\u001b[38;5;124m'\u001b[39m,\n\u001b[0;32m   1404\u001b[0m         epoch_num\u001b[38;5;241m=\u001b[39mepoch,\n\u001b[0;32m   1405\u001b[0m         step_num\u001b[38;5;241m=\u001b[39mstep,\n\u001b[0;32m   1406\u001b[0m         batch_size\u001b[38;5;241m=\u001b[39mbatch_size,\n\u001b[0;32m   1407\u001b[0m         _r\u001b[38;5;241m=\u001b[39m\u001b[38;5;241m1\u001b[39m):\n\u001b[0;32m   1408\u001b[0m       callbacks\u001b[38;5;241m.\u001b[39mon_train_batch_begin(step)\n",
      "File \u001b[1;32m~\\anaconda3\\lib\\site-packages\\keras\\engine\\data_adapter.py:1248\u001b[0m, in \u001b[0;36mDataHandler.steps\u001b[1;34m(self)\u001b[0m\n\u001b[0;32m   1246\u001b[0m \u001b[38;5;28;01mif\u001b[39;00m \u001b[38;5;28mself\u001b[39m\u001b[38;5;241m.\u001b[39m_insufficient_data:  \u001b[38;5;66;03m# Set by `catch_stop_iteration`.\u001b[39;00m\n\u001b[0;32m   1247\u001b[0m   \u001b[38;5;28;01mbreak\u001b[39;00m\n\u001b[1;32m-> 1248\u001b[0m original_spe \u001b[38;5;241m=\u001b[39m \u001b[38;5;28;43mself\u001b[39;49m\u001b[38;5;241;43m.\u001b[39;49m\u001b[43m_steps_per_execution\u001b[49m\u001b[38;5;241;43m.\u001b[39;49m\u001b[43mnumpy\u001b[49m\u001b[43m(\u001b[49m\u001b[43m)\u001b[49m\u001b[38;5;241m.\u001b[39mitem()\n\u001b[0;32m   1249\u001b[0m can_run_full_execution \u001b[38;5;241m=\u001b[39m (\n\u001b[0;32m   1250\u001b[0m     original_spe \u001b[38;5;241m==\u001b[39m \u001b[38;5;241m1\u001b[39m \u001b[38;5;129;01mor\u001b[39;00m\n\u001b[0;32m   1251\u001b[0m     \u001b[38;5;28mself\u001b[39m\u001b[38;5;241m.\u001b[39m_inferred_steps \u001b[38;5;129;01mis\u001b[39;00m \u001b[38;5;28;01mNone\u001b[39;00m \u001b[38;5;129;01mor\u001b[39;00m\n\u001b[0;32m   1252\u001b[0m     \u001b[38;5;28mself\u001b[39m\u001b[38;5;241m.\u001b[39m_inferred_steps \u001b[38;5;241m-\u001b[39m \u001b[38;5;28mself\u001b[39m\u001b[38;5;241m.\u001b[39m_current_step \u001b[38;5;241m>\u001b[39m\u001b[38;5;241m=\u001b[39m\n\u001b[0;32m   1253\u001b[0m     original_spe)\n\u001b[0;32m   1255\u001b[0m \u001b[38;5;28;01mif\u001b[39;00m can_run_full_execution:\n",
      "File \u001b[1;32m~\\anaconda3\\lib\\site-packages\\tensorflow\\python\\ops\\resource_variable_ops.py:637\u001b[0m, in \u001b[0;36mBaseResourceVariable.numpy\u001b[1;34m(self)\u001b[0m\n\u001b[0;32m    635\u001b[0m \u001b[38;5;28;01mdef\u001b[39;00m \u001b[38;5;21mnumpy\u001b[39m(\u001b[38;5;28mself\u001b[39m):\n\u001b[0;32m    636\u001b[0m   \u001b[38;5;28;01mif\u001b[39;00m context\u001b[38;5;241m.\u001b[39mexecuting_eagerly():\n\u001b[1;32m--> 637\u001b[0m     \u001b[38;5;28;01mreturn\u001b[39;00m \u001b[38;5;28;43mself\u001b[39;49m\u001b[38;5;241;43m.\u001b[39;49m\u001b[43mread_value\u001b[49m\u001b[43m(\u001b[49m\u001b[43m)\u001b[49m\u001b[38;5;241m.\u001b[39mnumpy()\n\u001b[0;32m    638\u001b[0m   \u001b[38;5;28;01mraise\u001b[39;00m \u001b[38;5;167;01mNotImplementedError\u001b[39;00m(\n\u001b[0;32m    639\u001b[0m       \u001b[38;5;124m\"\u001b[39m\u001b[38;5;124mnumpy() is only available when eager execution is enabled.\u001b[39m\u001b[38;5;124m\"\u001b[39m)\n",
      "File \u001b[1;32m~\\anaconda3\\lib\\site-packages\\tensorflow\\python\\ops\\resource_variable_ops.py:712\u001b[0m, in \u001b[0;36mBaseResourceVariable.read_value\u001b[1;34m(self)\u001b[0m\n\u001b[0;32m    703\u001b[0m \u001b[38;5;124;03m\"\"\"Constructs an op which reads the value of this variable.\u001b[39;00m\n\u001b[0;32m    704\u001b[0m \n\u001b[0;32m    705\u001b[0m \u001b[38;5;124;03mShould be used when there are multiple reads, or when it is desirable to\u001b[39;00m\n\u001b[1;32m   (...)\u001b[0m\n\u001b[0;32m    709\u001b[0m \u001b[38;5;124;03m the read operation.\u001b[39;00m\n\u001b[0;32m    710\u001b[0m \u001b[38;5;124;03m\"\"\"\u001b[39;00m\n\u001b[0;32m    711\u001b[0m \u001b[38;5;28;01mwith\u001b[39;00m ops\u001b[38;5;241m.\u001b[39mname_scope(\u001b[38;5;124m\"\u001b[39m\u001b[38;5;124mRead\u001b[39m\u001b[38;5;124m\"\u001b[39m):\n\u001b[1;32m--> 712\u001b[0m   value \u001b[38;5;241m=\u001b[39m \u001b[38;5;28;43mself\u001b[39;49m\u001b[38;5;241;43m.\u001b[39;49m\u001b[43m_read_variable_op\u001b[49m\u001b[43m(\u001b[49m\u001b[43m)\u001b[49m\n\u001b[0;32m    713\u001b[0m \u001b[38;5;66;03m# Return an identity so it can get placed on whatever device the context\u001b[39;00m\n\u001b[0;32m    714\u001b[0m \u001b[38;5;66;03m# specifies instead of the device where the variable is.\u001b[39;00m\n\u001b[0;32m    715\u001b[0m \u001b[38;5;28;01mreturn\u001b[39;00m array_ops\u001b[38;5;241m.\u001b[39midentity(value)\n",
      "File \u001b[1;32m~\\anaconda3\\lib\\site-packages\\tensorflow\\python\\ops\\resource_variable_ops.py:691\u001b[0m, in \u001b[0;36mBaseResourceVariable._read_variable_op\u001b[1;34m(self)\u001b[0m\n\u001b[0;32m    689\u001b[0m       result \u001b[38;5;241m=\u001b[39m read_and_set_handle()\n\u001b[0;32m    690\u001b[0m \u001b[38;5;28;01melse\u001b[39;00m:\n\u001b[1;32m--> 691\u001b[0m   result \u001b[38;5;241m=\u001b[39m \u001b[43mread_and_set_handle\u001b[49m\u001b[43m(\u001b[49m\u001b[43m)\u001b[49m\n\u001b[0;32m    693\u001b[0m \u001b[38;5;28;01mif\u001b[39;00m \u001b[38;5;129;01mnot\u001b[39;00m context\u001b[38;5;241m.\u001b[39mexecuting_eagerly():\n\u001b[0;32m    694\u001b[0m   \u001b[38;5;66;03m# Note that if a control flow context is active the input of the read op\u001b[39;00m\n\u001b[0;32m    695\u001b[0m   \u001b[38;5;66;03m# might not actually be the handle. This line bypasses it.\u001b[39;00m\n\u001b[0;32m    696\u001b[0m   tape\u001b[38;5;241m.\u001b[39mrecord_operation(\n\u001b[0;32m    697\u001b[0m       \u001b[38;5;124m\"\u001b[39m\u001b[38;5;124mReadVariableOp\u001b[39m\u001b[38;5;124m\"\u001b[39m, [result], [\u001b[38;5;28mself\u001b[39m\u001b[38;5;241m.\u001b[39mhandle],\n\u001b[0;32m    698\u001b[0m       backward_function\u001b[38;5;241m=\u001b[39m\u001b[38;5;28;01mlambda\u001b[39;00m x: [x],\n\u001b[0;32m    699\u001b[0m       forward_function\u001b[38;5;241m=\u001b[39m\u001b[38;5;28;01mlambda\u001b[39;00m x: [x])\n",
      "File \u001b[1;32m~\\anaconda3\\lib\\site-packages\\tensorflow\\python\\ops\\resource_variable_ops.py:681\u001b[0m, in \u001b[0;36mBaseResourceVariable._read_variable_op.<locals>.read_and_set_handle\u001b[1;34m()\u001b[0m\n\u001b[0;32m    680\u001b[0m \u001b[38;5;28;01mdef\u001b[39;00m \u001b[38;5;21mread_and_set_handle\u001b[39m():\n\u001b[1;32m--> 681\u001b[0m   result \u001b[38;5;241m=\u001b[39m \u001b[43mgen_resource_variable_ops\u001b[49m\u001b[38;5;241;43m.\u001b[39;49m\u001b[43mread_variable_op\u001b[49m\u001b[43m(\u001b[49m\n\u001b[0;32m    682\u001b[0m \u001b[43m      \u001b[49m\u001b[38;5;28;43mself\u001b[39;49m\u001b[38;5;241;43m.\u001b[39;49m\u001b[43mhandle\u001b[49m\u001b[43m,\u001b[49m\u001b[43m \u001b[49m\u001b[38;5;28;43mself\u001b[39;49m\u001b[38;5;241;43m.\u001b[39;49m\u001b[43m_dtype\u001b[49m\u001b[43m)\u001b[49m\n\u001b[0;32m    683\u001b[0m   _maybe_set_handle_data(\u001b[38;5;28mself\u001b[39m\u001b[38;5;241m.\u001b[39m_dtype, \u001b[38;5;28mself\u001b[39m\u001b[38;5;241m.\u001b[39mhandle, result)\n\u001b[0;32m    684\u001b[0m   \u001b[38;5;28;01mreturn\u001b[39;00m result\n",
      "File \u001b[1;32m~\\anaconda3\\lib\\site-packages\\tensorflow\\python\\ops\\gen_resource_variable_ops.py:478\u001b[0m, in \u001b[0;36mread_variable_op\u001b[1;34m(resource, dtype, name)\u001b[0m\n\u001b[0;32m    476\u001b[0m \u001b[38;5;28;01mif\u001b[39;00m tld\u001b[38;5;241m.\u001b[39mis_eager:\n\u001b[0;32m    477\u001b[0m   \u001b[38;5;28;01mtry\u001b[39;00m:\n\u001b[1;32m--> 478\u001b[0m     _result \u001b[38;5;241m=\u001b[39m \u001b[43mpywrap_tfe\u001b[49m\u001b[38;5;241;43m.\u001b[39;49m\u001b[43mTFE_Py_FastPathExecute\u001b[49m\u001b[43m(\u001b[49m\n\u001b[0;32m    479\u001b[0m \u001b[43m      \u001b[49m\u001b[43m_ctx\u001b[49m\u001b[43m,\u001b[49m\u001b[43m \u001b[49m\u001b[38;5;124;43m\"\u001b[39;49m\u001b[38;5;124;43mReadVariableOp\u001b[39;49m\u001b[38;5;124;43m\"\u001b[39;49m\u001b[43m,\u001b[49m\u001b[43m \u001b[49m\u001b[43mname\u001b[49m\u001b[43m,\u001b[49m\u001b[43m \u001b[49m\u001b[43mresource\u001b[49m\u001b[43m,\u001b[49m\u001b[43m \u001b[49m\u001b[38;5;124;43m\"\u001b[39;49m\u001b[38;5;124;43mdtype\u001b[39;49m\u001b[38;5;124;43m\"\u001b[39;49m\u001b[43m,\u001b[49m\u001b[43m \u001b[49m\u001b[43mdtype\u001b[49m\u001b[43m)\u001b[49m\n\u001b[0;32m    480\u001b[0m     \u001b[38;5;28;01mreturn\u001b[39;00m _result\n\u001b[0;32m    481\u001b[0m   \u001b[38;5;28;01mexcept\u001b[39;00m _core\u001b[38;5;241m.\u001b[39m_NotOkStatusException \u001b[38;5;28;01mas\u001b[39;00m e:\n",
      "\u001b[1;31mKeyboardInterrupt\u001b[0m: "
     ]
    }
   ],
   "source": [
    "tuner.search(\n",
    "    x_train_norm, y_train, \n",
    "    epochs=500, \n",
    "    validation_data=(x_test_norm, y_test))\n",
    "\n",
    "best_model = tuner.get_best_models()[0]"
   ]
  },
  {
   "cell_type": "code",
   "execution_count": 52,
   "metadata": {
    "id": "70gOV5Idme4w"
   },
   "outputs": [
    {
     "name": "stdout",
     "output_type": "stream",
     "text": [
      "Search space summary\n",
      "Default search space size: 1\n",
      "units (Choice)\n",
      "{'default': 10, 'conditions': [], 'values': [10, 20, 30], 'ordered': True}\n"
     ]
    }
   ],
   "source": [
    "tuner.search_space_summary()"
   ]
  },
  {
   "cell_type": "code",
   "execution_count": 53,
   "metadata": {
    "id": "zcF6Ogb_mtYW"
   },
   "outputs": [
    {
     "name": "stdout",
     "output_type": "stream",
     "text": [
      "Results summary\n",
      "Results in .\\untitled_project\n",
      "Showing 10 best trials\n",
      "<keras_tuner.engine.objective.Objective object at 0x000001D3D0FE27F0>\n",
      "Trial summary\n",
      "Hyperparameters:\n",
      "units: 30\n",
      "Score: 15.598858833312988\n",
      "Trial summary\n",
      "Hyperparameters:\n",
      "units: 10\n",
      "Score: 17.443344116210938\n"
     ]
    }
   ],
   "source": [
    "tuner.results_summary()"
   ]
  },
  {
   "cell_type": "code",
   "execution_count": null,
   "metadata": {},
   "outputs": [],
   "source": []
  }
 ],
 "metadata": {
  "colab": {
   "name": "Copy of TF_Boston_Housing_Regression.ipynb",
   "provenance": []
  },
  "kernelspec": {
   "display_name": "Python 3 (ipykernel)",
   "language": "python",
   "name": "python3"
  },
  "language_info": {
   "codemirror_mode": {
    "name": "ipython",
    "version": 3
   },
   "file_extension": ".py",
   "mimetype": "text/x-python",
   "name": "python",
   "nbconvert_exporter": "python",
   "pygments_lexer": "ipython3",
   "version": "3.9.12"
  }
 },
 "nbformat": 4,
 "nbformat_minor": 1
}
