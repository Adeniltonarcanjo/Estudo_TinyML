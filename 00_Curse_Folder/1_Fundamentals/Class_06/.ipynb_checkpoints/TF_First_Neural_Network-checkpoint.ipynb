{
 "cells": [
  {
   "cell_type": "markdown",
   "metadata": {
    "id": "8LXOB7WZMEyN"
   },
   "source": [
    "# TF First Neural Network"
   ]
  },
  {
   "cell_type": "markdown",
   "metadata": {
    "id": "O9_MLEnwMGLw"
   },
   "source": [
    "## Import Libraries"
   ]
  },
  {
   "cell_type": "code",
   "execution_count": 1,
   "metadata": {
    "colab": {
     "base_uri": "https://localhost:8080/"
    },
    "executionInfo": {
     "elapsed": 1997,
     "status": "ok",
     "timestamp": 1632333658937,
     "user": {
      "displayName": "Marcelo José Rovai",
      "photoUrl": "https://lh3.googleusercontent.com/a-/AOh14GhPvH_StPBhTERI1L0_qJsWCe1NDJFhrvdNWsZ1=s64",
      "userId": "17149450504426282540"
     },
     "user_tz": 180
    },
    "id": "QCm3x_4F8bvg",
    "outputId": "16977961-46ca-4ee3-a5a7-cda50b4d1c52"
   },
   "outputs": [
    {
     "name": "stdout",
     "output_type": "stream",
     "text": [
      "2.9.1\n"
     ]
    }
   ],
   "source": [
    "import tensorflow as tf\n",
    "import numpy as np\n",
    "\n",
    "print(tf.version.VERSION)"
   ]
  },
  {
   "cell_type": "markdown",
   "metadata": {
    "id": "TFwzjVOyMYj0"
   },
   "source": [
    "## Dataset"
   ]
  },
  {
   "cell_type": "code",
   "execution_count": 2,
   "metadata": {
    "executionInfo": {
     "elapsed": 213,
     "status": "ok",
     "timestamp": 1632333690181,
     "user": {
      "displayName": "Marcelo José Rovai",
      "photoUrl": "https://lh3.googleusercontent.com/a-/AOh14GhPvH_StPBhTERI1L0_qJsWCe1NDJFhrvdNWsZ1=s64",
      "userId": "17149450504426282540"
     },
     "user_tz": 180
    },
    "id": "o4i0p7efDX2M"
   },
   "outputs": [],
   "source": [
    "# define some training data (xs as inputs and ys as outputs)\n",
    "\n",
    "xs = np.array([-1.0,  0.0, 1.0, 2.0, 3.0, 4.0], dtype=float) \n",
    "ys = np.array([-3.0, -1.0, 1.0, 3.0, 5.0, 7.0], dtype=float)"
   ]
  },
  {
   "cell_type": "code",
   "execution_count": 3,
   "metadata": {
    "colab": {
     "base_uri": "https://localhost:8080/"
    },
    "executionInfo": {
     "elapsed": 203,
     "status": "ok",
     "timestamp": 1632333698027,
     "user": {
      "displayName": "Marcelo José Rovai",
      "photoUrl": "https://lh3.googleusercontent.com/a-/AOh14GhPvH_StPBhTERI1L0_qJsWCe1NDJFhrvdNWsZ1=s64",
      "userId": "17149450504426282540"
     },
     "user_tz": 180
    },
    "id": "B18xXBYQZAvH",
    "outputId": "e2485ecb-7045-45de-d98e-dbed5962fc98"
   },
   "outputs": [
    {
     "name": "stdout",
     "output_type": "stream",
     "text": [
      "[-1.  0.  1.  2.  3.  4.] (6,)\n",
      "[-3. -1.  1.  3.  5.  7.] (6,)\n"
     ]
    }
   ],
   "source": [
    "print(xs, xs.shape)\n",
    "print(ys, ys.shape)"
   ]
  },
  {
   "cell_type": "markdown",
   "metadata": {
    "id": "GVMr79-_MiII"
   },
   "source": [
    "## Define Model (NN Arquitecture)"
   ]
  },
  {
   "cell_type": "code",
   "execution_count": 4,
   "metadata": {
    "executionInfo": {
     "elapsed": 218,
     "status": "ok",
     "timestamp": 1632333908655,
     "user": {
      "displayName": "Marcelo José Rovai",
      "photoUrl": "https://lh3.googleusercontent.com/a-/AOh14GhPvH_StPBhTERI1L0_qJsWCe1NDJFhrvdNWsZ1=s64",
      "userId": "17149450504426282540"
     },
     "user_tz": 180
    },
    "id": "CLqOZPfC8gfb"
   },
   "outputs": [],
   "source": [
    "# define a neural network with one neuron\n",
    "# for more information on TF functions see: https://www.tensorflow.org/api_docs\n",
    "\n",
    "model = tf.keras.Sequential([tf.keras.layers.Dense( units=1, input_shape=[1])])"
   ]
  },
  {
   "cell_type": "code",
   "execution_count": 5,
   "metadata": {
    "colab": {
     "base_uri": "https://localhost:8080/"
    },
    "executionInfo": {
     "elapsed": 321,
     "status": "ok",
     "timestamp": 1632333913480,
     "user": {
      "displayName": "Marcelo José Rovai",
      "photoUrl": "https://lh3.googleusercontent.com/a-/AOh14GhPvH_StPBhTERI1L0_qJsWCe1NDJFhrvdNWsZ1=s64",
      "userId": "17149450504426282540"
     },
     "user_tz": 180
    },
    "id": "B_iL7WpMNCWp",
    "outputId": "7408876e-fae4-484e-e9d5-e17a17defbf0"
   },
   "outputs": [
    {
     "name": "stdout",
     "output_type": "stream",
     "text": [
      "Model: \"sequential\"\n",
      "_________________________________________________________________\n",
      " Layer (type)                Output Shape              Param #   \n",
      "=================================================================\n",
      " dense (Dense)               (None, 1)                 2         \n",
      "                                                                 \n",
      "=================================================================\n",
      "Total params: 2\n",
      "Trainable params: 2\n",
      "Non-trainable params: 0\n",
      "_________________________________________________________________\n"
     ]
    }
   ],
   "source": [
    "model.summary()"
   ]
  },
  {
   "cell_type": "markdown",
   "metadata": {
    "id": "4OwyFUcKO_Bf"
   },
   "source": [
    "**Default parameters' inicialization**\n",
    "- kernel_initializer ('ws') => 'glorot_uniform' (Xavier)\n",
    "- bias_initializer  ('bs') => 'zeros'"
   ]
  },
  {
   "cell_type": "markdown",
   "metadata": {
    "id": "UsF5wyWpO3fP"
   },
   "source": [
    "**Viewing initial weights (parameters)**"
   ]
  },
  {
   "cell_type": "code",
   "execution_count": 6,
   "metadata": {
    "colab": {
     "base_uri": "https://localhost:8080/"
    },
    "executionInfo": {
     "elapsed": 206,
     "status": "ok",
     "timestamp": 1632333916957,
     "user": {
      "displayName": "Marcelo José Rovai",
      "photoUrl": "https://lh3.googleusercontent.com/a-/AOh14GhPvH_StPBhTERI1L0_qJsWCe1NDJFhrvdNWsZ1=s64",
      "userId": "17149450504426282540"
     },
     "user_tz": 180
    },
    "id": "foCw7XZhNU8i",
    "outputId": "f157801e-5978-4f1b-e223-45148c2ea254"
   },
   "outputs": [
    {
     "data": {
      "text/plain": [
       "[array([[0.79884255]], dtype=float32), array([0.], dtype=float32)]"
      ]
     },
     "execution_count": 6,
     "metadata": {},
     "output_type": "execute_result"
    }
   ],
   "source": [
    "model.get_weights() # list of parameters "
   ]
  },
  {
   "cell_type": "code",
   "execution_count": 7,
   "metadata": {
    "colab": {
     "base_uri": "https://localhost:8080/"
    },
    "executionInfo": {
     "elapsed": 490,
     "status": "ok",
     "timestamp": 1632333919647,
     "user": {
      "displayName": "Marcelo José Rovai",
      "photoUrl": "https://lh3.googleusercontent.com/a-/AOh14GhPvH_StPBhTERI1L0_qJsWCe1NDJFhrvdNWsZ1=s64",
      "userId": "17149450504426282540"
     },
     "user_tz": 180
    },
    "id": "c7Z5OEcDOAEy",
    "outputId": "7b3a9bb8-b626-4935-e8b6-a8473f27a809"
   },
   "outputs": [
    {
     "name": "stdout",
     "output_type": "stream",
     "text": [
      "wi =  0.79884255\n",
      "b  =  0.0\n"
     ]
    }
   ],
   "source": [
    "print(\"wi = \", model.get_weights()[0][0][0])\n",
    "print(\"b  = \", model.get_weights()[1][0])"
   ]
  },
  {
   "cell_type": "markdown",
   "metadata": {
    "id": "SaqMbbf5Mos8"
   },
   "source": [
    "## Compile Model"
   ]
  },
  {
   "cell_type": "code",
   "execution_count": 8,
   "metadata": {
    "executionInfo": {
     "elapsed": 302,
     "status": "ok",
     "timestamp": 1632333937225,
     "user": {
      "displayName": "Marcelo José Rovai",
      "photoUrl": "https://lh3.googleusercontent.com/a-/AOh14GhPvH_StPBhTERI1L0_qJsWCe1NDJFhrvdNWsZ1=s64",
      "userId": "17149450504426282540"
     },
     "user_tz": 180
    },
    "id": "rUyEy3iMDKy3"
   },
   "outputs": [],
   "source": [
    "# use stochastic gradient descent for optimization and\n",
    "# the mean squared error loss function\n",
    "\n",
    "model.compile(optimizer='sgd', loss='mean_squared_error')"
   ]
  },
  {
   "cell_type": "code",
   "execution_count": 9,
   "metadata": {
    "executionInfo": {
     "elapsed": 216,
     "status": "ok",
     "timestamp": 1632333965243,
     "user": {
      "displayName": "Marcelo José Rovai",
      "photoUrl": "https://lh3.googleusercontent.com/a-/AOh14GhPvH_StPBhTERI1L0_qJsWCe1NDJFhrvdNWsZ1=s64",
      "userId": "17149450504426282540"
     },
     "user_tz": 180
    },
    "id": "WKNnF1lxynzI"
   },
   "outputs": [],
   "source": [
    "model.save('my_first_model_no_training.h5')"
   ]
  },
  {
   "cell_type": "code",
   "execution_count": 10,
   "metadata": {
    "colab": {
     "base_uri": "https://localhost:8080/"
    },
    "executionInfo": {
     "elapsed": 558,
     "status": "ok",
     "timestamp": 1632334093033,
     "user": {
      "displayName": "Marcelo José Rovai",
      "photoUrl": "https://lh3.googleusercontent.com/a-/AOh14GhPvH_StPBhTERI1L0_qJsWCe1NDJFhrvdNWsZ1=s64",
      "userId": "17149450504426282540"
     },
     "user_tz": 180
    },
    "id": "L98RvpdusUYf",
    "outputId": "47f8aa5e-aa50-4675-f92b-7090a62b01b0"
   },
   "outputs": [
    {
     "name": "stdout",
     "output_type": "stream",
     "text": [
      "1/1 [==============================] - 1s 529ms/step\n",
      "[[7.9884253]]\n"
     ]
    }
   ],
   "source": [
    "print(model.predict([10.0]))"
   ]
  },
  {
   "cell_type": "markdown",
   "metadata": {
    "id": "Up_aZaU-zouh"
   },
   "source": [
    "Inspecting Model with [Netron](https://netron.app)"
   ]
  },
  {
   "cell_type": "markdown",
   "metadata": {
    "id": "RDHKYghlNBLh"
   },
   "source": [
    "## Training"
   ]
  },
  {
   "cell_type": "code",
   "execution_count": 11,
   "metadata": {
    "colab": {
     "base_uri": "https://localhost:8080/"
    },
    "executionInfo": {
     "elapsed": 10802,
     "status": "ok",
     "timestamp": 1632334228892,
     "user": {
      "displayName": "Marcelo José Rovai",
      "photoUrl": "https://lh3.googleusercontent.com/a-/AOh14GhPvH_StPBhTERI1L0_qJsWCe1NDJFhrvdNWsZ1=s64",
      "userId": "17149450504426282540"
     },
     "user_tz": 180
    },
    "id": "UorrgCYTETFn",
    "outputId": "632d8a9a-9755-4020-af7c-611a8ee4b5bb"
   },
   "outputs": [
    {
     "name": "stdout",
     "output_type": "stream",
     "text": [
      "Epoch 1/500\n",
      "1/1 [==============================] - 1s 820ms/step - loss: 4.8509\n",
      "Epoch 2/500\n",
      "1/1 [==============================] - 0s 12ms/step - loss: 3.9899\n",
      "Epoch 3/500\n",
      "1/1 [==============================] - 0s 14ms/step - loss: 3.3089\n",
      "Epoch 4/500\n",
      "1/1 [==============================] - 0s 6ms/step - loss: 2.7697\n",
      "Epoch 5/500\n",
      "1/1 [==============================] - 0s 20ms/step - loss: 2.3420\n",
      "Epoch 6/500\n",
      "1/1 [==============================] - 0s 12ms/step - loss: 2.0022\n",
      "Epoch 7/500\n",
      "1/1 [==============================] - 0s 13ms/step - loss: 1.7316\n",
      "Epoch 8/500\n",
      "1/1 [==============================] - 0s 11ms/step - loss: 1.5155\n",
      "Epoch 9/500\n",
      "1/1 [==============================] - 0s 6ms/step - loss: 1.3423\n",
      "Epoch 10/500\n",
      "1/1 [==============================] - 0s 6ms/step - loss: 1.2029\n",
      "Epoch 11/500\n",
      "1/1 [==============================] - 0s 6ms/step - loss: 1.0903\n",
      "Epoch 12/500\n",
      "1/1 [==============================] - 0s 12ms/step - loss: 0.9987\n",
      "Epoch 13/500\n",
      "1/1 [==============================] - 0s 6ms/step - loss: 0.9238\n",
      "Epoch 14/500\n",
      "1/1 [==============================] - 0s 6ms/step - loss: 0.8620\n",
      "Epoch 15/500\n",
      "1/1 [==============================] - 0s 10ms/step - loss: 0.8106\n",
      "Epoch 16/500\n",
      "1/1 [==============================] - 0s 11ms/step - loss: 0.7674\n",
      "Epoch 17/500\n",
      "1/1 [==============================] - 0s 14ms/step - loss: 0.7308\n",
      "Epoch 18/500\n",
      "1/1 [==============================] - 0s 6ms/step - loss: 0.6994\n",
      "Epoch 19/500\n",
      "1/1 [==============================] - 0s 6ms/step - loss: 0.6721\n",
      "Epoch 20/500\n",
      "1/1 [==============================] - 0s 7ms/step - loss: 0.6482\n",
      "Epoch 21/500\n",
      "1/1 [==============================] - 0s 7ms/step - loss: 0.6269\n",
      "Epoch 22/500\n",
      "1/1 [==============================] - 0s 10ms/step - loss: 0.6077\n",
      "Epoch 23/500\n",
      "1/1 [==============================] - 0s 6ms/step - loss: 0.5903\n",
      "Epoch 24/500\n",
      "1/1 [==============================] - 0s 6ms/step - loss: 0.5743\n",
      "Epoch 25/500\n",
      "1/1 [==============================] - 0s 8ms/step - loss: 0.5594\n",
      "Epoch 26/500\n",
      "1/1 [==============================] - 0s 6ms/step - loss: 0.5455\n",
      "Epoch 27/500\n",
      "1/1 [==============================] - 0s 5ms/step - loss: 0.5324\n",
      "Epoch 28/500\n",
      "1/1 [==============================] - 0s 8ms/step - loss: 0.5200\n",
      "Epoch 29/500\n",
      "1/1 [==============================] - 0s 5ms/step - loss: 0.5081\n",
      "Epoch 30/500\n",
      "1/1 [==============================] - 0s 7ms/step - loss: 0.4968\n",
      "Epoch 31/500\n",
      "1/1 [==============================] - 0s 5ms/step - loss: 0.4858\n",
      "Epoch 32/500\n",
      "1/1 [==============================] - 0s 9ms/step - loss: 0.4753\n",
      "Epoch 33/500\n",
      "1/1 [==============================] - 0s 6ms/step - loss: 0.4651\n",
      "Epoch 34/500\n",
      "1/1 [==============================] - 0s 5ms/step - loss: 0.4552\n",
      "Epoch 35/500\n",
      "1/1 [==============================] - 0s 7ms/step - loss: 0.4455\n",
      "Epoch 36/500\n",
      "1/1 [==============================] - 0s 5ms/step - loss: 0.4362\n",
      "Epoch 37/500\n",
      "1/1 [==============================] - 0s 6ms/step - loss: 0.4270\n",
      "Epoch 38/500\n",
      "1/1 [==============================] - 0s 7ms/step - loss: 0.4181\n",
      "Epoch 39/500\n",
      "1/1 [==============================] - 0s 6ms/step - loss: 0.4094\n",
      "Epoch 40/500\n",
      "1/1 [==============================] - 0s 8ms/step - loss: 0.4009\n",
      "Epoch 41/500\n",
      "1/1 [==============================] - 0s 13ms/step - loss: 0.3926\n",
      "Epoch 42/500\n",
      "1/1 [==============================] - 0s 6ms/step - loss: 0.3845\n",
      "Epoch 43/500\n",
      "1/1 [==============================] - 0s 9ms/step - loss: 0.3766\n",
      "Epoch 44/500\n",
      "1/1 [==============================] - 0s 8ms/step - loss: 0.3688\n",
      "Epoch 45/500\n",
      "1/1 [==============================] - 0s 5ms/step - loss: 0.3612\n",
      "Epoch 46/500\n",
      "1/1 [==============================] - 0s 9ms/step - loss: 0.3538\n",
      "Epoch 47/500\n",
      "1/1 [==============================] - 0s 6ms/step - loss: 0.3465\n",
      "Epoch 48/500\n",
      "1/1 [==============================] - 0s 6ms/step - loss: 0.3394\n",
      "Epoch 49/500\n",
      "1/1 [==============================] - 0s 6ms/step - loss: 0.3324\n",
      "Epoch 50/500\n",
      "1/1 [==============================] - 0s 6ms/step - loss: 0.3255\n",
      "Epoch 51/500\n",
      "1/1 [==============================] - 0s 6ms/step - loss: 0.3189\n",
      "Epoch 52/500\n",
      "1/1 [==============================] - 0s 7ms/step - loss: 0.3123\n",
      "Epoch 53/500\n",
      "1/1 [==============================] - 0s 5ms/step - loss: 0.3059\n",
      "Epoch 54/500\n",
      "1/1 [==============================] - 0s 8ms/step - loss: 0.2996\n",
      "Epoch 55/500\n",
      "1/1 [==============================] - 0s 6ms/step - loss: 0.2934\n",
      "Epoch 56/500\n",
      "1/1 [==============================] - 0s 8ms/step - loss: 0.2874\n",
      "Epoch 57/500\n",
      "1/1 [==============================] - 0s 5ms/step - loss: 0.2815\n",
      "Epoch 58/500\n",
      "1/1 [==============================] - 0s 8ms/step - loss: 0.2757\n",
      "Epoch 59/500\n",
      "1/1 [==============================] - 0s 6ms/step - loss: 0.2701\n",
      "Epoch 60/500\n",
      "1/1 [==============================] - 0s 6ms/step - loss: 0.2645\n",
      "Epoch 61/500\n",
      "1/1 [==============================] - 0s 8ms/step - loss: 0.2591\n",
      "Epoch 62/500\n",
      "1/1 [==============================] - 0s 5ms/step - loss: 0.2538\n",
      "Epoch 63/500\n",
      "1/1 [==============================] - 0s 6ms/step - loss: 0.2485\n",
      "Epoch 64/500\n",
      "1/1 [==============================] - 0s 6ms/step - loss: 0.2434\n",
      "Epoch 65/500\n",
      "1/1 [==============================] - 0s 5ms/step - loss: 0.2384\n",
      "Epoch 66/500\n",
      "1/1 [==============================] - 0s 9ms/step - loss: 0.2335\n",
      "Epoch 67/500\n",
      "1/1 [==============================] - 0s 6ms/step - loss: 0.2287\n",
      "Epoch 68/500\n",
      "1/1 [==============================] - 0s 8ms/step - loss: 0.2240\n",
      "Epoch 69/500\n",
      "1/1 [==============================] - 0s 6ms/step - loss: 0.2194\n",
      "Epoch 70/500\n",
      "1/1 [==============================] - 0s 6ms/step - loss: 0.2149\n",
      "Epoch 71/500\n",
      "1/1 [==============================] - 0s 8ms/step - loss: 0.2105\n",
      "Epoch 72/500\n",
      "1/1 [==============================] - 0s 6ms/step - loss: 0.2062\n",
      "Epoch 73/500\n",
      "1/1 [==============================] - 0s 9ms/step - loss: 0.2020\n",
      "Epoch 74/500\n",
      "1/1 [==============================] - 0s 8ms/step - loss: 0.1978\n",
      "Epoch 75/500\n",
      "1/1 [==============================] - 0s 6ms/step - loss: 0.1937\n",
      "Epoch 76/500\n",
      "1/1 [==============================] - 0s 9ms/step - loss: 0.1898\n",
      "Epoch 77/500\n",
      "1/1 [==============================] - 0s 5ms/step - loss: 0.1859\n",
      "Epoch 78/500\n",
      "1/1 [==============================] - 0s 10ms/step - loss: 0.1821\n",
      "Epoch 79/500\n",
      "1/1 [==============================] - 0s 8ms/step - loss: 0.1783\n",
      "Epoch 80/500\n",
      "1/1 [==============================] - 0s 5ms/step - loss: 0.1746\n",
      "Epoch 81/500\n",
      "1/1 [==============================] - 0s 10ms/step - loss: 0.1711\n",
      "Epoch 82/500\n",
      "1/1 [==============================] - 0s 8ms/step - loss: 0.1675\n",
      "Epoch 83/500\n",
      "1/1 [==============================] - 0s 5ms/step - loss: 0.1641\n",
      "Epoch 84/500\n",
      "1/1 [==============================] - 0s 7ms/step - loss: 0.1607\n",
      "Epoch 85/500\n",
      "1/1 [==============================] - 0s 6ms/step - loss: 0.1574\n",
      "Epoch 86/500\n",
      "1/1 [==============================] - 0s 9ms/step - loss: 0.1542\n",
      "Epoch 87/500\n",
      "1/1 [==============================] - 0s 6ms/step - loss: 0.1510\n",
      "Epoch 88/500\n",
      "1/1 [==============================] - 0s 5ms/step - loss: 0.1479\n",
      "Epoch 89/500\n",
      "1/1 [==============================] - 0s 7ms/step - loss: 0.1449\n",
      "Epoch 90/500\n",
      "1/1 [==============================] - 0s 6ms/step - loss: 0.1419\n",
      "Epoch 91/500\n",
      "1/1 [==============================] - 0s 9ms/step - loss: 0.1390\n",
      "Epoch 92/500\n",
      "1/1 [==============================] - 0s 6ms/step - loss: 0.1361\n",
      "Epoch 93/500\n",
      "1/1 [==============================] - 0s 7ms/step - loss: 0.1333\n",
      "Epoch 94/500\n",
      "1/1 [==============================] - 0s 10ms/step - loss: 0.1306\n",
      "Epoch 95/500\n",
      "1/1 [==============================] - 0s 6ms/step - loss: 0.1279\n",
      "Epoch 96/500\n",
      "1/1 [==============================] - 0s 7ms/step - loss: 0.1253\n",
      "Epoch 97/500\n",
      "1/1 [==============================] - 0s 6ms/step - loss: 0.1227\n",
      "Epoch 98/500\n",
      "1/1 [==============================] - 0s 12ms/step - loss: 0.1202\n",
      "Epoch 99/500\n",
      "1/1 [==============================] - 0s 5ms/step - loss: 0.1177\n",
      "Epoch 100/500\n",
      "1/1 [==============================] - 0s 8ms/step - loss: 0.1153\n",
      "Epoch 101/500\n",
      "1/1 [==============================] - 0s 7ms/step - loss: 0.1129\n",
      "Epoch 102/500\n",
      "1/1 [==============================] - 0s 6ms/step - loss: 0.1106\n",
      "Epoch 103/500\n",
      "1/1 [==============================] - 0s 6ms/step - loss: 0.1084\n",
      "Epoch 104/500\n"
     ]
    },
    {
     "name": "stdout",
     "output_type": "stream",
     "text": [
      "1/1 [==============================] - 0s 7ms/step - loss: 0.1061\n",
      "Epoch 105/500\n",
      "1/1 [==============================] - 0s 9ms/step - loss: 0.1040\n",
      "Epoch 106/500\n",
      "1/1 [==============================] - 0s 6ms/step - loss: 0.1018\n",
      "Epoch 107/500\n",
      "1/1 [==============================] - 0s 9ms/step - loss: 0.0997\n",
      "Epoch 108/500\n",
      "1/1 [==============================] - 0s 7ms/step - loss: 0.0977\n",
      "Epoch 109/500\n",
      "1/1 [==============================] - 0s 6ms/step - loss: 0.0957\n",
      "Epoch 110/500\n",
      "1/1 [==============================] - 0s 6ms/step - loss: 0.0937\n",
      "Epoch 111/500\n",
      "1/1 [==============================] - 0s 5ms/step - loss: 0.0918\n",
      "Epoch 112/500\n",
      "1/1 [==============================] - 0s 5ms/step - loss: 0.0899\n",
      "Epoch 113/500\n",
      "1/1 [==============================] - 0s 9ms/step - loss: 0.0880\n",
      "Epoch 114/500\n",
      "1/1 [==============================] - 0s 5ms/step - loss: 0.0862\n",
      "Epoch 115/500\n",
      "1/1 [==============================] - 0s 7ms/step - loss: 0.0845\n",
      "Epoch 116/500\n",
      "1/1 [==============================] - 0s 13ms/step - loss: 0.0827\n",
      "Epoch 117/500\n",
      "1/1 [==============================] - 0s 6ms/step - loss: 0.0810\n",
      "Epoch 118/500\n",
      "1/1 [==============================] - 0s 6ms/step - loss: 0.0794\n",
      "Epoch 119/500\n",
      "1/1 [==============================] - 0s 8ms/step - loss: 0.0777\n",
      "Epoch 120/500\n",
      "1/1 [==============================] - 0s 5ms/step - loss: 0.0761\n",
      "Epoch 121/500\n",
      "1/1 [==============================] - 0s 7ms/step - loss: 0.0746\n",
      "Epoch 122/500\n",
      "1/1 [==============================] - 0s 6ms/step - loss: 0.0730\n",
      "Epoch 123/500\n",
      "1/1 [==============================] - 0s 5ms/step - loss: 0.0715\n",
      "Epoch 124/500\n",
      "1/1 [==============================] - 0s 11ms/step - loss: 0.0701\n",
      "Epoch 125/500\n",
      "1/1 [==============================] - 0s 7ms/step - loss: 0.0686\n",
      "Epoch 126/500\n",
      "1/1 [==============================] - 0s 6ms/step - loss: 0.0672\n",
      "Epoch 127/500\n",
      "1/1 [==============================] - 0s 7ms/step - loss: 0.0658\n",
      "Epoch 128/500\n",
      "1/1 [==============================] - 0s 5ms/step - loss: 0.0645\n",
      "Epoch 129/500\n",
      "1/1 [==============================] - 0s 8ms/step - loss: 0.0632\n",
      "Epoch 130/500\n",
      "1/1 [==============================] - 0s 6ms/step - loss: 0.0619\n",
      "Epoch 131/500\n",
      "1/1 [==============================] - 0s 6ms/step - loss: 0.0606\n",
      "Epoch 132/500\n",
      "1/1 [==============================] - 0s 8ms/step - loss: 0.0594\n",
      "Epoch 133/500\n",
      "1/1 [==============================] - 0s 5ms/step - loss: 0.0581\n",
      "Epoch 134/500\n",
      "1/1 [==============================] - 0s 9ms/step - loss: 0.0569\n",
      "Epoch 135/500\n",
      "1/1 [==============================] - 0s 5ms/step - loss: 0.0558\n",
      "Epoch 136/500\n",
      "1/1 [==============================] - 0s 6ms/step - loss: 0.0546\n",
      "Epoch 137/500\n",
      "1/1 [==============================] - 0s 8ms/step - loss: 0.0535\n",
      "Epoch 138/500\n",
      "1/1 [==============================] - 0s 6ms/step - loss: 0.0524\n",
      "Epoch 139/500\n",
      "1/1 [==============================] - 0s 7ms/step - loss: 0.0513\n",
      "Epoch 140/500\n",
      "1/1 [==============================] - 0s 6ms/step - loss: 0.0503\n",
      "Epoch 141/500\n",
      "1/1 [==============================] - 0s 8ms/step - loss: 0.0492\n",
      "Epoch 142/500\n",
      "1/1 [==============================] - 0s 6ms/step - loss: 0.0482\n",
      "Epoch 143/500\n",
      "1/1 [==============================] - 0s 6ms/step - loss: 0.0472\n",
      "Epoch 144/500\n",
      "1/1 [==============================] - 0s 9ms/step - loss: 0.0463\n",
      "Epoch 145/500\n",
      "1/1 [==============================] - 0s 6ms/step - loss: 0.0453\n",
      "Epoch 146/500\n",
      "1/1 [==============================] - 0s 5ms/step - loss: 0.0444\n",
      "Epoch 147/500\n",
      "1/1 [==============================] - 0s 8ms/step - loss: 0.0435\n",
      "Epoch 148/500\n",
      "1/1 [==============================] - 0s 6ms/step - loss: 0.0426\n",
      "Epoch 149/500\n",
      "1/1 [==============================] - 0s 6ms/step - loss: 0.0417\n",
      "Epoch 150/500\n",
      "1/1 [==============================] - 0s 5ms/step - loss: 0.0409\n",
      "Epoch 151/500\n",
      "1/1 [==============================] - 0s 7ms/step - loss: 0.0400\n",
      "Epoch 152/500\n",
      "1/1 [==============================] - 0s 9ms/step - loss: 0.0392\n",
      "Epoch 153/500\n",
      "1/1 [==============================] - 0s 7ms/step - loss: 0.0384\n",
      "Epoch 154/500\n",
      "1/1 [==============================] - 0s 6ms/step - loss: 0.0376\n",
      "Epoch 155/500\n",
      "1/1 [==============================] - 0s 5ms/step - loss: 0.0368\n",
      "Epoch 156/500\n",
      "1/1 [==============================] - 0s 5ms/step - loss: 0.0361\n",
      "Epoch 157/500\n",
      "1/1 [==============================] - 0s 7ms/step - loss: 0.0353\n",
      "Epoch 158/500\n",
      "1/1 [==============================] - 0s 5ms/step - loss: 0.0346\n",
      "Epoch 159/500\n",
      "1/1 [==============================] - 0s 8ms/step - loss: 0.0339\n",
      "Epoch 160/500\n",
      "1/1 [==============================] - 0s 6ms/step - loss: 0.0332\n",
      "Epoch 161/500\n",
      "1/1 [==============================] - 0s 8ms/step - loss: 0.0325\n",
      "Epoch 162/500\n",
      "1/1 [==============================] - 0s 6ms/step - loss: 0.0318\n",
      "Epoch 163/500\n",
      "1/1 [==============================] - 0s 5ms/step - loss: 0.0312\n",
      "Epoch 164/500\n",
      "1/1 [==============================] - 0s 8ms/step - loss: 0.0306\n",
      "Epoch 165/500\n",
      "1/1 [==============================] - 0s 5ms/step - loss: 0.0299\n",
      "Epoch 166/500\n",
      "1/1 [==============================] - 0s 7ms/step - loss: 0.0293\n",
      "Epoch 167/500\n",
      "1/1 [==============================] - 0s 5ms/step - loss: 0.0287\n",
      "Epoch 168/500\n",
      "1/1 [==============================] - 0s 7ms/step - loss: 0.0281\n",
      "Epoch 169/500\n",
      "1/1 [==============================] - 0s 6ms/step - loss: 0.0275\n",
      "Epoch 170/500\n",
      "1/1 [==============================] - 0s 8ms/step - loss: 0.0270\n",
      "Epoch 171/500\n",
      "1/1 [==============================] - 0s 8ms/step - loss: 0.0264\n",
      "Epoch 172/500\n",
      "1/1 [==============================] - 0s 4ms/step - loss: 0.0259\n",
      "Epoch 173/500\n",
      "1/1 [==============================] - 0s 8ms/step - loss: 0.0253\n",
      "Epoch 174/500\n",
      "1/1 [==============================] - 0s 6ms/step - loss: 0.0248\n",
      "Epoch 175/500\n",
      "1/1 [==============================] - 0s 6ms/step - loss: 0.0243\n",
      "Epoch 176/500\n",
      "1/1 [==============================] - 0s 8ms/step - loss: 0.0238\n",
      "Epoch 177/500\n",
      "1/1 [==============================] - 0s 6ms/step - loss: 0.0233\n",
      "Epoch 178/500\n",
      "1/1 [==============================] - 0s 9ms/step - loss: 0.0228\n",
      "Epoch 179/500\n",
      "1/1 [==============================] - 0s 9ms/step - loss: 0.0224\n",
      "Epoch 180/500\n",
      "1/1 [==============================] - 0s 6ms/step - loss: 0.0219\n",
      "Epoch 181/500\n",
      "1/1 [==============================] - 0s 6ms/step - loss: 0.0215\n",
      "Epoch 182/500\n",
      "1/1 [==============================] - 0s 5ms/step - loss: 0.0210\n",
      "Epoch 183/500\n",
      "1/1 [==============================] - 0s 8ms/step - loss: 0.0206\n",
      "Epoch 184/500\n",
      "1/1 [==============================] - 0s 5ms/step - loss: 0.0202\n",
      "Epoch 185/500\n",
      "1/1 [==============================] - 0s 5ms/step - loss: 0.0198\n",
      "Epoch 186/500\n",
      "1/1 [==============================] - 0s 6ms/step - loss: 0.0194\n",
      "Epoch 187/500\n",
      "1/1 [==============================] - 0s 5ms/step - loss: 0.0190\n",
      "Epoch 188/500\n",
      "1/1 [==============================] - 0s 8ms/step - loss: 0.0186\n",
      "Epoch 189/500\n",
      "1/1 [==============================] - 0s 5ms/step - loss: 0.0182\n",
      "Epoch 190/500\n",
      "1/1 [==============================] - 0s 7ms/step - loss: 0.0178\n",
      "Epoch 191/500\n",
      "1/1 [==============================] - 0s 6ms/step - loss: 0.0174\n",
      "Epoch 192/500\n",
      "1/1 [==============================] - 0s 9ms/step - loss: 0.0171\n",
      "Epoch 193/500\n",
      "1/1 [==============================] - 0s 6ms/step - loss: 0.0167\n",
      "Epoch 194/500\n",
      "1/1 [==============================] - 0s 5ms/step - loss: 0.0164\n",
      "Epoch 195/500\n",
      "1/1 [==============================] - 0s 7ms/step - loss: 0.0161\n",
      "Epoch 196/500\n",
      "1/1 [==============================] - 0s 5ms/step - loss: 0.0157\n",
      "Epoch 197/500\n",
      "1/1 [==============================] - 0s 7ms/step - loss: 0.0154\n",
      "Epoch 198/500\n",
      "1/1 [==============================] - 0s 6ms/step - loss: 0.0151\n",
      "Epoch 199/500\n",
      "1/1 [==============================] - 0s 11ms/step - loss: 0.0148\n",
      "Epoch 200/500\n",
      "1/1 [==============================] - 0s 5ms/step - loss: 0.0145\n",
      "Epoch 201/500\n",
      "1/1 [==============================] - 0s 6ms/step - loss: 0.0142\n",
      "Epoch 202/500\n",
      "1/1 [==============================] - 0s 5ms/step - loss: 0.0139\n",
      "Epoch 203/500\n",
      "1/1 [==============================] - 0s 4ms/step - loss: 0.0136\n",
      "Epoch 204/500\n",
      "1/1 [==============================] - 0s 6ms/step - loss: 0.0133\n",
      "Epoch 205/500\n",
      "1/1 [==============================] - 0s 7ms/step - loss: 0.0130\n",
      "Epoch 206/500\n"
     ]
    },
    {
     "name": "stdout",
     "output_type": "stream",
     "text": [
      "1/1 [==============================] - 0s 8ms/step - loss: 0.0128\n",
      "Epoch 207/500\n",
      "1/1 [==============================] - 0s 5ms/step - loss: 0.0125\n",
      "Epoch 208/500\n",
      "1/1 [==============================] - 0s 7ms/step - loss: 0.0123\n",
      "Epoch 209/500\n",
      "1/1 [==============================] - 0s 5ms/step - loss: 0.0120\n",
      "Epoch 210/500\n",
      "1/1 [==============================] - 0s 6ms/step - loss: 0.0118\n",
      "Epoch 211/500\n",
      "1/1 [==============================] - 0s 5ms/step - loss: 0.0115\n",
      "Epoch 212/500\n",
      "1/1 [==============================] - 0s 5ms/step - loss: 0.0113\n",
      "Epoch 213/500\n",
      "1/1 [==============================] - 0s 8ms/step - loss: 0.0111\n",
      "Epoch 214/500\n",
      "1/1 [==============================] - 0s 6ms/step - loss: 0.0108\n",
      "Epoch 215/500\n",
      "1/1 [==============================] - 0s 8ms/step - loss: 0.0106\n",
      "Epoch 216/500\n",
      "1/1 [==============================] - 0s 5ms/step - loss: 0.0104\n",
      "Epoch 217/500\n",
      "1/1 [==============================] - 0s 6ms/step - loss: 0.0102\n",
      "Epoch 218/500\n",
      "1/1 [==============================] - 0s 6ms/step - loss: 0.0100\n",
      "Epoch 219/500\n",
      "1/1 [==============================] - 0s 5ms/step - loss: 0.0098\n",
      "Epoch 220/500\n",
      "1/1 [==============================] - 0s 7ms/step - loss: 0.0096\n",
      "Epoch 221/500\n",
      "1/1 [==============================] - 0s 6ms/step - loss: 0.0094\n",
      "Epoch 222/500\n",
      "1/1 [==============================] - 0s 8ms/step - loss: 0.0092\n",
      "Epoch 223/500\n",
      "1/1 [==============================] - 0s 7ms/step - loss: 0.0090\n",
      "Epoch 224/500\n",
      "1/1 [==============================] - 0s 6ms/step - loss: 0.0088\n",
      "Epoch 225/500\n",
      "1/1 [==============================] - 0s 9ms/step - loss: 0.0086\n",
      "Epoch 226/500\n",
      "1/1 [==============================] - 0s 6ms/step - loss: 0.0084\n",
      "Epoch 227/500\n",
      "1/1 [==============================] - 0s 9ms/step - loss: 0.0083\n",
      "Epoch 228/500\n",
      "1/1 [==============================] - 0s 10ms/step - loss: 0.0081\n",
      "Epoch 229/500\n",
      "1/1 [==============================] - 0s 6ms/step - loss: 0.0079\n",
      "Epoch 230/500\n",
      "1/1 [==============================] - 0s 9ms/step - loss: 0.0078\n",
      "Epoch 231/500\n",
      "1/1 [==============================] - 0s 6ms/step - loss: 0.0076\n",
      "Epoch 232/500\n",
      "1/1 [==============================] - 0s 7ms/step - loss: 0.0074\n",
      "Epoch 233/500\n",
      "1/1 [==============================] - 0s 10ms/step - loss: 0.0073\n",
      "Epoch 234/500\n",
      "1/1 [==============================] - 0s 7ms/step - loss: 0.0071\n",
      "Epoch 235/500\n",
      "1/1 [==============================] - 0s 5ms/step - loss: 0.0070\n",
      "Epoch 236/500\n",
      "1/1 [==============================] - 0s 9ms/step - loss: 0.0069\n",
      "Epoch 237/500\n",
      "1/1 [==============================] - 0s 8ms/step - loss: 0.0067\n",
      "Epoch 238/500\n",
      "1/1 [==============================] - 0s 7ms/step - loss: 0.0066\n",
      "Epoch 239/500\n",
      "1/1 [==============================] - 0s 7ms/step - loss: 0.0064\n",
      "Epoch 240/500\n",
      "1/1 [==============================] - 0s 5ms/step - loss: 0.0063\n",
      "Epoch 241/500\n",
      "1/1 [==============================] - 0s 9ms/step - loss: 0.0062\n",
      "Epoch 242/500\n",
      "1/1 [==============================] - 0s 6ms/step - loss: 0.0061\n",
      "Epoch 243/500\n",
      "1/1 [==============================] - 0s 6ms/step - loss: 0.0059\n",
      "Epoch 244/500\n",
      "1/1 [==============================] - 0s 7ms/step - loss: 0.0058\n",
      "Epoch 245/500\n",
      "1/1 [==============================] - 0s 6ms/step - loss: 0.0057\n",
      "Epoch 246/500\n",
      "1/1 [==============================] - 0s 9ms/step - loss: 0.0056\n",
      "Epoch 247/500\n",
      "1/1 [==============================] - 0s 6ms/step - loss: 0.0055\n",
      "Epoch 248/500\n",
      "1/1 [==============================] - 0s 5ms/step - loss: 0.0053\n",
      "Epoch 249/500\n",
      "1/1 [==============================] - 0s 6ms/step - loss: 0.0052\n",
      "Epoch 250/500\n",
      "1/1 [==============================] - 0s 7ms/step - loss: 0.0051\n",
      "Epoch 251/500\n",
      "1/1 [==============================] - 0s 9ms/step - loss: 0.0050\n",
      "Epoch 252/500\n",
      "1/1 [==============================] - 0s 5ms/step - loss: 0.0049\n",
      "Epoch 253/500\n",
      "1/1 [==============================] - 0s 6ms/step - loss: 0.0048\n",
      "Epoch 254/500\n",
      "1/1 [==============================] - 0s 10ms/step - loss: 0.0047\n",
      "Epoch 255/500\n",
      "1/1 [==============================] - 0s 6ms/step - loss: 0.0046\n",
      "Epoch 256/500\n",
      "1/1 [==============================] - 0s 6ms/step - loss: 0.0045\n",
      "Epoch 257/500\n",
      "1/1 [==============================] - 0s 10ms/step - loss: 0.0044\n",
      "Epoch 258/500\n",
      "1/1 [==============================] - 0s 12ms/step - loss: 0.0043\n",
      "Epoch 259/500\n",
      "1/1 [==============================] - 0s 6ms/step - loss: 0.0043\n",
      "Epoch 260/500\n",
      "1/1 [==============================] - 0s 8ms/step - loss: 0.0042\n",
      "Epoch 261/500\n",
      "1/1 [==============================] - 0s 9ms/step - loss: 0.0041\n",
      "Epoch 262/500\n",
      "1/1 [==============================] - 0s 8ms/step - loss: 0.0040\n",
      "Epoch 263/500\n",
      "1/1 [==============================] - 0s 10ms/step - loss: 0.0039\n",
      "Epoch 264/500\n",
      "1/1 [==============================] - 0s 10ms/step - loss: 0.0038\n",
      "Epoch 265/500\n",
      "1/1 [==============================] - 0s 6ms/step - loss: 0.0038\n",
      "Epoch 266/500\n",
      "1/1 [==============================] - 0s 8ms/step - loss: 0.0037\n",
      "Epoch 267/500\n",
      "1/1 [==============================] - 0s 6ms/step - loss: 0.0036\n",
      "Epoch 268/500\n",
      "1/1 [==============================] - 0s 10ms/step - loss: 0.0035\n",
      "Epoch 269/500\n",
      "1/1 [==============================] - 0s 7ms/step - loss: 0.0035\n",
      "Epoch 270/500\n",
      "1/1 [==============================] - 0s 7ms/step - loss: 0.0034\n",
      "Epoch 271/500\n",
      "1/1 [==============================] - 0s 6ms/step - loss: 0.0033\n",
      "Epoch 272/500\n",
      "1/1 [==============================] - 0s 6ms/step - loss: 0.0032\n",
      "Epoch 273/500\n",
      "1/1 [==============================] - 0s 6ms/step - loss: 0.0032\n",
      "Epoch 274/500\n",
      "1/1 [==============================] - 0s 5ms/step - loss: 0.0031\n",
      "Epoch 275/500\n",
      "1/1 [==============================] - 0s 8ms/step - loss: 0.0031\n",
      "Epoch 276/500\n",
      "1/1 [==============================] - 0s 7ms/step - loss: 0.0030\n",
      "Epoch 277/500\n",
      "1/1 [==============================] - 0s 6ms/step - loss: 0.0029\n",
      "Epoch 278/500\n",
      "1/1 [==============================] - 0s 8ms/step - loss: 0.0029\n",
      "Epoch 279/500\n",
      "1/1 [==============================] - 0s 6ms/step - loss: 0.0028\n",
      "Epoch 280/500\n",
      "1/1 [==============================] - 0s 7ms/step - loss: 0.0028\n",
      "Epoch 281/500\n",
      "1/1 [==============================] - 0s 6ms/step - loss: 0.0027\n",
      "Epoch 282/500\n",
      "1/1 [==============================] - 0s 5ms/step - loss: 0.0026\n",
      "Epoch 283/500\n",
      "1/1 [==============================] - 0s 6ms/step - loss: 0.0026\n",
      "Epoch 284/500\n",
      "1/1 [==============================] - 0s 6ms/step - loss: 0.0025\n",
      "Epoch 285/500\n",
      "1/1 [==============================] - 0s 7ms/step - loss: 0.0025\n",
      "Epoch 286/500\n",
      "1/1 [==============================] - 0s 7ms/step - loss: 0.0024\n",
      "Epoch 287/500\n",
      "1/1 [==============================] - 0s 5ms/step - loss: 0.0024\n",
      "Epoch 288/500\n",
      "1/1 [==============================] - 0s 5ms/step - loss: 0.0023\n",
      "Epoch 289/500\n",
      "1/1 [==============================] - 0s 7ms/step - loss: 0.0023\n",
      "Epoch 290/500\n",
      "1/1 [==============================] - 0s 9ms/step - loss: 0.0022\n",
      "Epoch 291/500\n",
      "1/1 [==============================] - 0s 5ms/step - loss: 0.0022\n",
      "Epoch 292/500\n",
      "1/1 [==============================] - 0s 8ms/step - loss: 0.0021\n",
      "Epoch 293/500\n",
      "1/1 [==============================] - 0s 5ms/step - loss: 0.0021\n",
      "Epoch 294/500\n",
      "1/1 [==============================] - 0s 7ms/step - loss: 0.0021\n",
      "Epoch 295/500\n",
      "1/1 [==============================] - 0s 6ms/step - loss: 0.0020\n",
      "Epoch 296/500\n",
      "1/1 [==============================] - 0s 5ms/step - loss: 0.0020\n",
      "Epoch 297/500\n",
      "1/1 [==============================] - 0s 5ms/step - loss: 0.0019\n",
      "Epoch 298/500\n",
      "1/1 [==============================] - 0s 11ms/step - loss: 0.0019\n",
      "Epoch 299/500\n",
      "1/1 [==============================] - 0s 6ms/step - loss: 0.0019\n",
      "Epoch 300/500\n",
      "1/1 [==============================] - 0s 10ms/step - loss: 0.0018\n",
      "Epoch 301/500\n",
      "1/1 [==============================] - 0s 6ms/step - loss: 0.0018\n",
      "Epoch 302/500\n",
      "1/1 [==============================] - 0s 8ms/step - loss: 0.0017\n",
      "Epoch 303/500\n",
      "1/1 [==============================] - 0s 6ms/step - loss: 0.0017\n",
      "Epoch 304/500\n",
      "1/1 [==============================] - 0s 7ms/step - loss: 0.0017\n",
      "Epoch 305/500\n",
      "1/1 [==============================] - 0s 8ms/step - loss: 0.0016\n",
      "Epoch 306/500\n",
      "1/1 [==============================] - 0s 5ms/step - loss: 0.0016\n",
      "Epoch 307/500\n",
      "1/1 [==============================] - 0s 6ms/step - loss: 0.0016\n",
      "Epoch 308/500\n"
     ]
    },
    {
     "name": "stdout",
     "output_type": "stream",
     "text": [
      "1/1 [==============================] - 0s 7ms/step - loss: 0.0015\n",
      "Epoch 309/500\n",
      "1/1 [==============================] - 0s 5ms/step - loss: 0.0015\n",
      "Epoch 310/500\n",
      "1/1 [==============================] - 0s 8ms/step - loss: 0.0015\n",
      "Epoch 311/500\n",
      "1/1 [==============================] - 0s 6ms/step - loss: 0.0014\n",
      "Epoch 312/500\n",
      "1/1 [==============================] - 0s 11ms/step - loss: 0.0014\n",
      "Epoch 313/500\n",
      "1/1 [==============================] - 0s 7ms/step - loss: 0.0014\n",
      "Epoch 314/500\n",
      "1/1 [==============================] - 0s 6ms/step - loss: 0.0014\n",
      "Epoch 315/500\n",
      "1/1 [==============================] - 0s 9ms/step - loss: 0.0013\n",
      "Epoch 316/500\n",
      "1/1 [==============================] - 0s 6ms/step - loss: 0.0013\n",
      "Epoch 317/500\n",
      "1/1 [==============================] - 0s 5ms/step - loss: 0.0013\n",
      "Epoch 318/500\n",
      "1/1 [==============================] - 0s 11ms/step - loss: 0.0013\n",
      "Epoch 319/500\n",
      "1/1 [==============================] - 0s 6ms/step - loss: 0.0012\n",
      "Epoch 320/500\n",
      "1/1 [==============================] - 0s 5ms/step - loss: 0.0012\n",
      "Epoch 321/500\n",
      "1/1 [==============================] - 0s 7ms/step - loss: 0.0012\n",
      "Epoch 322/500\n",
      "1/1 [==============================] - 0s 6ms/step - loss: 0.0012\n",
      "Epoch 323/500\n",
      "1/1 [==============================] - 0s 10ms/step - loss: 0.0011\n",
      "Epoch 324/500\n",
      "1/1 [==============================] - 0s 6ms/step - loss: 0.0011\n",
      "Epoch 325/500\n",
      "1/1 [==============================] - 0s 5ms/step - loss: 0.0011\n",
      "Epoch 326/500\n",
      "1/1 [==============================] - 0s 6ms/step - loss: 0.0011\n",
      "Epoch 327/500\n",
      "1/1 [==============================] - 0s 6ms/step - loss: 0.0010\n",
      "Epoch 328/500\n",
      "1/1 [==============================] - 0s 7ms/step - loss: 0.0010\n",
      "Epoch 329/500\n",
      "1/1 [==============================] - 0s 7ms/step - loss: 9.9493e-04\n",
      "Epoch 330/500\n",
      "1/1 [==============================] - 0s 7ms/step - loss: 9.7449e-04\n",
      "Epoch 331/500\n",
      "1/1 [==============================] - 0s 6ms/step - loss: 9.5447e-04\n",
      "Epoch 332/500\n",
      "1/1 [==============================] - 0s 6ms/step - loss: 9.3487e-04\n",
      "Epoch 333/500\n",
      "1/1 [==============================] - 0s 7ms/step - loss: 9.1567e-04\n",
      "Epoch 334/500\n",
      "1/1 [==============================] - 0s 6ms/step - loss: 8.9686e-04\n",
      "Epoch 335/500\n",
      "1/1 [==============================] - 0s 8ms/step - loss: 8.7844e-04\n",
      "Epoch 336/500\n",
      "1/1 [==============================] - 0s 5ms/step - loss: 8.6039e-04\n",
      "Epoch 337/500\n",
      "1/1 [==============================] - 0s 11ms/step - loss: 8.4272e-04\n",
      "Epoch 338/500\n",
      "1/1 [==============================] - 0s 9ms/step - loss: 8.2541e-04\n",
      "Epoch 339/500\n",
      "1/1 [==============================] - 0s 5ms/step - loss: 8.0846e-04\n",
      "Epoch 340/500\n",
      "1/1 [==============================] - 0s 8ms/step - loss: 7.9185e-04\n",
      "Epoch 341/500\n",
      "1/1 [==============================] - 0s 5ms/step - loss: 7.7559e-04\n",
      "Epoch 342/500\n",
      "1/1 [==============================] - 0s 8ms/step - loss: 7.5965e-04\n",
      "Epoch 343/500\n",
      "1/1 [==============================] - 0s 9ms/step - loss: 7.4405e-04\n",
      "Epoch 344/500\n",
      "1/1 [==============================] - 0s 11ms/step - loss: 7.2877e-04\n",
      "Epoch 345/500\n",
      "1/1 [==============================] - 0s 8ms/step - loss: 7.1380e-04\n",
      "Epoch 346/500\n",
      "1/1 [==============================] - 0s 7ms/step - loss: 6.9914e-04\n",
      "Epoch 347/500\n",
      "1/1 [==============================] - 0s 7ms/step - loss: 6.8477e-04\n",
      "Epoch 348/500\n",
      "1/1 [==============================] - 0s 5ms/step - loss: 6.7071e-04\n",
      "Epoch 349/500\n",
      "1/1 [==============================] - 0s 9ms/step - loss: 6.5693e-04\n",
      "Epoch 350/500\n",
      "1/1 [==============================] - 0s 8ms/step - loss: 6.4344e-04\n",
      "Epoch 351/500\n",
      "1/1 [==============================] - 0s 5ms/step - loss: 6.3022e-04\n",
      "Epoch 352/500\n",
      "1/1 [==============================] - 0s 7ms/step - loss: 6.1728e-04\n",
      "Epoch 353/500\n",
      "1/1 [==============================] - 0s 6ms/step - loss: 6.0460e-04\n",
      "Epoch 354/500\n",
      "1/1 [==============================] - 0s 8ms/step - loss: 5.9218e-04\n",
      "Epoch 355/500\n",
      "1/1 [==============================] - 0s 7ms/step - loss: 5.8002e-04\n",
      "Epoch 356/500\n",
      "1/1 [==============================] - 0s 5ms/step - loss: 5.6810e-04\n",
      "Epoch 357/500\n",
      "1/1 [==============================] - 0s 9ms/step - loss: 5.5643e-04\n",
      "Epoch 358/500\n",
      "1/1 [==============================] - 0s 6ms/step - loss: 5.4500e-04\n",
      "Epoch 359/500\n",
      "1/1 [==============================] - 0s 7ms/step - loss: 5.3381e-04\n",
      "Epoch 360/500\n",
      "1/1 [==============================] - 0s 5ms/step - loss: 5.2284e-04\n",
      "Epoch 361/500\n",
      "1/1 [==============================] - 0s 6ms/step - loss: 5.1210e-04\n",
      "Epoch 362/500\n",
      "1/1 [==============================] - 0s 6ms/step - loss: 5.0158e-04\n",
      "Epoch 363/500\n",
      "1/1 [==============================] - 0s 7ms/step - loss: 4.9128e-04\n",
      "Epoch 364/500\n",
      "1/1 [==============================] - 0s 8ms/step - loss: 4.8119e-04\n",
      "Epoch 365/500\n",
      "1/1 [==============================] - 0s 5ms/step - loss: 4.7131e-04\n",
      "Epoch 366/500\n",
      "1/1 [==============================] - 0s 7ms/step - loss: 4.6163e-04\n",
      "Epoch 367/500\n",
      "1/1 [==============================] - 0s 6ms/step - loss: 4.5214e-04\n",
      "Epoch 368/500\n",
      "1/1 [==============================] - 0s 8ms/step - loss: 4.4286e-04\n",
      "Epoch 369/500\n",
      "1/1 [==============================] - 0s 7ms/step - loss: 4.3376e-04\n",
      "Epoch 370/500\n",
      "1/1 [==============================] - 0s 5ms/step - loss: 4.2485e-04\n",
      "Epoch 371/500\n",
      "1/1 [==============================] - 0s 8ms/step - loss: 4.1613e-04\n",
      "Epoch 372/500\n",
      "1/1 [==============================] - 0s 5ms/step - loss: 4.0758e-04\n",
      "Epoch 373/500\n",
      "1/1 [==============================] - 0s 8ms/step - loss: 3.9920e-04\n",
      "Epoch 374/500\n",
      "1/1 [==============================] - 0s 6ms/step - loss: 3.9101e-04\n",
      "Epoch 375/500\n",
      "1/1 [==============================] - 0s 7ms/step - loss: 3.8297e-04\n",
      "Epoch 376/500\n",
      "1/1 [==============================] - 0s 6ms/step - loss: 3.7510e-04\n",
      "Epoch 377/500\n",
      "1/1 [==============================] - 0s 7ms/step - loss: 3.6740e-04\n",
      "Epoch 378/500\n",
      "1/1 [==============================] - 0s 7ms/step - loss: 3.5985e-04\n",
      "Epoch 379/500\n",
      "1/1 [==============================] - 0s 6ms/step - loss: 3.5246e-04\n",
      "Epoch 380/500\n",
      "1/1 [==============================] - 0s 8ms/step - loss: 3.4522e-04\n",
      "Epoch 381/500\n",
      "1/1 [==============================] - 0s 5ms/step - loss: 3.3813e-04\n",
      "Epoch 382/500\n",
      "1/1 [==============================] - 0s 8ms/step - loss: 3.3119e-04\n",
      "Epoch 383/500\n",
      "1/1 [==============================] - 0s 7ms/step - loss: 3.2439e-04\n",
      "Epoch 384/500\n",
      "1/1 [==============================] - 0s 5ms/step - loss: 3.1772e-04\n",
      "Epoch 385/500\n",
      "1/1 [==============================] - 0s 7ms/step - loss: 3.1119e-04\n",
      "Epoch 386/500\n",
      "1/1 [==============================] - 0s 4ms/step - loss: 3.0480e-04\n",
      "Epoch 387/500\n",
      "1/1 [==============================] - 0s 7ms/step - loss: 2.9854e-04\n",
      "Epoch 388/500\n",
      "1/1 [==============================] - 0s 6ms/step - loss: 2.9241e-04\n",
      "Epoch 389/500\n",
      "1/1 [==============================] - 0s 7ms/step - loss: 2.8640e-04\n",
      "Epoch 390/500\n",
      "1/1 [==============================] - 0s 5ms/step - loss: 2.8052e-04\n",
      "Epoch 391/500\n",
      "1/1 [==============================] - 0s 7ms/step - loss: 2.7476e-04\n",
      "Epoch 392/500\n",
      "1/1 [==============================] - 0s 9ms/step - loss: 2.6911e-04\n",
      "Epoch 393/500\n",
      "1/1 [==============================] - 0s 7ms/step - loss: 2.6359e-04\n",
      "Epoch 394/500\n",
      "1/1 [==============================] - 0s 5ms/step - loss: 2.5817e-04\n",
      "Epoch 395/500\n",
      "1/1 [==============================] - 0s 5ms/step - loss: 2.5287e-04\n",
      "Epoch 396/500\n",
      "1/1 [==============================] - 0s 6ms/step - loss: 2.4767e-04\n",
      "Epoch 397/500\n",
      "1/1 [==============================] - 0s 8ms/step - loss: 2.4259e-04\n",
      "Epoch 398/500\n",
      "1/1 [==============================] - 0s 6ms/step - loss: 2.3760e-04\n",
      "Epoch 399/500\n",
      "1/1 [==============================] - 0s 7ms/step - loss: 2.3272e-04\n",
      "Epoch 400/500\n",
      "1/1 [==============================] - 0s 5ms/step - loss: 2.2795e-04\n",
      "Epoch 401/500\n",
      "1/1 [==============================] - 0s 6ms/step - loss: 2.2326e-04\n",
      "Epoch 402/500\n",
      "1/1 [==============================] - 0s 7ms/step - loss: 2.1868e-04\n",
      "Epoch 403/500\n",
      "1/1 [==============================] - 0s 5ms/step - loss: 2.1418e-04\n",
      "Epoch 404/500\n",
      "1/1 [==============================] - 0s 8ms/step - loss: 2.0978e-04\n",
      "Epoch 405/500\n",
      "1/1 [==============================] - 0s 5ms/step - loss: 2.0548e-04\n",
      "Epoch 406/500\n"
     ]
    },
    {
     "name": "stdout",
     "output_type": "stream",
     "text": [
      "1/1 [==============================] - 0s 6ms/step - loss: 2.0125e-04\n",
      "Epoch 407/500\n",
      "1/1 [==============================] - 0s 6ms/step - loss: 1.9712e-04\n",
      "Epoch 408/500\n",
      "1/1 [==============================] - 0s 5ms/step - loss: 1.9307e-04\n",
      "Epoch 409/500\n",
      "1/1 [==============================] - 0s 6ms/step - loss: 1.8911e-04\n",
      "Epoch 410/500\n",
      "1/1 [==============================] - 0s 7ms/step - loss: 1.8522e-04\n",
      "Epoch 411/500\n",
      "1/1 [==============================] - 0s 8ms/step - loss: 1.8142e-04\n",
      "Epoch 412/500\n",
      "1/1 [==============================] - 0s 7ms/step - loss: 1.7769e-04\n",
      "Epoch 413/500\n",
      "1/1 [==============================] - 0s 6ms/step - loss: 1.7404e-04\n",
      "Epoch 414/500\n",
      "1/1 [==============================] - 0s 7ms/step - loss: 1.7047e-04\n",
      "Epoch 415/500\n",
      "1/1 [==============================] - 0s 6ms/step - loss: 1.6697e-04\n",
      "Epoch 416/500\n",
      "1/1 [==============================] - 0s 6ms/step - loss: 1.6354e-04\n",
      "Epoch 417/500\n",
      "1/1 [==============================] - 0s 6ms/step - loss: 1.6018e-04\n",
      "Epoch 418/500\n",
      "1/1 [==============================] - 0s 5ms/step - loss: 1.5689e-04\n",
      "Epoch 419/500\n",
      "1/1 [==============================] - 0s 10ms/step - loss: 1.5366e-04\n",
      "Epoch 420/500\n",
      "1/1 [==============================] - 0s 6ms/step - loss: 1.5051e-04\n",
      "Epoch 421/500\n",
      "1/1 [==============================] - 0s 5ms/step - loss: 1.4742e-04\n",
      "Epoch 422/500\n",
      "1/1 [==============================] - 0s 5ms/step - loss: 1.4439e-04\n",
      "Epoch 423/500\n",
      "1/1 [==============================] - 0s 5ms/step - loss: 1.4142e-04\n",
      "Epoch 424/500\n",
      "1/1 [==============================] - 0s 8ms/step - loss: 1.3852e-04\n",
      "Epoch 425/500\n",
      "1/1 [==============================] - 0s 5ms/step - loss: 1.3567e-04\n",
      "Epoch 426/500\n",
      "1/1 [==============================] - 0s 9ms/step - loss: 1.3288e-04\n",
      "Epoch 427/500\n",
      "1/1 [==============================] - 0s 8ms/step - loss: 1.3016e-04\n",
      "Epoch 428/500\n",
      "1/1 [==============================] - 0s 5ms/step - loss: 1.2748e-04\n",
      "Epoch 429/500\n",
      "1/1 [==============================] - 0s 6ms/step - loss: 1.2486e-04\n",
      "Epoch 430/500\n",
      "1/1 [==============================] - 0s 5ms/step - loss: 1.2230e-04\n",
      "Epoch 431/500\n",
      "1/1 [==============================] - 0s 8ms/step - loss: 1.1979e-04\n",
      "Epoch 432/500\n",
      "1/1 [==============================] - 0s 9ms/step - loss: 1.1733e-04\n",
      "Epoch 433/500\n",
      "1/1 [==============================] - 0s 6ms/step - loss: 1.1492e-04\n",
      "Epoch 434/500\n",
      "1/1 [==============================] - 0s 5ms/step - loss: 1.1255e-04\n",
      "Epoch 435/500\n",
      "1/1 [==============================] - 0s 5ms/step - loss: 1.1024e-04\n",
      "Epoch 436/500\n",
      "1/1 [==============================] - 0s 6ms/step - loss: 1.0798e-04\n",
      "Epoch 437/500\n",
      "1/1 [==============================] - 0s 12ms/step - loss: 1.0576e-04\n",
      "Epoch 438/500\n",
      "1/1 [==============================] - 0s 12ms/step - loss: 1.0359e-04\n",
      "Epoch 439/500\n",
      "1/1 [==============================] - 0s 9ms/step - loss: 1.0146e-04\n",
      "Epoch 440/500\n",
      "1/1 [==============================] - 0s 6ms/step - loss: 9.9377e-05\n",
      "Epoch 441/500\n",
      "1/1 [==============================] - 0s 11ms/step - loss: 9.7336e-05\n",
      "Epoch 442/500\n",
      "1/1 [==============================] - 0s 9ms/step - loss: 9.5337e-05\n",
      "Epoch 443/500\n",
      "1/1 [==============================] - 0s 15ms/step - loss: 9.3378e-05\n",
      "Epoch 444/500\n",
      "1/1 [==============================] - 0s 8ms/step - loss: 9.1460e-05\n",
      "Epoch 445/500\n",
      "1/1 [==============================] - 0s 5ms/step - loss: 8.9582e-05\n",
      "Epoch 446/500\n",
      "1/1 [==============================] - 0s 9ms/step - loss: 8.7741e-05\n",
      "Epoch 447/500\n",
      "1/1 [==============================] - 0s 12ms/step - loss: 8.5940e-05\n",
      "Epoch 448/500\n",
      "1/1 [==============================] - 0s 8ms/step - loss: 8.4174e-05\n",
      "Epoch 449/500\n",
      "1/1 [==============================] - 0s 6ms/step - loss: 8.2446e-05\n",
      "Epoch 450/500\n",
      "1/1 [==============================] - 0s 6ms/step - loss: 8.0752e-05\n",
      "Epoch 451/500\n",
      "1/1 [==============================] - 0s 7ms/step - loss: 7.9093e-05\n",
      "Epoch 452/500\n",
      "1/1 [==============================] - 0s 6ms/step - loss: 7.7469e-05\n",
      "Epoch 453/500\n",
      "1/1 [==============================] - 0s 9ms/step - loss: 7.5877e-05\n",
      "Epoch 454/500\n",
      "1/1 [==============================] - 0s 6ms/step - loss: 7.4320e-05\n",
      "Epoch 455/500\n",
      "1/1 [==============================] - 0s 6ms/step - loss: 7.2793e-05\n",
      "Epoch 456/500\n",
      "1/1 [==============================] - 0s 9ms/step - loss: 7.1297e-05\n",
      "Epoch 457/500\n",
      "1/1 [==============================] - 0s 7ms/step - loss: 6.9833e-05\n",
      "Epoch 458/500\n",
      "1/1 [==============================] - 0s 6ms/step - loss: 6.8399e-05\n",
      "Epoch 459/500\n",
      "1/1 [==============================] - 0s 9ms/step - loss: 6.6994e-05\n",
      "Epoch 460/500\n",
      "1/1 [==============================] - 0s 5ms/step - loss: 6.5618e-05\n",
      "Epoch 461/500\n",
      "1/1 [==============================] - 0s 8ms/step - loss: 6.4270e-05\n",
      "Epoch 462/500\n",
      "1/1 [==============================] - 0s 6ms/step - loss: 6.2950e-05\n",
      "Epoch 463/500\n",
      "1/1 [==============================] - 0s 7ms/step - loss: 6.1657e-05\n",
      "Epoch 464/500\n",
      "1/1 [==============================] - 0s 6ms/step - loss: 6.0391e-05\n",
      "Epoch 465/500\n",
      "1/1 [==============================] - 0s 6ms/step - loss: 5.9150e-05\n",
      "Epoch 466/500\n",
      "1/1 [==============================] - 0s 11ms/step - loss: 5.7934e-05\n",
      "Epoch 467/500\n",
      "1/1 [==============================] - 0s 7ms/step - loss: 5.6745e-05\n",
      "Epoch 468/500\n",
      "1/1 [==============================] - 0s 6ms/step - loss: 5.5580e-05\n",
      "Epoch 469/500\n",
      "1/1 [==============================] - 0s 7ms/step - loss: 5.4438e-05\n",
      "Epoch 470/500\n",
      "1/1 [==============================] - 0s 6ms/step - loss: 5.3319e-05\n",
      "Epoch 471/500\n",
      "1/1 [==============================] - 0s 8ms/step - loss: 5.2224e-05\n",
      "Epoch 472/500\n",
      "1/1 [==============================] - 0s 6ms/step - loss: 5.1151e-05\n",
      "Epoch 473/500\n",
      "1/1 [==============================] - 0s 5ms/step - loss: 5.0101e-05\n",
      "Epoch 474/500\n",
      "1/1 [==============================] - 0s 8ms/step - loss: 4.9071e-05\n",
      "Epoch 475/500\n",
      "1/1 [==============================] - 0s 5ms/step - loss: 4.8063e-05\n",
      "Epoch 476/500\n",
      "1/1 [==============================] - 0s 6ms/step - loss: 4.7077e-05\n",
      "Epoch 477/500\n",
      "1/1 [==============================] - 0s 6ms/step - loss: 4.6110e-05\n",
      "Epoch 478/500\n",
      "1/1 [==============================] - 0s 6ms/step - loss: 4.5163e-05\n",
      "Epoch 479/500\n",
      "1/1 [==============================] - 0s 11ms/step - loss: 4.4235e-05\n",
      "Epoch 480/500\n",
      "1/1 [==============================] - 0s 5ms/step - loss: 4.3327e-05\n",
      "Epoch 481/500\n",
      "1/1 [==============================] - 0s 8ms/step - loss: 4.2436e-05\n",
      "Epoch 482/500\n",
      "1/1 [==============================] - 0s 6ms/step - loss: 4.1565e-05\n",
      "Epoch 483/500\n",
      "1/1 [==============================] - 0s 6ms/step - loss: 4.0710e-05\n",
      "Epoch 484/500\n",
      "1/1 [==============================] - 0s 6ms/step - loss: 3.9874e-05\n",
      "Epoch 485/500\n",
      "1/1 [==============================] - 0s 5ms/step - loss: 3.9055e-05\n",
      "Epoch 486/500\n",
      "1/1 [==============================] - 0s 7ms/step - loss: 3.8252e-05\n",
      "Epoch 487/500\n",
      "1/1 [==============================] - 0s 8ms/step - loss: 3.7467e-05\n",
      "Epoch 488/500\n",
      "1/1 [==============================] - 0s 5ms/step - loss: 3.6698e-05\n",
      "Epoch 489/500\n",
      "1/1 [==============================] - 0s 8ms/step - loss: 3.5943e-05\n",
      "Epoch 490/500\n",
      "1/1 [==============================] - 0s 6ms/step - loss: 3.5206e-05\n",
      "Epoch 491/500\n",
      "1/1 [==============================] - 0s 6ms/step - loss: 3.4482e-05\n",
      "Epoch 492/500\n",
      "1/1 [==============================] - 0s 6ms/step - loss: 3.3774e-05\n",
      "Epoch 493/500\n",
      "1/1 [==============================] - 0s 8ms/step - loss: 3.3080e-05\n",
      "Epoch 494/500\n",
      "1/1 [==============================] - 0s 6ms/step - loss: 3.2401e-05\n",
      "Epoch 495/500\n",
      "1/1 [==============================] - 0s 5ms/step - loss: 3.1736e-05\n",
      "Epoch 496/500\n",
      "1/1 [==============================] - 0s 7ms/step - loss: 3.1084e-05\n",
      "Epoch 497/500\n",
      "1/1 [==============================] - 0s 5ms/step - loss: 3.0445e-05\n",
      "Epoch 498/500\n",
      "1/1 [==============================] - 0s 6ms/step - loss: 2.9819e-05\n",
      "Epoch 499/500\n",
      "1/1 [==============================] - 0s 5ms/step - loss: 2.9207e-05\n",
      "Epoch 500/500\n",
      "1/1 [==============================] - 0s 7ms/step - loss: 2.8607e-05\n"
     ]
    }
   ],
   "source": [
    "# fit the model to the data (aka train the model)\n",
    "\n",
    "history = model.fit(xs, ys, epochs=500)"
   ]
  },
  {
   "cell_type": "markdown",
   "metadata": {
    "id": "93itssi3PgsX"
   },
   "source": [
    "Inspect model"
   ]
  },
  {
   "cell_type": "code",
   "execution_count": 12,
   "metadata": {
    "colab": {
     "base_uri": "https://localhost:8080/"
    },
    "executionInfo": {
     "elapsed": 339,
     "status": "ok",
     "timestamp": 1632334467112,
     "user": {
      "displayName": "Marcelo José Rovai",
      "photoUrl": "https://lh3.googleusercontent.com/a-/AOh14GhPvH_StPBhTERI1L0_qJsWCe1NDJFhrvdNWsZ1=s64",
      "userId": "17149450504426282540"
     },
     "user_tz": 180
    },
    "id": "Knk6L2pzPjo_",
    "outputId": "4ff9b70b-afb8-487f-abbf-af0d5a58c584"
   },
   "outputs": [
    {
     "name": "stdout",
     "output_type": "stream",
     "text": [
      "wi =  1.9977384\n",
      "b  =  -0.99298805\n"
     ]
    }
   ],
   "source": [
    "print(\"wi = \", model.get_weights()[0][0][0])\n",
    "print(\"b  = \", model.get_weights()[1][0])"
   ]
  },
  {
   "cell_type": "code",
   "execution_count": 13,
   "metadata": {
    "executionInfo": {
     "elapsed": 212,
     "status": "ok",
     "timestamp": 1632334506959,
     "user": {
      "displayName": "Marcelo José Rovai",
      "photoUrl": "https://lh3.googleusercontent.com/a-/AOh14GhPvH_StPBhTERI1L0_qJsWCe1NDJFhrvdNWsZ1=s64",
      "userId": "17149450504426282540"
     },
     "user_tz": 180
    },
    "id": "9od0MhXAXA5Z"
   },
   "outputs": [],
   "source": [
    "# Saving the trained model\n",
    "model.save('my_first_model_trained.h5')"
   ]
  },
  {
   "cell_type": "markdown",
   "metadata": {
    "id": "_oli3anGPV4z"
   },
   "source": [
    "## Test model"
   ]
  },
  {
   "cell_type": "code",
   "execution_count": 14,
   "metadata": {
    "colab": {
     "base_uri": "https://localhost:8080/"
    },
    "executionInfo": {
     "elapsed": 239,
     "status": "ok",
     "timestamp": 1632334646576,
     "user": {
      "displayName": "Marcelo José Rovai",
      "photoUrl": "https://lh3.googleusercontent.com/a-/AOh14GhPvH_StPBhTERI1L0_qJsWCe1NDJFhrvdNWsZ1=s64",
      "userId": "17149450504426282540"
     },
     "user_tz": 180
    },
    "id": "nidfsvPCEWlE",
    "outputId": "7e6b9623-11f1-4ec3-e3ef-8d7ca9bf2e7f"
   },
   "outputs": [
    {
     "name": "stdout",
     "output_type": "stream",
     "text": [
      "1/1 [==============================] - 0s 42ms/step\n",
      "[[18.984394]]\n"
     ]
    }
   ],
   "source": [
    "# Predict the output of a new data (Inference)\n",
    "\n",
    "print(model.predict([10.0]))"
   ]
  },
  {
   "cell_type": "code",
   "execution_count": 15,
   "metadata": {
    "colab": {
     "base_uri": "https://localhost:8080/"
    },
    "executionInfo": {
     "elapsed": 319,
     "status": "ok",
     "timestamp": 1632334997976,
     "user": {
      "displayName": "Marcelo José Rovai",
      "photoUrl": "https://lh3.googleusercontent.com/a-/AOh14GhPvH_StPBhTERI1L0_qJsWCe1NDJFhrvdNWsZ1=s64",
      "userId": "17149450504426282540"
     },
     "user_tz": 180
    },
    "id": "FU9DgCReU01e",
    "outputId": "2b6bc781-9a48-4391-97f9-c975e2a2b03b"
   },
   "outputs": [
    {
     "data": {
      "text/plain": [
       "dict"
      ]
     },
     "execution_count": 15,
     "metadata": {},
     "output_type": "execute_result"
    }
   ],
   "source": [
    "type(history.history)"
   ]
  },
  {
   "cell_type": "code",
   "execution_count": 16,
   "metadata": {
    "colab": {
     "base_uri": "https://localhost:8080/"
    },
    "executionInfo": {
     "elapsed": 266,
     "status": "ok",
     "timestamp": 1632335004102,
     "user": {
      "displayName": "Marcelo José Rovai",
      "photoUrl": "https://lh3.googleusercontent.com/a-/AOh14GhPvH_StPBhTERI1L0_qJsWCe1NDJFhrvdNWsZ1=s64",
      "userId": "17149450504426282540"
     },
     "user_tz": 180
    },
    "id": "z83TiMLeU8hk",
    "outputId": "d7625e92-9067-4b8f-e511-7731a0f8ee46"
   },
   "outputs": [
    {
     "data": {
      "text/plain": [
       "dict_keys(['loss'])"
      ]
     },
     "execution_count": 16,
     "metadata": {},
     "output_type": "execute_result"
    }
   ],
   "source": [
    "history.history.keys()"
   ]
  },
  {
   "cell_type": "code",
   "execution_count": 19,
   "metadata": {},
   "outputs": [
    {
     "name": "stdout",
     "output_type": "stream",
     "text": [
      "{'loss': [4.850886821746826, 3.989879608154297, 3.308917284011841, 2.7696797847747803, 2.3420164585113525, 2.002204179763794, 1.7315778732299805, 1.515450119972229, 1.3422664403915405, 1.2029331922531128, 1.0902951955795288, 0.9987213015556335, 0.9237807393074036, 0.8619857430458069, 0.8105912804603577, 0.767436683177948, 0.7308206558227539, 0.6994032263755798, 0.6721296310424805, 0.6481689810752869, 0.6268658638000488, 0.6077038645744324, 0.5902760624885559, 0.5742607712745667, 0.5594041347503662, 0.5455053448677063, 0.53240567445755, 0.5199791193008423, 0.5081257224082947, 0.4967658221721649, 0.4858359396457672, 0.47528544068336487, 0.46507349610328674, 0.4551670551300049, 0.4455396234989166, 0.4361691176891327, 0.4270377457141876, 0.4181307554244995, 0.409435510635376, 0.4009416997432709, 0.3926401436328888, 0.3845231533050537, 0.3765840530395508, 0.368816614151001, 0.3612155616283417, 0.35377612709999084, 0.3464936912059784, 0.3393642008304596, 0.33238378167152405, 0.32554882764816284, 0.3188558518886566, 0.3123016357421875, 0.3058830797672272, 0.2995971143245697, 0.2934408485889435, 0.287411630153656, 0.28150662779808044, 0.2757231891155243, 0.2700587809085846, 0.264510840177536, 0.2590771019458771, 0.2537551522254944, 0.2485424429178238, 0.24343697726726532, 0.23843641579151154, 0.2335386723279953, 0.22874148190021515, 0.2240428924560547, 0.21944086253643036, 0.21493329107761383, 0.21051841974258423, 0.20619416236877441, 0.2019587904214859, 0.19781041145324707, 0.19374726712703705, 0.18976753950119019, 0.18586961925029755, 0.18205173313617706, 0.1783123016357422, 0.1746496558189392, 0.17106221616268158, 0.1675485372543335, 0.16410696506500244, 0.16073612868785858, 0.15743452310562134, 0.1542007178068161, 0.15103329718112946, 0.1479310244321823, 0.1448923796415329, 0.14191626012325287, 0.13900114595890045, 0.1361459642648697, 0.1333494633436203, 0.1306103765964508, 0.12792758643627167, 0.1252998560667038, 0.12272607535123825, 0.12020526081323624, 0.11773610860109329, 0.11531779170036316, 0.11294906586408615, 0.11062902957201004, 0.10835664719343185, 0.10613096505403519, 0.10395094752311707, 0.10181573033332825, 0.09972438961267471, 0.09767598658800125, 0.09566967934370041, 0.09370457381010056, 0.09177980571985245, 0.08989456295967102, 0.0880480706691742, 0.0862395167350769, 0.08446814864873886, 0.08273308724164963, 0.08103369921445847, 0.0793692022562027, 0.07773891091346741, 0.07614210247993469, 0.07457808405160904, 0.0730462372303009, 0.07154580950737, 0.07007620483636856, 0.06863681972026825, 0.06722693890333176, 0.06584609299898148, 0.0644935742020607, 0.06316880136728287, 0.06187126040458679, 0.060600414872169495, 0.05935562774538994, 0.05813645198941231, 0.05694229528307915, 0.05577266216278076, 0.054627031087875366, 0.05350496247410774, 0.0524059534072876, 0.05132949352264404, 0.05027514696121216, 0.04924247786402702, 0.04823099076747894, 0.047240305691957474, 0.0462699830532074, 0.0453195683658123, 0.04438868165016174, 0.0434768982231617, 0.04258383437991142, 0.04170914366841316, 0.04085239768028259, 0.04001326486468315, 0.039191391319036484, 0.038386356085538864, 0.0375978983938694, 0.03682558611035347, 0.036069195717573166, 0.035328302532434464, 0.03460262343287468, 0.03389188274741173, 0.03319571167230606, 0.03251386061310768, 0.03184599056839943, 0.031191864982247353, 0.03055115044116974, 0.02992362342774868, 0.029308952391147614, 0.028706936165690422, 0.02811727114021778, 0.027539730072021484, 0.02697405219078064, 0.026419982314109802, 0.02587731182575226, 0.02534577250480652, 0.02482515573501587, 0.02431521750986576, 0.02381577342748642, 0.02332657389342785, 0.022847434505820274, 0.022378146648406982, 0.021918483078479767, 0.021468261256814003, 0.02102729119360447, 0.020595382899045944, 0.02017234079539776, 0.019757995381951332, 0.019352151080965996, 0.018954647704958916, 0.018565326929092407, 0.01818397454917431, 0.01781047321856022, 0.017444631084799767, 0.017086300998926163, 0.016735339537262917, 0.01639159768819809, 0.01605491153895855, 0.015725133940577507, 0.015402120538055897, 0.015085761435329914, 0.014775882475078106, 0.014472383074462414, 0.014175109565258026, 0.013883966021239758, 0.013598766177892685, 0.01331944391131401, 0.013045853935182095, 0.012777894735336304, 0.012515413574874401, 0.012258353643119335, 0.01200655847787857, 0.011759941466152668, 0.011518375016748905, 0.011281770654022694, 0.011050038039684296, 0.010823057033121586, 0.010600763373076916, 0.010382999666035175, 0.010169724002480507, 0.009960836730897427, 0.009756235405802727, 0.009555839002132416, 0.009359548799693584, 0.009167295880615711, 0.008979002013802528, 0.008794573135674, 0.008613926358520985, 0.00843698251992464, 0.008263683877885342, 0.00809394009411335, 0.007927683182060719, 0.007764850277453661, 0.007605365943163633, 0.007449139375239611, 0.0072961305268108845, 0.007146263029426336, 0.00699947215616703, 0.006855711340904236, 0.006714876741170883, 0.00657695485278964, 0.006441861391067505, 0.006309530232101679, 0.006179936230182648, 0.0060529932379722595, 0.005928657948970795, 0.005806885194033384, 0.005687601864337921, 0.005570773035287857, 0.005456347484141588, 0.005344260483980179, 0.005234492477029562, 0.0051269675604999065, 0.005021662451326847, 0.004918512422591448, 0.0048174806870520115, 0.004718519281595945, 0.004621597472578287, 0.004526668228209019, 0.0044336989521980286, 0.0043426272459328175, 0.004253427032381296, 0.004166068974882364, 0.004080494400113821, 0.003996677231043577, 0.003914581146091223, 0.0038341747131198645, 0.0037554099690169096, 0.0036782717797905207, 0.0036027152091264725, 0.003528713481500745, 0.00345623679459095, 0.0033852506894618273, 0.0033157162833958864, 0.003247609594836831, 0.0031808915082365274, 0.003115561557933688, 0.0030515703838318586, 0.0029888825956732035, 0.002927495166659355, 0.002867365488782525, 0.0028084665536880493, 0.002750771353021264, 0.0026942684780806303, 0.0026389320846647024, 0.0025847272481769323, 0.0025316292885690928, 0.0024796274956315756, 0.002428698353469372, 0.0023788076359778643, 0.002329944632947445, 0.002282091649249196, 0.002235216787084937, 0.002189300023019314, 0.002144334139302373, 0.0021002888679504395, 0.002057150239124894, 0.0020148945041000843, 0.0019735072273761034, 0.001932971179485321, 0.0018932617967948318, 0.0018543783808127046, 0.0018162848427891731, 0.0017789771081879735, 0.0017424343386664987, 0.0017066464060917497, 0.0016715922392904758, 0.0016372526297345757, 0.0016036253655329347, 0.0015706825070083141, 0.0015384233556687832, 0.0015068245120346546, 0.001475872122682631, 0.00144555966835469, 0.0014158679405227304, 0.0013867818051949143, 0.0013583017280325294, 0.001330400351434946, 0.0013030654517933726, 0.0012763054110109806, 0.0012500877492129803, 0.0012244106037542224, 0.0011992593063041568, 0.0011746245436370373, 0.0011504975846037269, 0.0011268722591921687, 0.0011037210933864117, 0.0010810523526743054, 0.0010588429868221283, 0.0010370942763984203, 0.0010157929500564933, 0.0009949264349415898, 0.0009744902490638196, 0.0009544732165522873, 0.0009348720195703208, 0.0009156714077107608, 0.0008968585170805454, 0.0008784352685324848, 0.0008603942114859819, 0.0008427232387475669, 0.0008254136773757637, 0.0008084554574452341, 0.0007918491610325873, 0.0007755877450108528, 0.0007596535724587739, 0.0007440494955517352, 0.0007287676562555134, 0.0007137967622838914, 0.0006991353002376854, 0.000684772792737931, 0.0006707065622322261, 0.0006569332908838987, 0.0006434362730942667, 0.0006302212132140994, 0.0006172761204652488, 0.0006045956979505718, 0.0005921788979321718, 0.0005800161161459982, 0.0005680981557816267, 0.0005564292659983039, 0.0005450021126307547, 0.0005338082555681467, 0.000522841524798423, 0.0005121047142893076, 0.0005015838542021811, 0.0004912816220894456, 0.0004811930702999234, 0.0004713089147116989, 0.00046162641956470907, 0.00045214476995170116, 0.00044285753392614424, 0.0004337584541644901, 0.0004248483164701611, 0.0004161250835750252, 0.0004075765609741211, 0.000399203272536397, 0.00039100516005419195, 0.00038297404535114765, 0.00037510492256842554, 0.0003674006147775799, 0.0003598544280976057, 0.00035246313200332224, 0.0003452234959695488, 0.00033813074696809053, 0.00033118712599389255, 0.00032438544440083206, 0.0003177206090185791, 0.00031119215418584645, 0.000304800778394565, 0.00029854170861653984, 0.0002924087457358837, 0.00028640314121730626, 0.000280518812360242, 0.0002747585531324148, 0.0002691133413463831, 0.00026358754257671535, 0.000258171116001904, 0.0002528676704969257, 0.000247674499405548, 0.0002425884158583358, 0.00023760499607305974, 0.0002327245456399396, 0.00022794533288106322, 0.00022326246835291386, 0.00021867516625206918, 0.00021418467804323882, 0.00020978348038624972, 0.00020547657913994044, 0.00020125442824792117, 0.00019712012726813555, 0.00019307159527670592, 0.00018910619837697595, 0.00018522214668337256, 0.00018141884356737137, 0.0001776915742084384, 0.00017404307436663657, 0.00017046695575118065, 0.00016696676902938634, 0.00016353682440239936, 0.00016017780581023544, 0.00015688760322518647, 0.00015366320440080017, 0.00015050621004775167, 0.00014741635823156685, 0.00014438772632274777, 0.00014142134750727564, 0.00013851627591066062, 0.00013567133282776922, 0.00013288411719258875, 0.00013015586591791362, 0.00012748049630317837, 0.0001248638000106439, 0.0001222976134158671, 0.00011978729162365198, 0.00011732552229659632, 0.00011491685290820897, 0.00011255469871684909, 0.00011024325067410246, 0.00010797963477671146, 0.00010576203931123018, 0.00010358800500398502, 0.00010146186832571402, 9.937675349647179e-05, 9.733573097037151e-05, 9.533712727716193e-05, 9.33781557250768e-05, 9.14600896066986e-05, 8.958153193816543e-05, 8.774086745688692e-05, 8.593990787630901e-05, 8.4173574578017e-05, 8.244586206274107e-05, 8.075180812738836e-05, 7.909250416560099e-05, 7.74692089180462e-05, 7.587733125546947e-05, 7.431965786963701e-05, 7.279305282281712e-05, 7.129673758754507e-05, 6.983310595387593e-05, 6.839880370534956e-05, 6.699431833112612e-05, 6.561834743479267e-05, 6.426969775930047e-05, 6.295027560554445e-05, 6.165681406855583e-05, 6.039079380570911e-05, 5.915003202972002e-05, 5.793430682388134e-05, 5.674466592608951e-05, 5.557996337302029e-05, 5.443780173663981e-05, 5.331934880814515e-05, 5.222378604230471e-05, 5.115100066177547e-05, 5.0101425586035475e-05, 4.90708916913718e-05, 4.8063269787235186e-05, 4.7077071940293536e-05, 4.610962059814483e-05, 4.5162818423705176e-05, 4.423494101502001e-05, 4.332662501838058e-05, 4.243613875587471e-05, 4.15646172768902e-05, 4.0709986933507025e-05, 3.98737502109725e-05, 3.905464109266177e-05, 3.8252441299846396e-05, 3.746711081475951e-05, 3.669771467684768e-05, 3.594345980673097e-05, 3.5205684980610386e-05, 3.448189818300307e-05, 3.37739365932066e-05, 3.3080279536079615e-05, 3.240111982449889e-05, 3.17355188599322e-05, 3.10836112475954e-05, 3.0445371521636844e-05, 2.981928082590457e-05, 2.9206870749476366e-05, 2.860719723685179e-05]}\n"
     ]
    }
   ],
   "source": [
    "print(history.history) #history (loss dict)"
   ]
  },
  {
   "cell_type": "code",
   "execution_count": 17,
   "metadata": {
    "colab": {
     "base_uri": "https://localhost:8080/",
     "height": 295
    },
    "executionInfo": {
     "elapsed": 226,
     "status": "ok",
     "timestamp": 1632335020617,
     "user": {
      "displayName": "Marcelo José Rovai",
      "photoUrl": "https://lh3.googleusercontent.com/a-/AOh14GhPvH_StPBhTERI1L0_qJsWCe1NDJFhrvdNWsZ1=s64",
      "userId": "17149450504426282540"
     },
     "user_tz": 180
    },
    "id": "vpdU7AZbT0YJ",
    "outputId": "cbf03ff9-a745-4e39-c33f-b2d809f5a1d0"
   },
   "outputs": [
    {
     "data": {
      "image/png": "[encoded data removed]",
      "text/plain": [
       "<Figure size 432x288 with 1 Axes>"
      ]
     },
     "metadata": {
      "needs_background": "light"
     },
     "output_type": "display_data"
    }
   ],
   "source": [
    "import matplotlib.pyplot as plt\n",
    "plt.plot(history.history['loss'])\n",
    "plt.title('model loss')\n",
    "plt.ylabel('loss')\n",
    "plt.xlabel('epoch')\n",
    "plt.legend(['train'], loc='upper right')\n",
    "plt.show()"
   ]
  }
 ],
 "metadata": {
  "colab": {
   "name": "TF_First_Neural_Network.ipynb",
   "provenance": []
  },
  "kernelspec": {
   "display_name": "Python 3 (ipykernel)",
   "language": "python",
   "name": "python3"
  },
  "language_info": {
   "codemirror_mode": {
    "name": "ipython",
    "version": 3
   },
   "file_extension": ".py",
   "mimetype": "text/x-python",
   "name": "python",
   "nbconvert_exporter": "python",
   "pygments_lexer": "ipython3",
   "version": "3.9.12"
  }
 },
 "nbformat": 4,
 "nbformat_minor": 1
}
