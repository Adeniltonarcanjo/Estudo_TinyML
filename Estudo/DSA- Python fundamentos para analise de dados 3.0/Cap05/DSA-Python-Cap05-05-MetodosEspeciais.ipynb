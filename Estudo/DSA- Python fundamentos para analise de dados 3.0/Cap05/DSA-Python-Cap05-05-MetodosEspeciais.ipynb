{
 "cells": [
  {
   "cell_type": "markdown",
   "id": "6a4dd8fd",
   "metadata": {},
   "source": [
    "## Métodos Especiais"
   ]
  },
  {
   "cell_type": "code",
   "execution_count": 3,
   "id": "dc5ff79c",
   "metadata": {},
   "outputs": [],
   "source": [
    "# Criando a classe Livro\n",
    "class Livro():\n",
    "    def __init__(self, titulo, autor, paginas):\n",
    "        print (\"Livro criado\")\n",
    "        self.titulo = titulo\n",
    "        self.autor = autor\n",
    "        self.paginas = paginas\n",
    "                \n",
    "    def __str__(self):\n",
    "        return \"Título: %s , autor: %s, páginas: %s \" \\\n",
    "    %(self.titulo, self.autor, self.paginas)\n",
    "\n",
    "    def __len__(self):\n",
    "        return self.paginas\n",
    "    \n",
    "    def len(self):\n",
    "        return print(\"Páginas do livro com método comum: \", self.paginas)"
   ]
  },
  {
   "cell_type": "code",
   "execution_count": 4,
   "id": "c6247240",
   "metadata": {},
   "outputs": [
    {
     "name": "stdout",
     "output_type": "stream",
     "text": [
      "Livro criado\n"
     ]
    }
   ],
   "source": [
    "livro1 = Livro(\"Os Lusíadas\", \"Luis de Camões\", 8816)"
   ]
  },
  {
   "cell_type": "code",
   "execution_count": 5,
   "id": "9e84da0a",
   "metadata": {},
   "outputs": [
    {
     "name": "stdout",
     "output_type": "stream",
     "text": [
      "Título: Os Lusíadas , autor: Luis de Camões, páginas: 8816 \n"
     ]
    }
   ],
   "source": [
    "# Métodos especiais\n",
    "print(livro1)"
   ]
  },
  {
   "cell_type": "code",
   "execution_count": 6,
   "id": "aab87919",
   "metadata": {},
   "outputs": [
    {
     "data": {
      "text/plain": [
       "'Título: Os Lusíadas , autor: Luis de Camões, páginas: 8816 '"
      ]
     },
     "execution_count": 6,
     "metadata": {},
     "output_type": "execute_result"
    }
   ],
   "source": [
    "str(livro1)"
   ]
  },
  {
   "cell_type": "code",
   "execution_count": 7,
   "id": "0914c852",
   "metadata": {},
   "outputs": [
    {
     "data": {
      "text/plain": [
       "8816"
      ]
     },
     "execution_count": 7,
     "metadata": {},
     "output_type": "execute_result"
    }
   ],
   "source": [
    "len(livro1)"
   ]
  },
  {
   "cell_type": "code",
   "execution_count": 8,
   "id": "524f039f",
   "metadata": {},
   "outputs": [
    {
     "name": "stdout",
     "output_type": "stream",
     "text": [
      "Páginas do livro com método comum:  8816\n"
     ]
    }
   ],
   "source": [
    "livro1.len()"
   ]
  },
  {
   "cell_type": "code",
   "execution_count": 9,
   "id": "b73880db",
   "metadata": {},
   "outputs": [],
   "source": [
    "# Ao executar a função del para remover um atributo, o Python executa:\n",
    "# livro1.__delattr__(\"paginas\")\n",
    "del livro1.paginas"
   ]
  },
  {
   "cell_type": "code",
   "execution_count": 10,
   "id": "311d03d0",
   "metadata": {},
   "outputs": [
    {
     "data": {
      "text/plain": [
       "False"
      ]
     },
     "execution_count": 10,
     "metadata": {},
     "output_type": "execute_result"
    }
   ],
   "source": [
    "hasattr(livro1, \"paginas\")"
   ]
  },
  {
   "cell_type": "code",
   "execution_count": 11,
   "id": "78ffb07f",
   "metadata": {},
   "outputs": [
    {
     "data": {
      "text/plain": [
       "True"
      ]
     },
     "execution_count": 11,
     "metadata": {},
     "output_type": "execute_result"
    }
   ],
   "source": [
    "hasattr(livro1, \"autor\")"
   ]
  },
  {
   "cell_type": "code",
   "execution_count": 12,
   "id": "335a6393",
   "metadata": {},
   "outputs": [
    {
     "data": {
      "text/plain": [
       "True"
      ]
     },
     "execution_count": 12,
     "metadata": {},
     "output_type": "execute_result"
    }
   ],
   "source": [
    "hasattr(livro1, \"titulo\")"
   ]
  },
  {
   "cell_type": "code",
   "execution_count": 13,
   "id": "ff8331de",
   "metadata": {},
   "outputs": [
    {
     "name": "stdout",
     "output_type": "stream",
     "text": [
      "Livro criado\n"
     ]
    }
   ],
   "source": [
    "livro2 = Livro(\"O mundo assombrado pelos demonios\", \"carl sagan\", 8816)"
   ]
  },
  {
   "cell_type": "code",
   "execution_count": 14,
   "id": "3571c439",
   "metadata": {},
   "outputs": [
    {
     "data": {
      "text/plain": [
       "True"
      ]
     },
     "execution_count": 14,
     "metadata": {},
     "output_type": "execute_result"
    }
   ],
   "source": [
    "hasattr(livro2, \"paginas\")"
   ]
  },
  {
   "cell_type": "code",
   "execution_count": 15,
   "id": "980e12a5",
   "metadata": {},
   "outputs": [],
   "source": [
    "del livro2.autor"
   ]
  },
  {
   "cell_type": "code",
   "execution_count": 16,
   "id": "6597f226",
   "metadata": {},
   "outputs": [
    {
     "data": {
      "text/plain": [
       "False"
      ]
     },
     "execution_count": 16,
     "metadata": {},
     "output_type": "execute_result"
    }
   ],
   "source": [
    "hasattr(livro2, \"autor\")"
   ]
  }
 ],
 "metadata": {
  "kernelspec": {
   "display_name": "Python 3 (ipykernel)",
   "language": "python",
   "name": "python3"
  },
  "language_info": {
   "codemirror_mode": {
    "name": "ipython",
    "version": 3
   },
   "file_extension": ".py",
   "mimetype": "text/x-python",
   "name": "python",
   "nbconvert_exporter": "python",
   "pygments_lexer": "ipython3",
   "version": "3.9.12"
  }
 },
 "nbformat": 4,
 "nbformat_minor": 5
}
