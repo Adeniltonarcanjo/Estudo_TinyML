{
 "cells": [
  {
   "cell_type": "markdown",
   "id": "9b3b876d",
   "metadata": {},
   "source": [
    "## Métodos"
   ]
  },
  {
   "cell_type": "code",
   "execution_count": 1,
   "id": "f31c5ce7",
   "metadata": {},
   "outputs": [],
   "source": [
    "# Criando uma classe chamada Circulo\n",
    "class Circulo():\n",
    "    \n",
    "    # O valor de pi é constante\n",
    "    pi = 3.14\n",
    "\n",
    "    # Quando um objeto desta classe for criado, este método será executado e o valor default do raio será 5.\n",
    "    def __init__(self, raio = 5):\n",
    "        self.raio = raio \n",
    "\n",
    "    # Esse método calcula a área. Self utiliza os atributos deste mesmo objeto\n",
    "    def area(self):\n",
    "        return (self.raio * self.raio) * Circulo.pi\n",
    "\n",
    "    # Método para gerar um novo raio\n",
    "    def setRaio(self, novo_raio):\n",
    "        self.raio = novo_raio\n",
    "\n",
    "    # Método para obter o raio do círculo\n",
    "    def getRaio(self):\n",
    "        return self.raio"
   ]
  },
  {
   "cell_type": "code",
   "execution_count": 2,
   "id": "17d43208",
   "metadata": {},
   "outputs": [],
   "source": [
    "# Criando o objeto circ. Uma instância da classe Circulo()\n",
    "circ = Circulo()"
   ]
  },
  {
   "cell_type": "code",
   "execution_count": 3,
   "id": "5919c869",
   "metadata": {},
   "outputs": [
    {
     "data": {
      "text/plain": [
       "5"
      ]
     },
     "execution_count": 3,
     "metadata": {},
     "output_type": "execute_result"
    }
   ],
   "source": [
    "# Executando um método da classe Circulo\n",
    "circ.getRaio()"
   ]
  },
  {
   "cell_type": "code",
   "execution_count": 4,
   "id": "7f18c9f0",
   "metadata": {},
   "outputs": [],
   "source": [
    "# Criando outro objeto chamado circ1. Uma instância da classe Circulo()\n",
    "# Agora sobrescrevendo o valor do atributo\n",
    "circ1 = Circulo(7)"
   ]
  },
  {
   "cell_type": "code",
   "execution_count": 5,
   "id": "bd2d25a3",
   "metadata": {},
   "outputs": [
    {
     "data": {
      "text/plain": [
       "7"
      ]
     },
     "execution_count": 5,
     "metadata": {},
     "output_type": "execute_result"
    }
   ],
   "source": [
    "circ1.getRaio()"
   ]
  },
  {
   "cell_type": "code",
   "execution_count": 7,
   "id": "6eed2314",
   "metadata": {},
   "outputs": [
    {
     "name": "stdout",
     "output_type": "stream",
     "text": [
      "O raio é:  5\n"
     ]
    }
   ],
   "source": [
    "# Imprimindo o raio\n",
    "print ('O raio é: ', circ.getRaio())"
   ]
  },
  {
   "cell_type": "code",
   "execution_count": 8,
   "id": "2f812731",
   "metadata": {},
   "outputs": [
    {
     "name": "stdout",
     "output_type": "stream",
     "text": [
      "Area igual a:  78.5\n"
     ]
    }
   ],
   "source": [
    "# Imprimindo a area\n",
    "print('Area igual a: ', circ.area())"
   ]
  },
  {
   "cell_type": "code",
   "execution_count": 9,
   "id": "cb7b1f2e",
   "metadata": {},
   "outputs": [],
   "source": [
    "# Gerando um novo valor para o raio do círculo\n",
    "circ.setRaio(3)"
   ]
  },
  {
   "cell_type": "code",
   "execution_count": 10,
   "id": "cf12df82",
   "metadata": {},
   "outputs": [
    {
     "name": "stdout",
     "output_type": "stream",
     "text": [
      "Novo raio igual a:  3\n"
     ]
    }
   ],
   "source": [
    "# Imprimindo o novo raio\n",
    "print ('Novo raio igual a: ', circ.getRaio())"
   ]
  }
 ],
 "metadata": {
  "kernelspec": {
   "display_name": "Python 3 (ipykernel)",
   "language": "python",
   "name": "python3"
  },
  "language_info": {
   "codemirror_mode": {
    "name": "ipython",
    "version": 3
   },
   "file_extension": ".py",
   "mimetype": "text/x-python",
   "name": "python",
   "nbconvert_exporter": "python",
   "pygments_lexer": "ipython3",
   "version": "3.9.12"
  }
 },
 "nbformat": 4,
 "nbformat_minor": 5
}
