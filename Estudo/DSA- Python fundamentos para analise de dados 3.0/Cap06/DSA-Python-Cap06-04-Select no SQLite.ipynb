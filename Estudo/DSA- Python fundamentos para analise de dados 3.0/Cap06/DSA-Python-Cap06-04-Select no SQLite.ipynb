{
 "cells": [
  {
   "cell_type": "code",
   "execution_count": 1,
   "metadata": {},
   "outputs": [
    {
     "name": "stdout",
     "output_type": "stream",
     "text": [
      "Versão da Linguagem Python Usada Neste Jupyter Notebook: 3.9.12\n"
     ]
    }
   ],
   "source": [
    "# Versão da Linguagem Python\n",
    "from platform import python_version\n",
    "print('Versão da Linguagem Python Usada Neste Jupyter Notebook:', python_version())"
   ]
  },
  {
   "cell_type": "markdown",
   "metadata": {},
   "source": [
    "### Leitura de dados"
   ]
  },
  {
   "cell_type": "code",
   "execution_count": 2,
   "metadata": {},
   "outputs": [],
   "source": [
    "import sqlite3\n",
    "import random\n",
    "import time\n",
    "import datetime\n",
    " \n",
    "# Criando uma conexão\n",
    "conn = sqlite3.connect('dsa.db')   \n",
    "\n",
    "# Criando um cursor\n",
    "c = conn.cursor()\n",
    " \n",
    "# Função para criar uma tabela\n",
    "def create_table():\n",
    "    c.execute('CREATE TABLE IF NOT EXISTS produtos(id INTEGER PRIMARY KEY AUTOINCREMENT NOT NULL, date TEXT, '\\\n",
    "              'prod_name TEXT, valor REAL)')\n",
    "\n",
    "# Função para inserir uma linha\n",
    "def data_insert():\n",
    "    c.execute(\"INSERT INTO produtos VALUES(002, '02-05-2020', 'teclado', 130 )\")\n",
    "    conn.commit()\n",
    "    c.close()\n",
    "    conn.close()\n",
    "    \n",
    "# Usando variáveis para inserir dados    \n",
    "def data_insert_var():\n",
    "    new_date = datetime.datetime.now()\n",
    "    new_prod_name = 'monitor'\n",
    "    new_valor = random.randrange(50,100)\n",
    "    c.execute(\"INSERT INTO produtos (date, prod_name, valor) VALUES (?, ?, ?, ?)\", \n",
    "              (new_date, new_prod_name, new_valor))\n",
    "    conn.commit()\n",
    "    \n",
    "# Leitura de dados\n",
    "def leitura_todos_dados():\n",
    "    c.execute(\"SELECT * FROM PRODUTOS\")\n",
    "    for linha in c.fetchall():\n",
    "        print(linha)\n",
    "        \n",
    "# Leitura de registros específicos\n",
    "def leitura_registros():\n",
    "    c.execute(\"SELECT * FROM PRODUTOS WHERE valor > 60.0\")\n",
    "    for linha in c.fetchall():\n",
    "        print(linha)      \n",
    "        \n",
    "# Leitura de colunas específicos\n",
    "def leitura_colunas():\n",
    "    c.execute(\"SELECT * FROM PRODUTOS\")\n",
    "    for linha in c.fetchall():\n",
    "        print(linha[3])         \n"
   ]
  },
  {
   "cell_type": "code",
   "execution_count": 3,
   "metadata": {},
   "outputs": [
    {
     "name": "stdout",
     "output_type": "stream",
     "text": [
      "(10, '2020-05-02 14:32:11', 'Teclado', 90.0)\n",
      "(11, '2023-01-10 21:36:54.222318', 'Monitor', 84.0)\n",
      "(12, '2023-01-10 21:36:55.413185', 'Monitor', 52.0)\n",
      "(13, '2023-01-10 21:36:56.599169', 'Monitor', 81.0)\n",
      "(14, '2023-01-10 21:36:57.753193', 'Monitor', 87.0)\n",
      "(15, '2023-01-10 21:36:58.883827', 'Monitor', 69.0)\n",
      "(16, '2023-01-10 21:37:00.017401', 'Monitor', 54.0)\n",
      "(17, '2023-01-10 21:37:01.171855', 'Monitor', 76.0)\n",
      "(18, '2023-01-10 21:37:02.278377', 'Monitor', 97.0)\n",
      "(19, '2023-01-10 21:37:03.421458', 'Monitor', 67.0)\n",
      "(20, '2023-01-10 21:37:04.585180', 'Monitor', 50.0)\n"
     ]
    }
   ],
   "source": [
    "# Select nos dados\n",
    "leitura_todos_dados()"
   ]
  },
  {
   "cell_type": "code",
   "execution_count": 4,
   "metadata": {},
   "outputs": [
    {
     "name": "stdout",
     "output_type": "stream",
     "text": [
      "(10, '2020-05-02 14:32:11', 'Teclado', 90.0)\n",
      "(11, '2023-01-10 21:36:54.222318', 'Monitor', 84.0)\n",
      "(13, '2023-01-10 21:36:56.599169', 'Monitor', 81.0)\n",
      "(14, '2023-01-10 21:36:57.753193', 'Monitor', 87.0)\n",
      "(15, '2023-01-10 21:36:58.883827', 'Monitor', 69.0)\n",
      "(17, '2023-01-10 21:37:01.171855', 'Monitor', 76.0)\n",
      "(18, '2023-01-10 21:37:02.278377', 'Monitor', 97.0)\n",
      "(19, '2023-01-10 21:37:03.421458', 'Monitor', 67.0)\n"
     ]
    }
   ],
   "source": [
    "# Leitura de registros específicos\n",
    "leitura_registros()"
   ]
  },
  {
   "cell_type": "code",
   "execution_count": 5,
   "metadata": {},
   "outputs": [
    {
     "name": "stdout",
     "output_type": "stream",
     "text": [
      "90.0\n",
      "84.0\n",
      "52.0\n",
      "81.0\n",
      "87.0\n",
      "69.0\n",
      "54.0\n",
      "76.0\n",
      "97.0\n",
      "67.0\n",
      "50.0\n"
     ]
    }
   ],
   "source": [
    "# Leitura de colunas específicas\n",
    "leitura_colunas()"
   ]
  },
  {
   "cell_type": "code",
   "execution_count": 6,
   "metadata": {},
   "outputs": [],
   "source": [
    "# Encerrando a conexão\n",
    "c.close()\n",
    "conn.close()"
   ]
  }
 ],
 "metadata": {
  "kernelspec": {
   "display_name": "Python 3 (ipykernel)",
   "language": "python",
   "name": "python3"
  },
  "language_info": {
   "codemirror_mode": {
    "name": "ipython",
    "version": 3
   },
   "file_extension": ".py",
   "mimetype": "text/x-python",
   "name": "python",
   "nbconvert_exporter": "python",
   "pygments_lexer": "ipython3",
   "version": "3.9.12"
  }
 },
 "nbformat": 4,
 "nbformat_minor": 1
}
