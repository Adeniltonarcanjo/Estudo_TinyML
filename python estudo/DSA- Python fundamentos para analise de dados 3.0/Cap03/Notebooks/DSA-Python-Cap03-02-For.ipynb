{
 "cells": [
  {
   "cell_type": "markdown",
   "id": "22a4f38c",
   "metadata": {},
   "source": [
    "### Loop For"
   ]
  },
  {
   "cell_type": "code",
   "execution_count": 2,
   "id": "11b95b1d",
   "metadata": {},
   "outputs": [],
   "source": [
    "tp=(12,34,'marta')"
   ]
  },
  {
   "cell_type": "code",
   "execution_count": 4,
   "id": "b10a29c3",
   "metadata": {},
   "outputs": [
    {
     "name": "stdout",
     "output_type": "stream",
     "text": [
      "12\n",
      "34\n",
      "marta\n"
     ]
    }
   ],
   "source": [
    "for i in tp:\n",
    "    print(i)"
   ]
  },
  {
   "cell_type": "code",
   "execution_count": 5,
   "id": "cccd4a3a",
   "metadata": {},
   "outputs": [
    {
     "name": "stdout",
     "output_type": "stream",
     "text": [
      "0\n",
      "1\n",
      "2\n",
      "3\n",
      "4\n"
     ]
    }
   ],
   "source": [
    "# Imprimindo os valores no intervalo entre 0 e 5 (exclusive)\n",
    "for contador in range(0,5):\n",
    "    print(contador)"
   ]
  },
  {
   "cell_type": "code",
   "execution_count": 6,
   "id": "746087e2",
   "metadata": {},
   "outputs": [
    {
     "name": "stdout",
     "output_type": "stream",
     "text": [
      "0\n",
      "2\n",
      "4\n",
      "6\n",
      "8\n",
      "10\n",
      "12\n",
      "14\n",
      "16\n",
      "18\n",
      "20\n",
      "22\n",
      "24\n",
      "26\n",
      "28\n",
      "30\n",
      "32\n",
      "34\n",
      "36\n",
      "38\n",
      "40\n",
      "42\n",
      "44\n",
      "46\n",
      "48\n",
      "50\n",
      "52\n",
      "54\n",
      "56\n",
      "58\n",
      "60\n",
      "62\n",
      "64\n",
      "66\n",
      "68\n",
      "70\n",
      "72\n",
      "74\n",
      "76\n",
      "78\n",
      "80\n",
      "82\n",
      "84\n",
      "86\n",
      "88\n",
      "90\n",
      "92\n",
      "94\n",
      "96\n",
      "98\n",
      "100\n"
     ]
    }
   ],
   "source": [
    "# Listando os números no intervalo entre 0 e 101, com incremento em 2\n",
    "for i in range(0,101,2):  \n",
    "    print(i)"
   ]
  },
  {
   "cell_type": "code",
   "execution_count": 7,
   "id": "0c609cb6",
   "metadata": {},
   "outputs": [
    {
     "name": "stdout",
     "output_type": "stream",
     "text": [
      "P\n",
      "y\n",
      "t\n",
      "h\n",
      "o\n",
      "n\n",
      " \n",
      "é\n",
      " \n",
      "u\n",
      "m\n",
      "a\n",
      " \n",
      "l\n",
      "i\n",
      "n\n",
      "g\n",
      "u\n",
      "a\n",
      "g\n",
      "e\n",
      "m\n",
      " \n",
      "d\n",
      "e\n",
      " \n",
      "p\n",
      "r\n",
      "o\n",
      "g\n",
      "r\n",
      "a\n",
      "m\n",
      "a\n",
      "ç\n",
      "ã\n",
      "o\n",
      " \n",
      "d\n",
      "i\n",
      "v\n",
      "e\n",
      "r\n",
      "t\n",
      "i\n",
      "d\n",
      "a\n",
      "!\n"
     ]
    }
   ],
   "source": [
    "# Strings também são sequências\n",
    "for caracter in 'Python é uma linguagem de programação divertida!':\n",
    "    print (caracter)"
   ]
  },
  {
   "cell_type": "code",
   "execution_count": 8,
   "id": "5aa44f63",
   "metadata": {},
   "outputs": [
    {
     "name": "stdout",
     "output_type": "stream",
     "text": [
      "k1\n",
      "k2\n",
      "k3\n"
     ]
    }
   ],
   "source": [
    "dict = {'k1':'Python','k2':'R','k3':'Scala'}\n",
    "for item in dict:\n",
    "    print(item)"
   ]
  },
  {
   "cell_type": "code",
   "execution_count": 9,
   "id": "1e8c4d38",
   "metadata": {},
   "outputs": [
    {
     "name": "stdout",
     "output_type": "stream",
     "text": [
      "k1 Python\n",
      "k2 R\n",
      "k3 Scala\n"
     ]
    }
   ],
   "source": [
    "# Imprimindo chave e valor do dicionário. Usando o método items() para retornar os itens de um dicionário\n",
    "for k,v in dict.items():\n",
    "    print (k,v)"
   ]
  },
  {
   "cell_type": "code",
   "execution_count": 10,
   "id": "7e2f2bd1",
   "metadata": {},
   "outputs": [
    {
     "name": "stdout",
     "output_type": "stream",
     "text": [
      "Python\n",
      "R\n",
      "Scala\n"
     ]
    }
   ],
   "source": [
    "for v in dict.values():\n",
    "    print (v)"
   ]
  }
 ],
 "metadata": {
  "kernelspec": {
   "display_name": "Python 3 (ipykernel)",
   "language": "python",
   "name": "python3"
  },
  "language_info": {
   "codemirror_mode": {
    "name": "ipython",
    "version": 3
   },
   "file_extension": ".py",
   "mimetype": "text/x-python",
   "name": "python",
   "nbconvert_exporter": "python",
   "pygments_lexer": "ipython3",
   "version": "3.9.12"
  }
 },
 "nbformat": 4,
 "nbformat_minor": 5
}
